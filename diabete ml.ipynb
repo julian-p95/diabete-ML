{
 "cells": [
  {
   "cell_type": "code",
   "execution_count": 1,
   "id": "f50db698",
   "metadata": {},
   "outputs": [
    {
     "data": {
      "text/html": [
       "<div>\n",
       "<style scoped>\n",
       "    .dataframe tbody tr th:only-of-type {\n",
       "        vertical-align: middle;\n",
       "    }\n",
       "\n",
       "    .dataframe tbody tr th {\n",
       "        vertical-align: top;\n",
       "    }\n",
       "\n",
       "    .dataframe thead th {\n",
       "        text-align: right;\n",
       "    }\n",
       "</style>\n",
       "<table border=\"1\" class=\"dataframe\">\n",
       "  <thead>\n",
       "    <tr style=\"text-align: right;\">\n",
       "      <th></th>\n",
       "      <th>grossesses</th>\n",
       "      <th>glucose</th>\n",
       "      <th>pression</th>\n",
       "      <th>insuline</th>\n",
       "      <th>imc</th>\n",
       "      <th>K</th>\n",
       "      <th>age</th>\n",
       "      <th>M</th>\n",
       "    </tr>\n",
       "  </thead>\n",
       "  <tbody>\n",
       "    <tr>\n",
       "      <th>0</th>\n",
       "      <td>2</td>\n",
       "      <td>104</td>\n",
       "      <td>75</td>\n",
       "      <td>28</td>\n",
       "      <td>39.020106</td>\n",
       "      <td>0.145273</td>\n",
       "      <td>35</td>\n",
       "      <td>1</td>\n",
       "    </tr>\n",
       "    <tr>\n",
       "      <th>1</th>\n",
       "      <td>10</td>\n",
       "      <td>121</td>\n",
       "      <td>64</td>\n",
       "      <td>517</td>\n",
       "      <td>30.672607</td>\n",
       "      <td>0.154211</td>\n",
       "      <td>43</td>\n",
       "      <td>1</td>\n",
       "    </tr>\n",
       "    <tr>\n",
       "      <th>2</th>\n",
       "      <td>2</td>\n",
       "      <td>153</td>\n",
       "      <td>59</td>\n",
       "      <td>87</td>\n",
       "      <td>26.295668</td>\n",
       "      <td>1.029407</td>\n",
       "      <td>22</td>\n",
       "      <td>1</td>\n",
       "    </tr>\n",
       "    <tr>\n",
       "      <th>3</th>\n",
       "      <td>9</td>\n",
       "      <td>145</td>\n",
       "      <td>47</td>\n",
       "      <td>226</td>\n",
       "      <td>46.077807</td>\n",
       "      <td>0.086713</td>\n",
       "      <td>37</td>\n",
       "      <td>1</td>\n",
       "    </tr>\n",
       "    <tr>\n",
       "      <th>4</th>\n",
       "      <td>3</td>\n",
       "      <td>102</td>\n",
       "      <td>76</td>\n",
       "      <td>315</td>\n",
       "      <td>28.335339</td>\n",
       "      <td>0.109751</td>\n",
       "      <td>21</td>\n",
       "      <td>1</td>\n",
       "    </tr>\n",
       "  </tbody>\n",
       "</table>\n",
       "</div>"
      ],
      "text/plain": [
       "   grossesses  glucose  pression  insuline        imc         K  age  M\n",
       "0           2      104        75        28  39.020106  0.145273   35  1\n",
       "1          10      121        64       517  30.672607  0.154211   43  1\n",
       "2           2      153        59        87  26.295668  1.029407   22  1\n",
       "3           9      145        47       226  46.077807  0.086713   37  1\n",
       "4           3      102        76       315  28.335339  0.109751   21  1"
      ]
     },
     "execution_count": 1,
     "metadata": {},
     "output_type": "execute_result"
    }
   ],
   "source": [
    "import pandas as pd\n",
    "\n",
    "import pylab as pl\n",
    "pl.style.use('bmh')\n",
    "\n",
    "import seaborn as sn\n",
    "from seaborn import boxplot\n",
    "pl.style.use('seaborn-v0_8-darkgrid')\n",
    "\n",
    "\n",
    "\n",
    "T=pd.read_csv(r'C:\\Users\\julia\\Documents\\python36\\datasource\\data\\diabete_population.csv')\n",
    "P=pd.read_csv(r'C:\\Users\\julia\\Documents\\python36\\datasource\\data\\diabete_patients.csv')\n",
    "T.head()"
   ]
  },
  {
   "cell_type": "code",
   "execution_count": 2,
   "id": "91a1478d",
   "metadata": {},
   "outputs": [
    {
     "data": {
      "text/plain": [
       "['grossesses', 'glucose', 'pression', 'insuline', 'imc', 'K', 'age']"
      ]
     },
     "execution_count": 2,
     "metadata": {},
     "output_type": "execute_result"
    }
   ],
   "source": [
    "# Get the parameters, excluding the \"M\" column\n",
    "paramètres = [c for c in T.columns if c != \"M\"]\n",
    "paramètres"
   ]
  },
  {
   "cell_type": "code",
   "execution_count": 3,
   "id": "24812038",
   "metadata": {},
   "outputs": [
    {
     "data": {
      "text/plain": [
       "grossesses      3.820000\n",
       "glucose       107.422500\n",
       "pression       72.152500\n",
       "insuline      155.992500\n",
       "imc            31.853995\n",
       "K               0.427129\n",
       "age            30.780000\n",
       "dtype: float64"
      ]
     },
     "execution_count": 3,
     "metadata": {},
     "output_type": "execute_result"
    }
   ],
   "source": [
    "# Calculate the mean of each column in T, excluding the \"M\" column\n",
    "Moy = T[paramètres].mean()\n",
    "Moy"
   ]
  },
  {
   "cell_type": "code",
   "execution_count": 4,
   "id": "84643ad0",
   "metadata": {},
   "outputs": [
    {
     "data": {
      "text/plain": [
       "grossesses      3.522442\n",
       "glucose        31.265380\n",
       "pression       16.399672\n",
       "insuline      140.274187\n",
       "imc             9.630331\n",
       "K               0.424546\n",
       "age            12.597087\n",
       "dtype: float64"
      ]
     },
     "execution_count": 4,
     "metadata": {},
     "output_type": "execute_result"
    }
   ],
   "source": [
    "# Calculate the standard deviation of each column in T, excluding the \"M\" column\n",
    "Sig = T[paramètres].std(ddof=0)\n",
    "Sig"
   ]
  },
  {
   "cell_type": "code",
   "execution_count": 5,
   "id": "064ef637",
   "metadata": {},
   "outputs": [
    {
     "data": {
      "image/png": "[encoded data removed]",
      "text/plain": [
       "<Figure size 1200x400 with 1 Axes>"
      ]
     },
     "metadata": {},
     "output_type": "display_data"
    }
   ],
   "source": [
    "# Plot the box plot of each parameter\n",
    "pl.figure(figsize=(12, 4))\n",
    "boxplot(data = T[paramètres],\n",
    "        color='lightblue',\n",
    "        whis=[0,100])\n",
    "pl.show()"
   ]
  },
  {
   "cell_type": "code",
   "execution_count": 18,
   "id": "2a3bb5d6",
   "metadata": {},
   "outputs": [
    {
     "data": {
      "text/html": [
       "<div>\n",
       "<style scoped>\n",
       "    .dataframe tbody tr th:only-of-type {\n",
       "        vertical-align: middle;\n",
       "    }\n",
       "\n",
       "    .dataframe tbody tr th {\n",
       "        vertical-align: top;\n",
       "    }\n",
       "\n",
       "    .dataframe thead th {\n",
       "        text-align: right;\n",
       "    }\n",
       "</style>\n",
       "<table border=\"1\" class=\"dataframe\">\n",
       "  <thead>\n",
       "    <tr style=\"text-align: right;\">\n",
       "      <th></th>\n",
       "      <th>grossesses</th>\n",
       "      <th>glucose</th>\n",
       "      <th>pression</th>\n",
       "      <th>insuline</th>\n",
       "      <th>imc</th>\n",
       "      <th>K</th>\n",
       "      <th>age</th>\n",
       "    </tr>\n",
       "  </thead>\n",
       "  <tbody>\n",
       "    <tr>\n",
       "      <th>0</th>\n",
       "      <td>1.186677</td>\n",
       "      <td>-0.013513</td>\n",
       "      <td>-0.253206</td>\n",
       "      <td>0.128374</td>\n",
       "      <td>-0.706641</td>\n",
       "      <td>-0.711474</td>\n",
       "      <td>-0.696987</td>\n",
       "    </tr>\n",
       "    <tr>\n",
       "      <th>1</th>\n",
       "      <td>-1.084475</td>\n",
       "      <td>-1.132962</td>\n",
       "      <td>0.722423</td>\n",
       "      <td>0.691556</td>\n",
       "      <td>-0.231660</td>\n",
       "      <td>0.965497</td>\n",
       "      <td>1.049449</td>\n",
       "    </tr>\n",
       "    <tr>\n",
       "      <th>2</th>\n",
       "      <td>-0.516687</td>\n",
       "      <td>2.097448</td>\n",
       "      <td>0.051678</td>\n",
       "      <td>3.243701</td>\n",
       "      <td>-0.076218</td>\n",
       "      <td>1.584572</td>\n",
       "      <td>2.319584</td>\n",
       "    </tr>\n",
       "    <tr>\n",
       "      <th>3</th>\n",
       "      <td>-0.232793</td>\n",
       "      <td>-0.045498</td>\n",
       "      <td>0.112655</td>\n",
       "      <td>0.342240</td>\n",
       "      <td>-0.500231</td>\n",
       "      <td>-0.768260</td>\n",
       "      <td>-0.776370</td>\n",
       "    </tr>\n",
       "    <tr>\n",
       "      <th>4</th>\n",
       "      <td>1.470571</td>\n",
       "      <td>0.914030</td>\n",
       "      <td>-0.619067</td>\n",
       "      <td>-0.007075</td>\n",
       "      <td>0.652177</td>\n",
       "      <td>0.172542</td>\n",
       "      <td>-0.696987</td>\n",
       "    </tr>\n",
       "  </tbody>\n",
       "</table>\n",
       "</div>"
      ],
      "text/plain": [
       "   grossesses   glucose  pression  insuline       imc         K       age\n",
       "0    1.186677 -0.013513 -0.253206  0.128374 -0.706641 -0.711474 -0.696987\n",
       "1   -1.084475 -1.132962  0.722423  0.691556 -0.231660  0.965497  1.049449\n",
       "2   -0.516687  2.097448  0.051678  3.243701 -0.076218  1.584572  2.319584\n",
       "3   -0.232793 -0.045498  0.112655  0.342240 -0.500231 -0.768260 -0.776370\n",
       "4    1.470571  0.914030 -0.619067 -0.007075  0.652177  0.172542 -0.696987"
      ]
     },
     "execution_count": 18,
     "metadata": {},
     "output_type": "execute_result"
    }
   ],
   "source": [
    "# Normalize the entire DataFrame\n",
    "Pn = (P[paramètres] - Moy) / Sig\n",
    "Pn.head()"
   ]
  },
  {
   "cell_type": "code",
   "execution_count": 19,
   "id": "8c6717d3",
   "metadata": {},
   "outputs": [
    {
     "data": {
      "text/html": [
       "<div>\n",
       "<style scoped>\n",
       "    .dataframe tbody tr th:only-of-type {\n",
       "        vertical-align: middle;\n",
       "    }\n",
       "\n",
       "    .dataframe tbody tr th {\n",
       "        vertical-align: top;\n",
       "    }\n",
       "\n",
       "    .dataframe thead th {\n",
       "        text-align: right;\n",
       "    }\n",
       "</style>\n",
       "<table border=\"1\" class=\"dataframe\">\n",
       "  <thead>\n",
       "    <tr style=\"text-align: right;\">\n",
       "      <th></th>\n",
       "      <th>grossesses</th>\n",
       "      <th>glucose</th>\n",
       "      <th>pression</th>\n",
       "      <th>insuline</th>\n",
       "      <th>imc</th>\n",
       "      <th>K</th>\n",
       "      <th>age</th>\n",
       "    </tr>\n",
       "  </thead>\n",
       "  <tbody>\n",
       "    <tr>\n",
       "      <th>0</th>\n",
       "      <td>-0.516687</td>\n",
       "      <td>-0.109466</td>\n",
       "      <td>0.173632</td>\n",
       "      <td>-0.912445</td>\n",
       "      <td>0.744119</td>\n",
       "      <td>-0.663899</td>\n",
       "      <td>0.334998</td>\n",
       "    </tr>\n",
       "    <tr>\n",
       "      <th>1</th>\n",
       "      <td>1.754464</td>\n",
       "      <td>0.434266</td>\n",
       "      <td>-0.497114</td>\n",
       "      <td>2.573585</td>\n",
       "      <td>-0.122674</td>\n",
       "      <td>-0.642846</td>\n",
       "      <td>0.970066</td>\n",
       "    </tr>\n",
       "    <tr>\n",
       "      <th>2</th>\n",
       "      <td>-0.516687</td>\n",
       "      <td>1.457763</td>\n",
       "      <td>-0.801998</td>\n",
       "      <td>-0.491840</td>\n",
       "      <td>-0.577169</td>\n",
       "      <td>1.418643</td>\n",
       "      <td>-0.696987</td>\n",
       "    </tr>\n",
       "    <tr>\n",
       "      <th>3</th>\n",
       "      <td>1.470571</td>\n",
       "      <td>1.201888</td>\n",
       "      <td>-1.533720</td>\n",
       "      <td>0.499076</td>\n",
       "      <td>1.476981</td>\n",
       "      <td>-0.801835</td>\n",
       "      <td>0.493765</td>\n",
       "    </tr>\n",
       "    <tr>\n",
       "      <th>4</th>\n",
       "      <td>-0.232793</td>\n",
       "      <td>-0.173435</td>\n",
       "      <td>0.234608</td>\n",
       "      <td>1.133548</td>\n",
       "      <td>-0.365372</td>\n",
       "      <td>-0.747569</td>\n",
       "      <td>-0.776370</td>\n",
       "    </tr>\n",
       "  </tbody>\n",
       "</table>\n",
       "</div>"
      ],
      "text/plain": [
       "   grossesses   glucose  pression  insuline       imc         K       age\n",
       "0   -0.516687 -0.109466  0.173632 -0.912445  0.744119 -0.663899  0.334998\n",
       "1    1.754464  0.434266 -0.497114  2.573585 -0.122674 -0.642846  0.970066\n",
       "2   -0.516687  1.457763 -0.801998 -0.491840 -0.577169  1.418643 -0.696987\n",
       "3    1.470571  1.201888 -1.533720  0.499076  1.476981 -0.801835  0.493765\n",
       "4   -0.232793 -0.173435  0.234608  1.133548 -0.365372 -0.747569 -0.776370"
      ]
     },
     "execution_count": 19,
     "metadata": {},
     "output_type": "execute_result"
    }
   ],
   "source": [
    "Tn=(T[paramètres]-Moy)/Sig\n",
    "Tn.head()"
   ]
  },
  {
   "cell_type": "code",
   "execution_count": null,
   "id": "0d6480cc",
   "metadata": {},
   "outputs": [],
   "source": []
  },
  {
   "cell_type": "markdown",
   "id": "237b7bb9",
   "metadata": {},
   "source": [
    "# step 3"
   ]
  },
  {
   "cell_type": "code",
   "execution_count": 20,
   "id": "fbf3cc25",
   "metadata": {},
   "outputs": [
    {
     "data": {
      "text/html": [
       "<div>\n",
       "<style scoped>\n",
       "    .dataframe tbody tr th:only-of-type {\n",
       "        vertical-align: middle;\n",
       "    }\n",
       "\n",
       "    .dataframe tbody tr th {\n",
       "        vertical-align: top;\n",
       "    }\n",
       "\n",
       "    .dataframe thead th {\n",
       "        text-align: right;\n",
       "    }\n",
       "</style>\n",
       "<table border=\"1\" class=\"dataframe\">\n",
       "  <thead>\n",
       "    <tr style=\"text-align: right;\">\n",
       "      <th></th>\n",
       "      <th>grossesses</th>\n",
       "      <th>glucose</th>\n",
       "      <th>pression</th>\n",
       "      <th>insuline</th>\n",
       "      <th>imc</th>\n",
       "      <th>K</th>\n",
       "      <th>age</th>\n",
       "      <th>M</th>\n",
       "    </tr>\n",
       "  </thead>\n",
       "  <tbody>\n",
       "    <tr>\n",
       "      <th>0</th>\n",
       "      <td>-0.516687</td>\n",
       "      <td>-0.109466</td>\n",
       "      <td>0.173632</td>\n",
       "      <td>-0.912445</td>\n",
       "      <td>0.744119</td>\n",
       "      <td>-0.663899</td>\n",
       "      <td>0.334998</td>\n",
       "      <td>1</td>\n",
       "    </tr>\n",
       "    <tr>\n",
       "      <th>1</th>\n",
       "      <td>1.754464</td>\n",
       "      <td>0.434266</td>\n",
       "      <td>-0.497114</td>\n",
       "      <td>2.573585</td>\n",
       "      <td>-0.122674</td>\n",
       "      <td>-0.642846</td>\n",
       "      <td>0.970066</td>\n",
       "      <td>1</td>\n",
       "    </tr>\n",
       "    <tr>\n",
       "      <th>2</th>\n",
       "      <td>-0.516687</td>\n",
       "      <td>1.457763</td>\n",
       "      <td>-0.801998</td>\n",
       "      <td>-0.491840</td>\n",
       "      <td>-0.577169</td>\n",
       "      <td>1.418643</td>\n",
       "      <td>-0.696987</td>\n",
       "      <td>1</td>\n",
       "    </tr>\n",
       "    <tr>\n",
       "      <th>3</th>\n",
       "      <td>1.470571</td>\n",
       "      <td>1.201888</td>\n",
       "      <td>-1.533720</td>\n",
       "      <td>0.499076</td>\n",
       "      <td>1.476981</td>\n",
       "      <td>-0.801835</td>\n",
       "      <td>0.493765</td>\n",
       "      <td>1</td>\n",
       "    </tr>\n",
       "    <tr>\n",
       "      <th>4</th>\n",
       "      <td>-0.232793</td>\n",
       "      <td>-0.173435</td>\n",
       "      <td>0.234608</td>\n",
       "      <td>1.133548</td>\n",
       "      <td>-0.365372</td>\n",
       "      <td>-0.747569</td>\n",
       "      <td>-0.776370</td>\n",
       "      <td>1</td>\n",
       "    </tr>\n",
       "  </tbody>\n",
       "</table>\n",
       "</div>"
      ],
      "text/plain": [
       "   grossesses   glucose  pression  insuline       imc         K       age  M\n",
       "0   -0.516687 -0.109466  0.173632 -0.912445  0.744119 -0.663899  0.334998  1\n",
       "1    1.754464  0.434266 -0.497114  2.573585 -0.122674 -0.642846  0.970066  1\n",
       "2   -0.516687  1.457763 -0.801998 -0.491840 -0.577169  1.418643 -0.696987  1\n",
       "3    1.470571  1.201888 -1.533720  0.499076  1.476981 -0.801835  0.493765  1\n",
       "4   -0.232793 -0.173435  0.234608  1.133548 -0.365372 -0.747569 -0.776370  1"
      ]
     },
     "execution_count": 20,
     "metadata": {},
     "output_type": "execute_result"
    }
   ],
   "source": [
    "Tn['M']=T['M']\n",
    "Tn.head()"
   ]
  },
  {
   "cell_type": "code",
   "execution_count": 21,
   "id": "7518a8f1",
   "metadata": {},
   "outputs": [
    {
     "data": {
      "application/vnd.plotly.v1+json": {
       "config": {
        "plotlyServerURL": "https://plot.ly"
       },
       "data": [
        {
         "hovertemplate": "color=1<br>insuline=%{x}<br>glucose=%{y}<br>pression=%{z}<extra></extra>",
         "legendgroup": "1",
         "marker": {
          "color": "gray",
          "opacity": 0.6,
          "symbol": "circle"
         },
         "mode": "markers",
         "name": "1",
         "scene": "scene",
         "showlegend": true,
         "type": "scatter3d",
         "x": [
          -0.9124451408026844,
          2.573584695730805,
          -0.4918403138998707,
          0.4990761427016733,
          1.1335478307415108,
          -0.6843204889231922,
          0.7771030621798043,
          3.906688130151587,
          0.5204628288153756,
          3.3720209773090275,
          0.6202673640126535,
          -0.5417425814985096,
          0.6202673640126535,
          4.29164848019823,
          -0.7057071750368946,
          0.8341342251496774,
          3.6856923736433287,
          -0.5987737444683826,
          0.4135293982468637,
          -0.5987737444683826,
          -0.7627383380067676,
          -0.9195740361739185,
          0.3351115491632883,
          -0.02846211476965231,
          1.2119656798250862,
          -0.07123548699705709,
          -0.948089617658855,
          -0.7484805472642994,
          1.4400903317045783,
          0.7414585853236336,
          -0.9195740361739185,
          1.7822773095238165,
          5.3466715284207345e-05,
          0.0713424204276255,
          0.7699741668085702,
          0.15688916488243504,
          -0.5773870583546803,
          -0.9552185130300891,
          0.21392032785230808,
          -0.7057071750368946,
          -0.6059026398396168,
          1.5612815530155586,
          -0.03559101014088644,
          0.22817811859477635,
          -0.9979918852574939,
          -0.5274847907560414,
          -0.47758252315740246,
          -0.44906694167246597,
          -0.4847114185286366,
          -0.4847114185286366,
          -0.44906694167246597,
          0.47056056121673673,
          -0.613031535210851,
          3.9138170255228206,
          0.021440152828986595,
          0.926809864975721,
          -0.9267029315451526,
          -0.7128360704081287,
          0.4563027704742685,
          -0.03559101014088644,
          0.7557163760661019,
          1.3545435872497689,
          -0.6629338028094898,
          -0.5132270000135731,
          0.4563027704742685,
          -0.9979918852574939,
          1.2975124242798957,
          -0.4918403138998707,
          -0.5845159537259144,
          0.9553254464606575,
          -0.8981873500602161,
          -0.07836438236829121,
          0.5347206195578439,
          -0.43480915092999767,
          1.4472192270758124,
          0.25669370007971287,
          -0.5274847907560414,
          -1.0122496759999622,
          -0.43480915092999767,
          -0.6771915935519581,
          0.2923381769358835,
          -0.506098104642339,
          -0.5987737444683826,
          -0.4633247324149342,
          1.368801377992237,
          0.6202673640126535,
          0.812747539035975,
          2.4452645790485907,
          0.3351115491632883,
          -0.6059026398396168,
          1.3331569011360664,
          0.4634316658455026,
          -0.9195740361739185,
          0.04995573431392311,
          -0.5916448490971485,
          -0.8768006639465137,
          1.5684104483867927,
          -0.9409607222876208,
          0.35649823527699065,
          1.3260280057648324,
          1.2761257381661935,
          2.1743665549416935,
          0.021440152828986595,
          -0.8910584546889819,
          0.3778849213906931,
          -0.10687996385322773,
          0.014311257457752465,
          -0.8839295593177479,
          -0.6059026398396168,
          0.17827585099613744,
          1.361672482621003,
          1.9533707984334356,
          -0.4847114185286366,
          0.819876434407209,
          -0.04271990551212057,
          -0.8554139778328114,
          -0.6059026398396168,
          1.42583254096211,
          1.5113792854169197,
          -0.506098104642339,
          0.32798265379205416,
          -0.014204324027184051,
          -0.04271990551212057,
          1.1763212029689156,
          1.2262234705675545,
          -1.0051207806287281,
          -0.5132270000135731,
          -0.506098104642339,
          1.4044458548484078,
          0.1640180602536692,
          -0.5488714768697438,
          -0.014204324027184051,
          0.4206582936180978,
          -0.02133321939841818,
          1.2761257381661935,
          -0.7270938611505969,
          0.37075602601945895,
          0.39927160750439544,
          -0.4847114185286366,
          0.3065959676783518,
          2.2242688225403326,
          -0.6985782796656604,
          -0.5274847907560414,
          0.3778849213906931,
          -0.014204324027184051,
          0.8270053297784432,
          -0.7912539194917042,
          0.983841027945594,
          0.44204497973180024,
          2.6021002772157416,
          1.3331569011360664,
          -0.7128360704081287,
          -0.44906694167246597,
          0.08560021117009375,
          -0.6272893259533192,
          3.1011229532021303,
          2.131593182714289,
          3.749852431984436,
          -0.506098104642339,
          0.5846228871564828,
          -1.0051207806287281,
          1.1478056214839791,
          -0.07836438236829121,
          -0.6415471166957875,
          -0.4633247324149342,
          0.3065959676783518,
          -0.7484805472642994,
          0.44204497973180024,
          0.14976026951120092,
          -0.6344182213245533,
          2.1458509734567572,
          1.3260280057648324,
          -0.5702581629834461,
          -0.44906694167246597,
          0.7200718992099313,
          0.7485874806948678,
          -0.5845159537259144,
          0.5204628288153756,
          1.696730565069007,
          -0.9552185130300891,
          0.14976026951120092,
          0.4135293982468637,
          0.9553254464606575,
          0.64878294549759,
          0.40640050287562957,
          -0.4847114185286366,
          0.9909699233168282,
          2.1102064966005867,
          -0.6272893259533192,
          1.3830591687347054,
          1.311770215022364,
          0.8270053297784432,
          -0.4561958370437001,
          2.08169091511565,
          -0.04271990551212057,
          -0.7342227565218311,
          0.2923381769358835,
          -0.43480915092999767,
          0.20679143248107396,
          -0.5417425814985096
         ],
         "y": [
          -0.10946612474839269,
          0.4342662699112643,
          1.457762542211795,
          1.2018884741366624,
          -0.17343464176717588,
          0.27434497736430635,
          0.4022820114018727,
          -1.804631825746147,
          0.14640794332674,
          -0.781135553445616,
          -0.20541890027656745,
          0.3702977528924811,
          0.690140337986397,
          -0.26938741729535065,
          -0.07748186623900111,
          0.6261718209676138,
          -0.3013716758047422,
          0.9140301475521381,
          -0.045497607729609514,
          -1.1009781385395319,
          -0.23740315878595905,
          0.3063292358736979,
          0.33831349438308955,
          -0.10946612474839269,
          2.1294319709090184,
          -1.4208207236334478,
          0.4662505284206559,
          2.16141622941841,
          2.0974477123996267,
          0.3702977528924811,
          0.8820458890427465,
          0.9460144060615298,
          2.1294319709090184,
          0.11442368481734842,
          -0.7491512949362245,
          -1.164946655558315,
          0.05045516779856525,
          0.5622033039488307,
          0.05045516779856525,
          1.233872732646054,
          -0.23740315878595905,
          -0.3013716758047422,
          0.01847090928917366,
          -0.42930870984230857,
          -0.36534019282352537,
          -0.26938741729535065,
          -0.045497607729609514,
          0.3702977528924811,
          -0.26938741729535065,
          -0.26938741729535065,
          0.9460144060615298,
          -0.14145038325778428,
          2.0654634538902354,
          -1.2608994310864898,
          0.4022820114018727,
          0.24236071885491478,
          -0.3013716758047422,
          2.001494936871452,
          0.7541088550051802,
          -0.3333559343141338,
          0.9779986645709213,
          -0.8451040704643992,
          -1.9005846012743217,
          -0.42930870984230857,
          -0.013513349220217928,
          -1.0689938800301404,
          1.3618097666836204,
          -0.10946612474839269,
          0.5622033039488307,
          0.01847090928917366,
          -0.013513349220217928,
          -1.2928836895958815,
          0.33831349438308955,
          -0.26938741729535065,
          0.27434497736430635,
          -0.26938741729535065,
          -0.3333559343141338,
          -1.4208207236334478,
          -0.013513349220217928,
          0.8820458890427465,
          2.001494936871452,
          0.3702977528924811,
          -0.26938741729535065,
          -0.36534019282352537,
          0.5941875624582222,
          -0.013513349220217928,
          -0.17343464176717588,
          -1.7726475672367552,
          -0.013513349220217928,
          -0.26938741729535065,
          2.2573690049465847,
          -1.9005846012743217,
          0.11442368481734842,
          -0.8451040704643992,
          -1.2928836895958815,
          -0.045497607729609514,
          2.2573690049465847,
          -0.14145038325778428,
          -1.9005846012743217,
          -0.17343464176717588,
          -1.5807420161804058,
          -0.20541890027656745,
          -0.20541890027656745,
          -0.17343464176717588,
          -1.1969309140677067,
          0.33831349438308955,
          -0.17343464176717588,
          0.08243942630795684,
          -0.045497607729609514,
          -0.10946612474839269,
          -0.7171670364268329,
          1.2978412496648373,
          -1.8366160842555384,
          1.2978412496648373,
          -1.1969309140677067,
          -1.1329623970489235,
          -0.20541890027656745,
          -0.6851827779174413,
          -0.07748186623900111,
          0.05045516779856525,
          -0.36534019282352537,
          -1.548757757671014,
          0.4662505284206559,
          1.233872732646054,
          0.33831349438308955,
          0.33831349438308955,
          0.08243942630795684,
          -1.6766947917085806,
          0.49823478693004747,
          1.0099829230803128,
          2.641180107059284,
          0.4662505284206559,
          2.321337521965368,
          -1.548757757671014,
          -0.23740315878595905,
          0.14640794332674,
          -0.07748186623900111,
          1.9695106783620606,
          -1.5807420161804058,
          0.3702977528924811,
          2.5132430730217177,
          -1.3888364651240561,
          1.457762542211795,
          2.2573690049465847,
          0.11442368481734842,
          -0.07748186623900111,
          0.9779986645709213,
          0.9140301475521381,
          -0.20541890027656745,
          -0.6531985194080497,
          -0.7491512949362245,
          -0.3013716758047422,
          -0.3013716758047422,
          0.7860931135145718,
          -0.23740315878595905,
          0.27434497736430635,
          -0.10946612474839269,
          0.3702977528924811,
          -0.20541890027656745,
          2.2253847464371934,
          0.4342662699112643,
          0.1783922018361316,
          -0.17343464176717588,
          -0.8770883289737909,
          1.3298255081742287,
          -0.07748186623900111,
          -0.013513349220217928,
          0.14640794332674,
          0.21037646034552318,
          -0.20541890027656745,
          -0.045497607729609514,
          0.05045516779856525,
          0.8500616305333549,
          0.11442368481734842,
          0.08243942630795684,
          0.7541088550051802,
          -0.013513349220217928,
          -1.9325688597837132,
          -0.013513349220217928,
          -0.9730411045019656,
          -0.3013716758047422,
          0.1783922018361316,
          2.2893532634559763,
          -1.548757757671014,
          0.9779986645709213,
          -1.1969309140677067,
          -0.941056845992574,
          -0.14145038325778428,
          0.27434497736430635,
          0.05045516779856525,
          1.0419671815897045,
          -0.6851827779174413,
          0.05045516779856525,
          -0.20541890027656745,
          0.4662505284206559,
          0.49823478693004747,
          0.4022820114018727,
          0.21037646034552318,
          0.14640794332674,
          -1.86860034276493
         ],
         "z": [
          0.173631520751632,
          -0.4971135989210473,
          -0.8019977442268106,
          -1.5337196929606425,
          0.23460834981278467,
          0.6614461532408533,
          0.4175388369962426,
          -0.3141831117375893,
          0.7833998113631586,
          0.11265469169047933,
          0.05167786262932667,
          0.23460834981278467,
          -0.4971135989210473,
          0.2955851788739373,
          -0.7410209151656579,
          -0.9239514023491159,
          0.9663302985466166,
          -0.3141831117375893,
          1.2102376147912273,
          0.2955851788739373,
          0.6614461532408533,
          -1.2288355476548791,
          1.637075418219296,
          0.9053534694854639,
          0.6004693241797007,
          -1.0459050604714213,
          1.0273071276077692,
          0.9053534694854639,
          1.2102376147912273,
          0.6004693241797007,
          0.4175388369962426,
          1.5760985891581432,
          0.2955851788739373,
          -1.5946965220217952,
          0.4175388369962426,
          0.9053534694854639,
          0.23460834981278467,
          0.35656200793508996,
          0.23460834981278467,
          0.173631520751632,
          0.8443766404243113,
          1.0273071276077692,
          0.4785156660573953,
          1.5151217600969906,
          -0.43613676985989464,
          1.1492607857300745,
          1.1492607857300745,
          -1.7166501801441005,
          -0.8019977442268106,
          -0.43613676985989464,
          0.23460834981278467,
          -1.3507892057771844,
          -0.3141831117375893,
          -0.6800440861045053,
          0.23460834981278467,
          -1.5946965220217952,
          1.2712144438523798,
          1.393168101974685,
          -0.07027579549297865,
          0.35656200793508996,
          2.2468437088308226,
          -0.37515994079874193,
          -1.6556733510829478,
          -0.8629745732879632,
          0.7833998113631586,
          -1.3507892057771844,
          0.173631520751632,
          -0.37515994079874193,
          1.0273071276077692,
          0.9053534694854639,
          0.5394924951185479,
          1.637075418219296,
          -1.5337196929606425,
          0.722422982302006,
          1.4541449310358379,
          0.11265469169047933,
          -1.5337196929606425,
          0.05167786262932667,
          -1.4117660348383372,
          -0.009298966431825989,
          0.173631520751632,
          0.173631520751632,
          -0.6800440861045053,
          -0.6190672570433526,
          0.2955851788739373,
          -0.6190672570433526,
          0.4785156660573953,
          -0.07027579549297865,
          -1.5946965220217952,
          -0.1312526245541313,
          0.23460834981278467,
          0.23460834981278467,
          1.6980522472804485,
          1.4541449310358379,
          0.6004693241797007,
          0.7833998113631586,
          0.5394924951185479,
          -0.4971135989210473,
          0.5394924951185479,
          -0.5580904279822,
          -0.6800440861045053,
          -0.43613676985989464,
          0.05167786262932667,
          0.6614461532408533,
          0.2955851788739373,
          -0.9239514023491159,
          -1.2288355476548791,
          -0.3141831117375893,
          0.4175388369962426,
          -0.37515994079874193,
          0.173631520751632,
          0.5394924951185479,
          -0.4971135989210473,
          -0.6190672570433526,
          0.4785156660573953,
          0.7833998113631586,
          0.722422982302006,
          1.637075418219296,
          -0.37515994079874193,
          -0.8019977442268106,
          1.5760985891581432,
          1.5151217600969906,
          1.393168101974685,
          -2.7532562741836957,
          0.4785156660573953,
          -0.9849282314102685,
          -0.1312526245541313,
          0.4175388369962426,
          0.8443766404243113,
          1.2712144438523798,
          -0.6800440861045053,
          0.4175388369962426,
          -1.1068818895325738,
          -1.7166501801441005,
          -0.19222945361528396,
          0.6614461532408533,
          -1.6556733510829478,
          -1.7166501801441005,
          -0.4971135989210473,
          -0.07027579549297865,
          -0.5580904279822,
          1.3321912729135326,
          0.7833998113631586,
          -0.3141831117375893,
          1.2102376147912273,
          -0.6800440861045053,
          0.5394924951185479,
          -0.6190672570433526,
          0.23460834981278467,
          -0.1312526245541313,
          1.1492607857300745,
          1.2712144438523798,
          1.637075418219296,
          -0.6800440861045053,
          0.2955851788739373,
          1.1492607857300745,
          0.6004693241797007,
          -0.6190672570433526,
          -1.1678587185937266,
          -1.5946965220217952,
          0.5394924951185479,
          0.35656200793508996,
          -0.37515994079874193,
          0.11265469169047933,
          0.6614461532408533,
          -0.19222945361528396,
          -0.1312526245541313,
          -0.8019977442268106,
          -0.5580904279822,
          -0.3141831117375893,
          0.6614461532408533,
          -0.3141831117375893,
          0.9053534694854639,
          0.9663302985466166,
          -1.8386038382664058,
          -0.009298966431825989,
          -0.6800440861045053,
          -0.43613676985989464,
          1.088283956668922,
          0.23460834981278467,
          -0.1312526245541313,
          -0.37515994079874193,
          -0.43613676985989464,
          1.637075418219296,
          -0.5580904279822,
          -0.009298966431825989,
          -1.4117660348383372,
          1.5151217600969906,
          0.35656200793508996,
          0.35656200793508996,
          -0.6800440861045053,
          0.11265469169047933,
          -0.25320628267643663,
          1.637075418219296,
          -0.6800440861045053,
          -0.9239514023491159,
          1.4541449310358379,
          0.6004693241797007,
          0.2955851788739373,
          -0.7410209151656579
         ]
        },
        {
         "hovertemplate": "color=0<br>insuline=%{x}<br>glucose=%{y}<br>pression=%{z}<extra></extra>",
         "legendgroup": "0",
         "marker": {
          "color": "blue",
          "opacity": 0.6,
          "symbol": "circle"
         },
         "mode": "markers",
         "name": "0",
         "scene": "scene",
         "showlegend": true,
         "type": "scatter3d",
         "x": [
          -0.22807118516420793,
          -0.5488714768697438,
          -0.8554139778328114,
          -0.8126406056054065,
          0.2424359093372446,
          -1.0122496759999622,
          -0.8768006639465137,
          -0.9124451408026844,
          0.05708462968515724,
          -0.78412502412047,
          -0.9409607222876208,
          -0.5346136861272754,
          -0.8981873500602161,
          -0.6985782796656604,
          -0.8696717685752796,
          -0.8197695009766407,
          -0.7627383380067676,
          -0.9979918852574939,
          -0.8696717685752796,
          -0.613031535210851,
          -0.9623474084013233,
          -0.7769961287492358,
          -0.6558049074382557,
          0.7272007945811654,
          0.3065959676783518,
          0.6345251547551217,
          -0.8696717685752796,
          -0.7769961287492358,
          -0.5274847907560414,
          -0.7484805472642994,
          0.7272007945811654,
          0.8056186436647408,
          -0.8055117102341725,
          -0.8268983963478748,
          0.2709514908221811,
          -0.7983828148629383,
          -0.9766051991437915,
          -0.948089617658855,
          0.44204497973180024,
          -0.8981873500602161,
          -0.9053162454314502,
          0.18540474636737156,
          -0.841156187090343,
          0.08560021117009375,
          -0.841156187090343,
          0.14976026951120092,
          -0.9908629898862598,
          -0.22807118516420793,
          0.4990761427016733,
          0.20679143248107396,
          -0.7983828148629383,
          0.13550247876873267,
          -0.8839295593177479,
          -0.09262217311075947,
          0.1711469556249033,
          -0.7912539194917042,
          -0.8625428732040454,
          -0.9979918852574939,
          -0.7983828148629383,
          -0.9837340945150257,
          -0.007075428655949922,
          0.37075602601945895,
          2.1030776012293524,
          -0.7698672333780018,
          0.03569794357145485,
          -0.8126406056054065,
          -0.7270938611505969,
          -0.841156187090343,
          0.427787188989332,
          -0.7484805472642994,
          -0.9409607222876208,
          -0.8340272917191089,
          -0.18529781293680317,
          -0.22807118516420793,
          -0.7769961287492358,
          1.5113792854169197,
          -0.9124451408026844,
          -0.8055117102341725,
          -0.21381339442173966,
          -0.78412502412047,
          2.2670421947677375,
          0.926809864975721,
          -0.8197695009766407,
          -0.49896920927110483,
          -0.8197695009766407,
          0.7058141084674631,
          -0.8554139778328114,
          -0.5346136861272754,
          -0.8625428732040454,
          -0.8768006639465137,
          0.4349160843605661,
          -0.8340272917191089,
          -0.7484805472642994,
          -0.14252444070939838,
          0.09272910654132789,
          0.64878294549759,
          -0.05697769625458883,
          -0.22807118516420793,
          0.1426313741399668,
          0.48481835195920503,
          -0.9552185130300891,
          -0.8839295593177479,
          -0.78412502412047,
          0.6915563177249947,
          0.5204628288153756,
          -0.6059026398396168,
          -0.7627383380067676,
          -0.11400885922446186,
          -0.6985782796656604,
          -0.8197695009766407,
          -0.1924267083080373,
          -0.9979918852574939,
          -0.7769961287492358,
          -0.8554139778328114,
          0.18540474636737156,
          -0.9267029315451526,
          0.762845271437336,
          0.591751782527717,
          0.3850138167619272,
          -0.9267029315451526,
          0.20679143248107396,
          -0.8482850824615772,
          0.25669370007971287,
          -0.9908629898862598,
          -0.8340272917191089,
          -0.78412502412047,
          -0.8981873500602161,
          0.7842319575510385,
          -0.8625428732040454,
          -0.9124451408026844,
          -0.8197695009766407,
          0.04995573431392311,
          0.06421352505639137,
          -0.9623474084013233,
          -0.10687996385322773,
          -0.14252444070939838,
          0.05708462968515724,
          -0.8197695009766407,
          -0.6629338028094898,
          -0.03559101014088644,
          0.021440152828986595,
          -0.8340272917191089,
          0.6131384686414193,
          -0.7983828148629383,
          0.08560021117009375,
          -0.7484805472642994,
          -1.0051207806287281,
          1.361672482621003,
          -0.11400885922446186,
          -0.9552185130300891,
          0.19966253710983983,
          -0.6415471166957875,
          -0.8055117102341725,
          0.10698689728379615,
          -0.7413516518930653,
          -0.841156187090343,
          0.6345251547551217,
          -0.12826664996693013,
          -0.9979918852574939,
          -0.8482850824615772,
          -0.9623474084013233,
          0.24956480470847872,
          0.21392032785230808,
          0.3351115491632883,
          -0.8482850824615772,
          -0.9267029315451526,
          -0.620160430582085,
          -0.17816891756556902,
          -1.0122496759999622,
          -0.9267029315451526,
          3.5573722569611146,
          0.7058141084674631,
          -0.9409607222876208,
          -0.9837340945150257,
          -0.22807118516420793,
          -0.007075428655949922,
          0.0713424204276255,
          -0.7698672333780018,
          0.1426313741399668,
          -0.7484805472642994,
          -0.9124451408026844,
          0.263822595450947,
          0.12124468802626441,
          0.6131384686414193,
          -1.0122496759999622,
          3.6144034199309876,
          0.17827585099613744,
          -0.8910584546889819,
          -0.09975106848199361,
          -0.948089617658855,
          -0.8055117102341725,
          1.2903835289086616,
          5.3466715284207345e-05,
          3.6643056875296263,
          -0.8197695009766407,
          -0.7912539194917042,
          -0.9338318269163868,
          0.23530701396601048,
          -0.12113775459569599,
          -0.9837340945150257
         ],
         "y": [
          -0.9730411045019656,
          -0.42930870984230857,
          0.4022820114018727,
          1.8095893858151026,
          -1.1009781385395319,
          -0.46129296835170014,
          0.49823478693004747,
          1.1379199571178793,
          -0.7491512949362245,
          -1.2608994310864898,
          -0.36534019282352537,
          -0.3013716758047422,
          0.5941875624582222,
          -1.0050253630113573,
          -0.781135553445616,
          0.4342662699112643,
          2.001494936871452,
          0.9779986645709213,
          -1.2289151725770984,
          0.08243942630795684,
          -1.6127262746897972,
          -0.8770883289737909,
          -0.941056845992574,
          -0.781135553445616,
          -0.7491512949362245,
          1.9695106783620606,
          -0.7491512949362245,
          -0.5572457438798749,
          -1.7406633087273637,
          -1.0050253630113573,
          0.24236071885491478,
          1.2018884741366624,
          0.27434497736430635,
          0.3702977528924811,
          -0.397324451332917,
          0.6261718209676138,
          -0.5252614853704833,
          -0.7491512949362245,
          -0.941056845992574,
          2.0654634538902354,
          -0.621214260898658,
          0.8180773720239634,
          -0.14145038325778428,
          -0.5892300023892665,
          1.0099829230803128,
          1.2978412496648373,
          0.6261718209676138,
          0.24236071885491478,
          -0.36534019282352537,
          1.5217310592305784,
          -0.5892300023892665,
          0.11442368481734842,
          0.33831349438308955,
          1.457762542211795,
          -0.36534019282352537,
          -0.7171670364268329,
          -0.5892300023892665,
          0.690140337986397,
          1.5856995762493615,
          -1.0689938800301404,
          -0.9090725874831824,
          -0.7171670364268329,
          -1.0689938800301404,
          0.3702977528924811,
          -0.49327722686109177,
          0.8500616305333549,
          -0.9730411045019656,
          -1.2289151725770984,
          -1.2928836895958815,
          0.8820458890427465,
          2.5132430730217177,
          0.8500616305333549,
          -0.9090725874831824,
          -1.164946655558315,
          -1.0370096215207487,
          1.5217310592305784,
          -0.10946612474839269,
          -0.9090725874831824,
          0.5302190454394391,
          -0.5572457438798749,
          1.233872732646054,
          0.3063292358736979,
          -0.397324451332917,
          -1.7726475672367552,
          -1.2289151725770984,
          0.6261718209676138,
          0.24236071885491478,
          -1.7726475672367552,
          -1.2928836895958815,
          0.7860931135145718,
          -0.5892300023892665,
          -0.8770883289737909,
          0.9460144060615298,
          -0.6851827779174413,
          0.4022820114018727,
          -0.9730411045019656,
          -0.6531985194080497,
          0.33831349438308955,
          1.6496680932681447,
          0.9779986645709213,
          0.21037646034552318,
          -0.42930870984230857,
          0.05045516779856525,
          -0.781135553445616,
          -1.5807420161804058,
          -0.42930870984230857,
          -0.781135553445616,
          0.5302190454394391,
          -1.7406633087273637,
          -0.7171670364268329,
          1.0099829230803128,
          -1.9965373768024963,
          0.5622033039488307,
          -0.49327722686109177,
          -0.23740315878595905,
          -1.2608994310864898,
          -0.42930870984230857,
          1.9055421613432773,
          -0.46129296835170014,
          -1.2608994310864898,
          -0.49327722686109177,
          -1.7406633087273637,
          -1.5807420161804058,
          -0.7171670364268329,
          1.457762542211795,
          0.5622033039488307,
          -1.8366160842555384,
          -0.5892300023892665,
          1.2018884741366624,
          -0.46129296835170014,
          -0.7171670364268329,
          -1.6127262746897972,
          -0.7171670364268329,
          -0.3333559343141338,
          0.5302190454394391,
          -0.46129296835170014,
          0.8180773720239634,
          -0.045497607729609514,
          -0.5572457438798749,
          -0.621214260898658,
          1.6496680932681447,
          1.3618097666836204,
          -1.6127262746897972,
          0.9460144060615298,
          1.0739514400990962,
          2.0334791953808438,
          0.24236071885491478,
          -0.8770883289737909,
          1.841573644324494,
          1.0419671815897045,
          -1.8366160842555384,
          -1.1969309140677067,
          1.2978412496648373,
          -0.941056845992574,
          -1.1009781385395319,
          0.4022820114018727,
          0.7860931135145718,
          0.11442368481734842,
          -1.2608994310864898,
          -0.10946612474839269,
          0.4342662699112643,
          0.9140301475521381,
          0.27434497736430635,
          1.617683834758753,
          -1.6766947917085806,
          -0.9090725874831824,
          -0.9090725874831824,
          1.3937940251930119,
          -1.1009781385395319,
          1.5217310592305784,
          1.0419671815897045,
          -0.9730411045019656,
          2.001494936871452,
          0.7860931135145718,
          -0.781135553445616,
          1.4257782837024036,
          -0.5892300023892665,
          0.3702977528924811,
          1.0739514400990962,
          2.4172902974935426,
          -0.49327722686109177,
          0.33831349438308955,
          1.1379199571178793,
          0.27434497736430635,
          1.6816523517775361,
          0.8820458890427465,
          -0.5572457438798749,
          0.21037646034552318,
          -0.781135553445616,
          -0.6851827779174413,
          -0.14145038325778428,
          -0.17343464176717588,
          -1.1969309140677067,
          -1.1009781385395319,
          -0.8131198119550076,
          -1.0050253630113573,
          -1.164946655558315,
          0.4022820114018727,
          -0.941056845992574,
          0.9140301475521381
         ],
         "z": [
          -0.8629745732879632,
          0.35656200793508996,
          1.3321912729135326,
          -0.3141831117375893,
          -0.7410209151656579,
          -1.4117660348383372,
          -1.5337196929606425,
          1.4541449310358379,
          0.6004693241797007,
          -0.6800440861045053,
          -1.0459050604714213,
          -1.3507892057771844,
          -0.5580904279822,
          -1.1068818895325738,
          1.393168101974685,
          0.5394924951185479,
          1.8200059054027538,
          -0.8019977442268106,
          1.5760985891581432,
          0.5394924951185479,
          -2.570325787000238,
          1.2102376147912273,
          -0.6800440861045053,
          0.722422982302006,
          1.0273071276077692,
          1.941959563525059,
          1.1492607857300745,
          0.2955851788739373,
          -0.7410209151656579,
          -1.2898123767160319,
          0.8443766404243113,
          0.6004693241797007,
          -0.8019977442268106,
          0.6614461532408533,
          -0.6800440861045053,
          0.7833998113631586,
          -1.7166501801441005,
          0.6614461532408533,
          0.722422982302006,
          -1.3507892057771844,
          0.4785156660573953,
          1.088283956668922,
          0.9053534694854639,
          -1.2288355476548791,
          -0.8019977442268106,
          -1.4117660348383372,
          2.673681512258891,
          -0.6190672570433526,
          1.2102376147912273,
          -0.8019977442268106,
          0.9663302985466166,
          0.7833998113631586,
          -0.4971135989210473,
          0.5394924951185479,
          1.393168101974685,
          1.4541449310358379,
          0.35656200793508996,
          -0.8629745732879632,
          0.4785156660573953,
          -1.777627009205253,
          -1.6556733510829478,
          -0.3141831117375893,
          -1.5337196929606425,
          -1.1068818895325738,
          -0.8019977442268106,
          0.722422982302006,
          -1.3507892057771844,
          -0.7410209151656579,
          -1.2288355476548791,
          -0.9239514023491159,
          0.6614461532408533,
          -1.777627009205253,
          -1.1678587185937266,
          0.4175388369962426,
          -0.25320628267643663,
          -0.9239514023491159,
          1.4541449310358379,
          0.722422982302006,
          1.3321912729135326,
          0.4785156660573953,
          2.673681512258891,
          -1.8995806673275584,
          -0.6800440861045053,
          0.8443766404243113,
          1.393168101974685,
          -0.43613676985989464,
          -1.1678587185937266,
          -0.07027579549297865,
          -1.0459050604714213,
          1.393168101974685,
          -0.25320628267643663,
          -0.4971135989210473,
          -0.8629745732879632,
          -0.37515994079874193,
          -1.7166501801441005,
          -1.7166501801441005,
          0.35656200793508996,
          1.2102376147912273,
          -1.4117660348383372,
          0.4175388369962426,
          -1.6556733510829478,
          -1.3507892057771844,
          0.35656200793508996,
          0.9663302985466166,
          -1.9605574963887111,
          0.6004693241797007,
          0.4175388369962426,
          -0.9239514023491159,
          -0.009298966431825989,
          0.722422982302006,
          -0.8019977442268106,
          0.9663302985466166,
          -1.2898123767160319,
          0.6004693241797007,
          -0.43613676985989464,
          -1.3507892057771844,
          1.2712144438523798,
          0.9053534694854639,
          -0.9849282314102685,
          0.35656200793508996,
          -0.4971135989210473,
          0.722422982302006,
          0.5394924951185479,
          0.4175388369962426,
          1.1492607857300745,
          -1.47274286389949,
          -0.6800440861045053,
          -1.2288355476548791,
          -0.6800440861045053,
          1.2102376147912273,
          -0.9239514023491159,
          -0.07027579549297865,
          0.6004693241797007,
          0.9663302985466166,
          0.6614461532408533,
          -0.3141831117375893,
          0.722422982302006,
          -0.9849282314102685,
          -1.1068818895325738,
          -0.25320628267643663,
          0.5394924951185479,
          2.3687973669531277,
          1.5151217600969906,
          0.9053534694854639,
          -1.3507892057771844,
          1.393168101974685,
          -0.37515994079874193,
          1.3321912729135326,
          -1.2288355476548791,
          0.722422982302006,
          0.4175388369962426,
          0.5394924951185479,
          -0.3141831117375893,
          0.8443766404243113,
          1.088283956668922,
          -1.2898123767160319,
          -1.2288355476548791,
          0.05167786262932667,
          -0.6800440861045053,
          -1.3507892057771844,
          -0.3141831117375893,
          0.722422982302006,
          1.4541449310358379,
          -1.1678587185937266,
          -0.9849282314102685,
          0.7833998113631586,
          0.5394924951185479,
          -1.1678587185937266,
          -1.4117660348383372,
          0.8443766404243113,
          -2.7532562741836957,
          1.4541449310358379,
          -1.0459050604714213,
          -0.7410209151656579,
          0.9053534694854639,
          1.5151217600969906,
          -1.8386038382664058,
          1.3321912729135326,
          -0.7410209151656579,
          -1.3507892057771844,
          0.05167786262932667,
          0.8443766404243113,
          -0.37515994079874193,
          -0.9239514023491159,
          0.4175388369962426,
          0.6614461532408533,
          -1.3507892057771844,
          -0.6190672570433526,
          0.7833998113631586,
          1.1492607857300745,
          0.8443766404243113,
          -0.7410209151656579,
          -1.0459050604714213,
          0.35656200793508996,
          -1.777627009205253,
          -0.9239514023491159,
          -1.1068818895325738,
          0.5394924951185479,
          -0.37515994079874193,
          0.6004693241797007
         ]
        }
       ],
       "layout": {
        "legend": {
         "bordercolor": "gray",
         "borderwidth": 2,
         "font": {
          "family": "Verdana",
          "size": 14
         },
         "title": {
          "text": "<b>Malade ?</b>"
         },
         "tracegroupgap": 0,
         "x": 0.9,
         "y": 0.5
        },
        "margin": {
         "t": 60
        },
        "scene": {
         "domain": {
          "x": [
           0,
           1
          ],
          "y": [
           0,
           1
          ]
         },
         "xaxis": {
          "title": {
           "text": "insuline"
          }
         },
         "yaxis": {
          "title": {
           "text": "glucose"
          }
         },
         "zaxis": {
          "title": {
           "text": "pression"
          }
         }
        },
        "template": {
         "data": {
          "bar": [
           {
            "error_x": {
             "color": "#2a3f5f"
            },
            "error_y": {
             "color": "#2a3f5f"
            },
            "marker": {
             "line": {
              "color": "#E5ECF6",
              "width": 0.5
             },
             "pattern": {
              "fillmode": "overlay",
              "size": 10,
              "solidity": 0.2
             }
            },
            "type": "bar"
           }
          ],
          "barpolar": [
           {
            "marker": {
             "line": {
              "color": "#E5ECF6",
              "width": 0.5
             },
             "pattern": {
              "fillmode": "overlay",
              "size": 10,
              "solidity": 0.2
             }
            },
            "type": "barpolar"
           }
          ],
          "carpet": [
           {
            "aaxis": {
             "endlinecolor": "#2a3f5f",
             "gridcolor": "white",
             "linecolor": "white",
             "minorgridcolor": "white",
             "startlinecolor": "#2a3f5f"
            },
            "baxis": {
             "endlinecolor": "#2a3f5f",
             "gridcolor": "white",
             "linecolor": "white",
             "minorgridcolor": "white",
             "startlinecolor": "#2a3f5f"
            },
            "type": "carpet"
           }
          ],
          "choropleth": [
           {
            "colorbar": {
             "outlinewidth": 0,
             "ticks": ""
            },
            "type": "choropleth"
           }
          ],
          "contour": [
           {
            "colorbar": {
             "outlinewidth": 0,
             "ticks": ""
            },
            "colorscale": [
             [
              0,
              "#0d0887"
             ],
             [
              0.1111111111111111,
              "#46039f"
             ],
             [
              0.2222222222222222,
              "#7201a8"
             ],
             [
              0.3333333333333333,
              "#9c179e"
             ],
             [
              0.4444444444444444,
              "#bd3786"
             ],
             [
              0.5555555555555556,
              "#d8576b"
             ],
             [
              0.6666666666666666,
              "#ed7953"
             ],
             [
              0.7777777777777778,
              "#fb9f3a"
             ],
             [
              0.8888888888888888,
              "#fdca26"
             ],
             [
              1,
              "#f0f921"
             ]
            ],
            "type": "contour"
           }
          ],
          "contourcarpet": [
           {
            "colorbar": {
             "outlinewidth": 0,
             "ticks": ""
            },
            "type": "contourcarpet"
           }
          ],
          "heatmap": [
           {
            "colorbar": {
             "outlinewidth": 0,
             "ticks": ""
            },
            "colorscale": [
             [
              0,
              "#0d0887"
             ],
             [
              0.1111111111111111,
              "#46039f"
             ],
             [
              0.2222222222222222,
              "#7201a8"
             ],
             [
              0.3333333333333333,
              "#9c179e"
             ],
             [
              0.4444444444444444,
              "#bd3786"
             ],
             [
              0.5555555555555556,
              "#d8576b"
             ],
             [
              0.6666666666666666,
              "#ed7953"
             ],
             [
              0.7777777777777778,
              "#fb9f3a"
             ],
             [
              0.8888888888888888,
              "#fdca26"
             ],
             [
              1,
              "#f0f921"
             ]
            ],
            "type": "heatmap"
           }
          ],
          "heatmapgl": [
           {
            "colorbar": {
             "outlinewidth": 0,
             "ticks": ""
            },
            "colorscale": [
             [
              0,
              "#0d0887"
             ],
             [
              0.1111111111111111,
              "#46039f"
             ],
             [
              0.2222222222222222,
              "#7201a8"
             ],
             [
              0.3333333333333333,
              "#9c179e"
             ],
             [
              0.4444444444444444,
              "#bd3786"
             ],
             [
              0.5555555555555556,
              "#d8576b"
             ],
             [
              0.6666666666666666,
              "#ed7953"
             ],
             [
              0.7777777777777778,
              "#fb9f3a"
             ],
             [
              0.8888888888888888,
              "#fdca26"
             ],
             [
              1,
              "#f0f921"
             ]
            ],
            "type": "heatmapgl"
           }
          ],
          "histogram": [
           {
            "marker": {
             "pattern": {
              "fillmode": "overlay",
              "size": 10,
              "solidity": 0.2
             }
            },
            "type": "histogram"
           }
          ],
          "histogram2d": [
           {
            "colorbar": {
             "outlinewidth": 0,
             "ticks": ""
            },
            "colorscale": [
             [
              0,
              "#0d0887"
             ],
             [
              0.1111111111111111,
              "#46039f"
             ],
             [
              0.2222222222222222,
              "#7201a8"
             ],
             [
              0.3333333333333333,
              "#9c179e"
             ],
             [
              0.4444444444444444,
              "#bd3786"
             ],
             [
              0.5555555555555556,
              "#d8576b"
             ],
             [
              0.6666666666666666,
              "#ed7953"
             ],
             [
              0.7777777777777778,
              "#fb9f3a"
             ],
             [
              0.8888888888888888,
              "#fdca26"
             ],
             [
              1,
              "#f0f921"
             ]
            ],
            "type": "histogram2d"
           }
          ],
          "histogram2dcontour": [
           {
            "colorbar": {
             "outlinewidth": 0,
             "ticks": ""
            },
            "colorscale": [
             [
              0,
              "#0d0887"
             ],
             [
              0.1111111111111111,
              "#46039f"
             ],
             [
              0.2222222222222222,
              "#7201a8"
             ],
             [
              0.3333333333333333,
              "#9c179e"
             ],
             [
              0.4444444444444444,
              "#bd3786"
             ],
             [
              0.5555555555555556,
              "#d8576b"
             ],
             [
              0.6666666666666666,
              "#ed7953"
             ],
             [
              0.7777777777777778,
              "#fb9f3a"
             ],
             [
              0.8888888888888888,
              "#fdca26"
             ],
             [
              1,
              "#f0f921"
             ]
            ],
            "type": "histogram2dcontour"
           }
          ],
          "mesh3d": [
           {
            "colorbar": {
             "outlinewidth": 0,
             "ticks": ""
            },
            "type": "mesh3d"
           }
          ],
          "parcoords": [
           {
            "line": {
             "colorbar": {
              "outlinewidth": 0,
              "ticks": ""
             }
            },
            "type": "parcoords"
           }
          ],
          "pie": [
           {
            "automargin": true,
            "type": "pie"
           }
          ],
          "scatter": [
           {
            "fillpattern": {
             "fillmode": "overlay",
             "size": 10,
             "solidity": 0.2
            },
            "type": "scatter"
           }
          ],
          "scatter3d": [
           {
            "line": {
             "colorbar": {
              "outlinewidth": 0,
              "ticks": ""
             }
            },
            "marker": {
             "colorbar": {
              "outlinewidth": 0,
              "ticks": ""
             }
            },
            "type": "scatter3d"
           }
          ],
          "scattercarpet": [
           {
            "marker": {
             "colorbar": {
              "outlinewidth": 0,
              "ticks": ""
             }
            },
            "type": "scattercarpet"
           }
          ],
          "scattergeo": [
           {
            "marker": {
             "colorbar": {
              "outlinewidth": 0,
              "ticks": ""
             }
            },
            "type": "scattergeo"
           }
          ],
          "scattergl": [
           {
            "marker": {
             "colorbar": {
              "outlinewidth": 0,
              "ticks": ""
             }
            },
            "type": "scattergl"
           }
          ],
          "scattermapbox": [
           {
            "marker": {
             "colorbar": {
              "outlinewidth": 0,
              "ticks": ""
             }
            },
            "type": "scattermapbox"
           }
          ],
          "scatterpolar": [
           {
            "marker": {
             "colorbar": {
              "outlinewidth": 0,
              "ticks": ""
             }
            },
            "type": "scatterpolar"
           }
          ],
          "scatterpolargl": [
           {
            "marker": {
             "colorbar": {
              "outlinewidth": 0,
              "ticks": ""
             }
            },
            "type": "scatterpolargl"
           }
          ],
          "scatterternary": [
           {
            "marker": {
             "colorbar": {
              "outlinewidth": 0,
              "ticks": ""
             }
            },
            "type": "scatterternary"
           }
          ],
          "surface": [
           {
            "colorbar": {
             "outlinewidth": 0,
             "ticks": ""
            },
            "colorscale": [
             [
              0,
              "#0d0887"
             ],
             [
              0.1111111111111111,
              "#46039f"
             ],
             [
              0.2222222222222222,
              "#7201a8"
             ],
             [
              0.3333333333333333,
              "#9c179e"
             ],
             [
              0.4444444444444444,
              "#bd3786"
             ],
             [
              0.5555555555555556,
              "#d8576b"
             ],
             [
              0.6666666666666666,
              "#ed7953"
             ],
             [
              0.7777777777777778,
              "#fb9f3a"
             ],
             [
              0.8888888888888888,
              "#fdca26"
             ],
             [
              1,
              "#f0f921"
             ]
            ],
            "type": "surface"
           }
          ],
          "table": [
           {
            "cells": {
             "fill": {
              "color": "#EBF0F8"
             },
             "line": {
              "color": "white"
             }
            },
            "header": {
             "fill": {
              "color": "#C8D4E3"
             },
             "line": {
              "color": "white"
             }
            },
            "type": "table"
           }
          ]
         },
         "layout": {
          "annotationdefaults": {
           "arrowcolor": "#2a3f5f",
           "arrowhead": 0,
           "arrowwidth": 1
          },
          "autotypenumbers": "strict",
          "coloraxis": {
           "colorbar": {
            "outlinewidth": 0,
            "ticks": ""
           }
          },
          "colorscale": {
           "diverging": [
            [
             0,
             "#8e0152"
            ],
            [
             0.1,
             "#c51b7d"
            ],
            [
             0.2,
             "#de77ae"
            ],
            [
             0.3,
             "#f1b6da"
            ],
            [
             0.4,
             "#fde0ef"
            ],
            [
             0.5,
             "#f7f7f7"
            ],
            [
             0.6,
             "#e6f5d0"
            ],
            [
             0.7,
             "#b8e186"
            ],
            [
             0.8,
             "#7fbc41"
            ],
            [
             0.9,
             "#4d9221"
            ],
            [
             1,
             "#276419"
            ]
           ],
           "sequential": [
            [
             0,
             "#0d0887"
            ],
            [
             0.1111111111111111,
             "#46039f"
            ],
            [
             0.2222222222222222,
             "#7201a8"
            ],
            [
             0.3333333333333333,
             "#9c179e"
            ],
            [
             0.4444444444444444,
             "#bd3786"
            ],
            [
             0.5555555555555556,
             "#d8576b"
            ],
            [
             0.6666666666666666,
             "#ed7953"
            ],
            [
             0.7777777777777778,
             "#fb9f3a"
            ],
            [
             0.8888888888888888,
             "#fdca26"
            ],
            [
             1,
             "#f0f921"
            ]
           ],
           "sequentialminus": [
            [
             0,
             "#0d0887"
            ],
            [
             0.1111111111111111,
             "#46039f"
            ],
            [
             0.2222222222222222,
             "#7201a8"
            ],
            [
             0.3333333333333333,
             "#9c179e"
            ],
            [
             0.4444444444444444,
             "#bd3786"
            ],
            [
             0.5555555555555556,
             "#d8576b"
            ],
            [
             0.6666666666666666,
             "#ed7953"
            ],
            [
             0.7777777777777778,
             "#fb9f3a"
            ],
            [
             0.8888888888888888,
             "#fdca26"
            ],
            [
             1,
             "#f0f921"
            ]
           ]
          },
          "colorway": [
           "#636efa",
           "#EF553B",
           "#00cc96",
           "#ab63fa",
           "#FFA15A",
           "#19d3f3",
           "#FF6692",
           "#B6E880",
           "#FF97FF",
           "#FECB52"
          ],
          "font": {
           "color": "#2a3f5f"
          },
          "geo": {
           "bgcolor": "white",
           "lakecolor": "white",
           "landcolor": "#E5ECF6",
           "showlakes": true,
           "showland": true,
           "subunitcolor": "white"
          },
          "hoverlabel": {
           "align": "left"
          },
          "hovermode": "closest",
          "mapbox": {
           "style": "light"
          },
          "paper_bgcolor": "white",
          "plot_bgcolor": "#E5ECF6",
          "polar": {
           "angularaxis": {
            "gridcolor": "white",
            "linecolor": "white",
            "ticks": ""
           },
           "bgcolor": "#E5ECF6",
           "radialaxis": {
            "gridcolor": "white",
            "linecolor": "white",
            "ticks": ""
           }
          },
          "scene": {
           "xaxis": {
            "backgroundcolor": "#E5ECF6",
            "gridcolor": "white",
            "gridwidth": 2,
            "linecolor": "white",
            "showbackground": true,
            "ticks": "",
            "zerolinecolor": "white"
           },
           "yaxis": {
            "backgroundcolor": "#E5ECF6",
            "gridcolor": "white",
            "gridwidth": 2,
            "linecolor": "white",
            "showbackground": true,
            "ticks": "",
            "zerolinecolor": "white"
           },
           "zaxis": {
            "backgroundcolor": "#E5ECF6",
            "gridcolor": "white",
            "gridwidth": 2,
            "linecolor": "white",
            "showbackground": true,
            "ticks": "",
            "zerolinecolor": "white"
           }
          },
          "shapedefaults": {
           "line": {
            "color": "#2a3f5f"
           }
          },
          "ternary": {
           "aaxis": {
            "gridcolor": "white",
            "linecolor": "white",
            "ticks": ""
           },
           "baxis": {
            "gridcolor": "white",
            "linecolor": "white",
            "ticks": ""
           },
           "bgcolor": "#E5ECF6",
           "caxis": {
            "gridcolor": "white",
            "linecolor": "white",
            "ticks": ""
           }
          },
          "title": {
           "x": 0.05
          },
          "xaxis": {
           "automargin": true,
           "gridcolor": "white",
           "linecolor": "white",
           "ticks": "",
           "title": {
            "standoff": 15
           },
           "zerolinecolor": "white",
           "zerolinewidth": 2
          },
          "yaxis": {
           "automargin": true,
           "gridcolor": "white",
           "linecolor": "white",
           "ticks": "",
           "title": {
            "standoff": 15
           },
           "zerolinecolor": "white",
           "zerolinewidth": 2
          }
         }
        },
        "width": 700
       }
      },
      "text/html": [
       "<div>                            <div id=\"2b66291f-53e5-4053-bf9c-504dbda1326e\" class=\"plotly-graph-div\" style=\"height:525px; width:700px;\"></div>            <script type=\"text/javascript\">                require([\"plotly\"], function(Plotly) {                    window.PLOTLYENV=window.PLOTLYENV || {};                                    if (document.getElementById(\"2b66291f-53e5-4053-bf9c-504dbda1326e\")) {                    Plotly.newPlot(                        \"2b66291f-53e5-4053-bf9c-504dbda1326e\",                        [{\"hovertemplate\":\"color=1<br>insuline=%{x}<br>glucose=%{y}<br>pression=%{z}<extra></extra>\",\"legendgroup\":\"1\",\"marker\":{\"color\":\"gray\",\"opacity\":0.6,\"symbol\":\"circle\"},\"mode\":\"markers\",\"name\":\"1\",\"scene\":\"scene\",\"showlegend\":true,\"x\":[-0.9124451408026844,2.573584695730805,-0.4918403138998707,0.4990761427016733,1.1335478307415108,-0.6843204889231922,0.7771030621798043,3.906688130151587,0.5204628288153756,3.3720209773090275,0.6202673640126535,-0.5417425814985096,0.6202673640126535,4.29164848019823,-0.7057071750368946,0.8341342251496774,3.6856923736433287,-0.5987737444683826,0.4135293982468637,-0.5987737444683826,-0.7627383380067676,-0.9195740361739185,0.3351115491632883,-0.02846211476965231,1.2119656798250862,-0.07123548699705709,-0.948089617658855,-0.7484805472642994,1.4400903317045783,0.7414585853236336,-0.9195740361739185,1.7822773095238165,5.3466715284207345e-05,0.0713424204276255,0.7699741668085702,0.15688916488243504,-0.5773870583546803,-0.9552185130300891,0.21392032785230808,-0.7057071750368946,-0.6059026398396168,1.5612815530155586,-0.03559101014088644,0.22817811859477635,-0.9979918852574939,-0.5274847907560414,-0.47758252315740246,-0.44906694167246597,-0.4847114185286366,-0.4847114185286366,-0.44906694167246597,0.47056056121673673,-0.613031535210851,3.9138170255228206,0.021440152828986595,0.926809864975721,-0.9267029315451526,-0.7128360704081287,0.4563027704742685,-0.03559101014088644,0.7557163760661019,1.3545435872497689,-0.6629338028094898,-0.5132270000135731,0.4563027704742685,-0.9979918852574939,1.2975124242798957,-0.4918403138998707,-0.5845159537259144,0.9553254464606575,-0.8981873500602161,-0.07836438236829121,0.5347206195578439,-0.43480915092999767,1.4472192270758124,0.25669370007971287,-0.5274847907560414,-1.0122496759999622,-0.43480915092999767,-0.6771915935519581,0.2923381769358835,-0.506098104642339,-0.5987737444683826,-0.4633247324149342,1.368801377992237,0.6202673640126535,0.812747539035975,2.4452645790485907,0.3351115491632883,-0.6059026398396168,1.3331569011360664,0.4634316658455026,-0.9195740361739185,0.04995573431392311,-0.5916448490971485,-0.8768006639465137,1.5684104483867927,-0.9409607222876208,0.35649823527699065,1.3260280057648324,1.2761257381661935,2.1743665549416935,0.021440152828986595,-0.8910584546889819,0.3778849213906931,-0.10687996385322773,0.014311257457752465,-0.8839295593177479,-0.6059026398396168,0.17827585099613744,1.361672482621003,1.9533707984334356,-0.4847114185286366,0.819876434407209,-0.04271990551212057,-0.8554139778328114,-0.6059026398396168,1.42583254096211,1.5113792854169197,-0.506098104642339,0.32798265379205416,-0.014204324027184051,-0.04271990551212057,1.1763212029689156,1.2262234705675545,-1.0051207806287281,-0.5132270000135731,-0.506098104642339,1.4044458548484078,0.1640180602536692,-0.5488714768697438,-0.014204324027184051,0.4206582936180978,-0.02133321939841818,1.2761257381661935,-0.7270938611505969,0.37075602601945895,0.39927160750439544,-0.4847114185286366,0.3065959676783518,2.2242688225403326,-0.6985782796656604,-0.5274847907560414,0.3778849213906931,-0.014204324027184051,0.8270053297784432,-0.7912539194917042,0.983841027945594,0.44204497973180024,2.6021002772157416,1.3331569011360664,-0.7128360704081287,-0.44906694167246597,0.08560021117009375,-0.6272893259533192,3.1011229532021303,2.131593182714289,3.749852431984436,-0.506098104642339,0.5846228871564828,-1.0051207806287281,1.1478056214839791,-0.07836438236829121,-0.6415471166957875,-0.4633247324149342,0.3065959676783518,-0.7484805472642994,0.44204497973180024,0.14976026951120092,-0.6344182213245533,2.1458509734567572,1.3260280057648324,-0.5702581629834461,-0.44906694167246597,0.7200718992099313,0.7485874806948678,-0.5845159537259144,0.5204628288153756,1.696730565069007,-0.9552185130300891,0.14976026951120092,0.4135293982468637,0.9553254464606575,0.64878294549759,0.40640050287562957,-0.4847114185286366,0.9909699233168282,2.1102064966005867,-0.6272893259533192,1.3830591687347054,1.311770215022364,0.8270053297784432,-0.4561958370437001,2.08169091511565,-0.04271990551212057,-0.7342227565218311,0.2923381769358835,-0.43480915092999767,0.20679143248107396,-0.5417425814985096],\"y\":[-0.10946612474839269,0.4342662699112643,1.457762542211795,1.2018884741366624,-0.17343464176717588,0.27434497736430635,0.4022820114018727,-1.804631825746147,0.14640794332674,-0.781135553445616,-0.20541890027656745,0.3702977528924811,0.690140337986397,-0.26938741729535065,-0.07748186623900111,0.6261718209676138,-0.3013716758047422,0.9140301475521381,-0.045497607729609514,-1.1009781385395319,-0.23740315878595905,0.3063292358736979,0.33831349438308955,-0.10946612474839269,2.1294319709090184,-1.4208207236334478,0.4662505284206559,2.16141622941841,2.0974477123996267,0.3702977528924811,0.8820458890427465,0.9460144060615298,2.1294319709090184,0.11442368481734842,-0.7491512949362245,-1.164946655558315,0.05045516779856525,0.5622033039488307,0.05045516779856525,1.233872732646054,-0.23740315878595905,-0.3013716758047422,0.01847090928917366,-0.42930870984230857,-0.36534019282352537,-0.26938741729535065,-0.045497607729609514,0.3702977528924811,-0.26938741729535065,-0.26938741729535065,0.9460144060615298,-0.14145038325778428,2.0654634538902354,-1.2608994310864898,0.4022820114018727,0.24236071885491478,-0.3013716758047422,2.001494936871452,0.7541088550051802,-0.3333559343141338,0.9779986645709213,-0.8451040704643992,-1.9005846012743217,-0.42930870984230857,-0.013513349220217928,-1.0689938800301404,1.3618097666836204,-0.10946612474839269,0.5622033039488307,0.01847090928917366,-0.013513349220217928,-1.2928836895958815,0.33831349438308955,-0.26938741729535065,0.27434497736430635,-0.26938741729535065,-0.3333559343141338,-1.4208207236334478,-0.013513349220217928,0.8820458890427465,2.001494936871452,0.3702977528924811,-0.26938741729535065,-0.36534019282352537,0.5941875624582222,-0.013513349220217928,-0.17343464176717588,-1.7726475672367552,-0.013513349220217928,-0.26938741729535065,2.2573690049465847,-1.9005846012743217,0.11442368481734842,-0.8451040704643992,-1.2928836895958815,-0.045497607729609514,2.2573690049465847,-0.14145038325778428,-1.9005846012743217,-0.17343464176717588,-1.5807420161804058,-0.20541890027656745,-0.20541890027656745,-0.17343464176717588,-1.1969309140677067,0.33831349438308955,-0.17343464176717588,0.08243942630795684,-0.045497607729609514,-0.10946612474839269,-0.7171670364268329,1.2978412496648373,-1.8366160842555384,1.2978412496648373,-1.1969309140677067,-1.1329623970489235,-0.20541890027656745,-0.6851827779174413,-0.07748186623900111,0.05045516779856525,-0.36534019282352537,-1.548757757671014,0.4662505284206559,1.233872732646054,0.33831349438308955,0.33831349438308955,0.08243942630795684,-1.6766947917085806,0.49823478693004747,1.0099829230803128,2.641180107059284,0.4662505284206559,2.321337521965368,-1.548757757671014,-0.23740315878595905,0.14640794332674,-0.07748186623900111,1.9695106783620606,-1.5807420161804058,0.3702977528924811,2.5132430730217177,-1.3888364651240561,1.457762542211795,2.2573690049465847,0.11442368481734842,-0.07748186623900111,0.9779986645709213,0.9140301475521381,-0.20541890027656745,-0.6531985194080497,-0.7491512949362245,-0.3013716758047422,-0.3013716758047422,0.7860931135145718,-0.23740315878595905,0.27434497736430635,-0.10946612474839269,0.3702977528924811,-0.20541890027656745,2.2253847464371934,0.4342662699112643,0.1783922018361316,-0.17343464176717588,-0.8770883289737909,1.3298255081742287,-0.07748186623900111,-0.013513349220217928,0.14640794332674,0.21037646034552318,-0.20541890027656745,-0.045497607729609514,0.05045516779856525,0.8500616305333549,0.11442368481734842,0.08243942630795684,0.7541088550051802,-0.013513349220217928,-1.9325688597837132,-0.013513349220217928,-0.9730411045019656,-0.3013716758047422,0.1783922018361316,2.2893532634559763,-1.548757757671014,0.9779986645709213,-1.1969309140677067,-0.941056845992574,-0.14145038325778428,0.27434497736430635,0.05045516779856525,1.0419671815897045,-0.6851827779174413,0.05045516779856525,-0.20541890027656745,0.4662505284206559,0.49823478693004747,0.4022820114018727,0.21037646034552318,0.14640794332674,-1.86860034276493],\"z\":[0.173631520751632,-0.4971135989210473,-0.8019977442268106,-1.5337196929606425,0.23460834981278467,0.6614461532408533,0.4175388369962426,-0.3141831117375893,0.7833998113631586,0.11265469169047933,0.05167786262932667,0.23460834981278467,-0.4971135989210473,0.2955851788739373,-0.7410209151656579,-0.9239514023491159,0.9663302985466166,-0.3141831117375893,1.2102376147912273,0.2955851788739373,0.6614461532408533,-1.2288355476548791,1.637075418219296,0.9053534694854639,0.6004693241797007,-1.0459050604714213,1.0273071276077692,0.9053534694854639,1.2102376147912273,0.6004693241797007,0.4175388369962426,1.5760985891581432,0.2955851788739373,-1.5946965220217952,0.4175388369962426,0.9053534694854639,0.23460834981278467,0.35656200793508996,0.23460834981278467,0.173631520751632,0.8443766404243113,1.0273071276077692,0.4785156660573953,1.5151217600969906,-0.43613676985989464,1.1492607857300745,1.1492607857300745,-1.7166501801441005,-0.8019977442268106,-0.43613676985989464,0.23460834981278467,-1.3507892057771844,-0.3141831117375893,-0.6800440861045053,0.23460834981278467,-1.5946965220217952,1.2712144438523798,1.393168101974685,-0.07027579549297865,0.35656200793508996,2.2468437088308226,-0.37515994079874193,-1.6556733510829478,-0.8629745732879632,0.7833998113631586,-1.3507892057771844,0.173631520751632,-0.37515994079874193,1.0273071276077692,0.9053534694854639,0.5394924951185479,1.637075418219296,-1.5337196929606425,0.722422982302006,1.4541449310358379,0.11265469169047933,-1.5337196929606425,0.05167786262932667,-1.4117660348383372,-0.009298966431825989,0.173631520751632,0.173631520751632,-0.6800440861045053,-0.6190672570433526,0.2955851788739373,-0.6190672570433526,0.4785156660573953,-0.07027579549297865,-1.5946965220217952,-0.1312526245541313,0.23460834981278467,0.23460834981278467,1.6980522472804485,1.4541449310358379,0.6004693241797007,0.7833998113631586,0.5394924951185479,-0.4971135989210473,0.5394924951185479,-0.5580904279822,-0.6800440861045053,-0.43613676985989464,0.05167786262932667,0.6614461532408533,0.2955851788739373,-0.9239514023491159,-1.2288355476548791,-0.3141831117375893,0.4175388369962426,-0.37515994079874193,0.173631520751632,0.5394924951185479,-0.4971135989210473,-0.6190672570433526,0.4785156660573953,0.7833998113631586,0.722422982302006,1.637075418219296,-0.37515994079874193,-0.8019977442268106,1.5760985891581432,1.5151217600969906,1.393168101974685,-2.7532562741836957,0.4785156660573953,-0.9849282314102685,-0.1312526245541313,0.4175388369962426,0.8443766404243113,1.2712144438523798,-0.6800440861045053,0.4175388369962426,-1.1068818895325738,-1.7166501801441005,-0.19222945361528396,0.6614461532408533,-1.6556733510829478,-1.7166501801441005,-0.4971135989210473,-0.07027579549297865,-0.5580904279822,1.3321912729135326,0.7833998113631586,-0.3141831117375893,1.2102376147912273,-0.6800440861045053,0.5394924951185479,-0.6190672570433526,0.23460834981278467,-0.1312526245541313,1.1492607857300745,1.2712144438523798,1.637075418219296,-0.6800440861045053,0.2955851788739373,1.1492607857300745,0.6004693241797007,-0.6190672570433526,-1.1678587185937266,-1.5946965220217952,0.5394924951185479,0.35656200793508996,-0.37515994079874193,0.11265469169047933,0.6614461532408533,-0.19222945361528396,-0.1312526245541313,-0.8019977442268106,-0.5580904279822,-0.3141831117375893,0.6614461532408533,-0.3141831117375893,0.9053534694854639,0.9663302985466166,-1.8386038382664058,-0.009298966431825989,-0.6800440861045053,-0.43613676985989464,1.088283956668922,0.23460834981278467,-0.1312526245541313,-0.37515994079874193,-0.43613676985989464,1.637075418219296,-0.5580904279822,-0.009298966431825989,-1.4117660348383372,1.5151217600969906,0.35656200793508996,0.35656200793508996,-0.6800440861045053,0.11265469169047933,-0.25320628267643663,1.637075418219296,-0.6800440861045053,-0.9239514023491159,1.4541449310358379,0.6004693241797007,0.2955851788739373,-0.7410209151656579],\"type\":\"scatter3d\"},{\"hovertemplate\":\"color=0<br>insuline=%{x}<br>glucose=%{y}<br>pression=%{z}<extra></extra>\",\"legendgroup\":\"0\",\"marker\":{\"color\":\"blue\",\"opacity\":0.6,\"symbol\":\"circle\"},\"mode\":\"markers\",\"name\":\"0\",\"scene\":\"scene\",\"showlegend\":true,\"x\":[-0.22807118516420793,-0.5488714768697438,-0.8554139778328114,-0.8126406056054065,0.2424359093372446,-1.0122496759999622,-0.8768006639465137,-0.9124451408026844,0.05708462968515724,-0.78412502412047,-0.9409607222876208,-0.5346136861272754,-0.8981873500602161,-0.6985782796656604,-0.8696717685752796,-0.8197695009766407,-0.7627383380067676,-0.9979918852574939,-0.8696717685752796,-0.613031535210851,-0.9623474084013233,-0.7769961287492358,-0.6558049074382557,0.7272007945811654,0.3065959676783518,0.6345251547551217,-0.8696717685752796,-0.7769961287492358,-0.5274847907560414,-0.7484805472642994,0.7272007945811654,0.8056186436647408,-0.8055117102341725,-0.8268983963478748,0.2709514908221811,-0.7983828148629383,-0.9766051991437915,-0.948089617658855,0.44204497973180024,-0.8981873500602161,-0.9053162454314502,0.18540474636737156,-0.841156187090343,0.08560021117009375,-0.841156187090343,0.14976026951120092,-0.9908629898862598,-0.22807118516420793,0.4990761427016733,0.20679143248107396,-0.7983828148629383,0.13550247876873267,-0.8839295593177479,-0.09262217311075947,0.1711469556249033,-0.7912539194917042,-0.8625428732040454,-0.9979918852574939,-0.7983828148629383,-0.9837340945150257,-0.007075428655949922,0.37075602601945895,2.1030776012293524,-0.7698672333780018,0.03569794357145485,-0.8126406056054065,-0.7270938611505969,-0.841156187090343,0.427787188989332,-0.7484805472642994,-0.9409607222876208,-0.8340272917191089,-0.18529781293680317,-0.22807118516420793,-0.7769961287492358,1.5113792854169197,-0.9124451408026844,-0.8055117102341725,-0.21381339442173966,-0.78412502412047,2.2670421947677375,0.926809864975721,-0.8197695009766407,-0.49896920927110483,-0.8197695009766407,0.7058141084674631,-0.8554139778328114,-0.5346136861272754,-0.8625428732040454,-0.8768006639465137,0.4349160843605661,-0.8340272917191089,-0.7484805472642994,-0.14252444070939838,0.09272910654132789,0.64878294549759,-0.05697769625458883,-0.22807118516420793,0.1426313741399668,0.48481835195920503,-0.9552185130300891,-0.8839295593177479,-0.78412502412047,0.6915563177249947,0.5204628288153756,-0.6059026398396168,-0.7627383380067676,-0.11400885922446186,-0.6985782796656604,-0.8197695009766407,-0.1924267083080373,-0.9979918852574939,-0.7769961287492358,-0.8554139778328114,0.18540474636737156,-0.9267029315451526,0.762845271437336,0.591751782527717,0.3850138167619272,-0.9267029315451526,0.20679143248107396,-0.8482850824615772,0.25669370007971287,-0.9908629898862598,-0.8340272917191089,-0.78412502412047,-0.8981873500602161,0.7842319575510385,-0.8625428732040454,-0.9124451408026844,-0.8197695009766407,0.04995573431392311,0.06421352505639137,-0.9623474084013233,-0.10687996385322773,-0.14252444070939838,0.05708462968515724,-0.8197695009766407,-0.6629338028094898,-0.03559101014088644,0.021440152828986595,-0.8340272917191089,0.6131384686414193,-0.7983828148629383,0.08560021117009375,-0.7484805472642994,-1.0051207806287281,1.361672482621003,-0.11400885922446186,-0.9552185130300891,0.19966253710983983,-0.6415471166957875,-0.8055117102341725,0.10698689728379615,-0.7413516518930653,-0.841156187090343,0.6345251547551217,-0.12826664996693013,-0.9979918852574939,-0.8482850824615772,-0.9623474084013233,0.24956480470847872,0.21392032785230808,0.3351115491632883,-0.8482850824615772,-0.9267029315451526,-0.620160430582085,-0.17816891756556902,-1.0122496759999622,-0.9267029315451526,3.5573722569611146,0.7058141084674631,-0.9409607222876208,-0.9837340945150257,-0.22807118516420793,-0.007075428655949922,0.0713424204276255,-0.7698672333780018,0.1426313741399668,-0.7484805472642994,-0.9124451408026844,0.263822595450947,0.12124468802626441,0.6131384686414193,-1.0122496759999622,3.6144034199309876,0.17827585099613744,-0.8910584546889819,-0.09975106848199361,-0.948089617658855,-0.8055117102341725,1.2903835289086616,5.3466715284207345e-05,3.6643056875296263,-0.8197695009766407,-0.7912539194917042,-0.9338318269163868,0.23530701396601048,-0.12113775459569599,-0.9837340945150257],\"y\":[-0.9730411045019656,-0.42930870984230857,0.4022820114018727,1.8095893858151026,-1.1009781385395319,-0.46129296835170014,0.49823478693004747,1.1379199571178793,-0.7491512949362245,-1.2608994310864898,-0.36534019282352537,-0.3013716758047422,0.5941875624582222,-1.0050253630113573,-0.781135553445616,0.4342662699112643,2.001494936871452,0.9779986645709213,-1.2289151725770984,0.08243942630795684,-1.6127262746897972,-0.8770883289737909,-0.941056845992574,-0.781135553445616,-0.7491512949362245,1.9695106783620606,-0.7491512949362245,-0.5572457438798749,-1.7406633087273637,-1.0050253630113573,0.24236071885491478,1.2018884741366624,0.27434497736430635,0.3702977528924811,-0.397324451332917,0.6261718209676138,-0.5252614853704833,-0.7491512949362245,-0.941056845992574,2.0654634538902354,-0.621214260898658,0.8180773720239634,-0.14145038325778428,-0.5892300023892665,1.0099829230803128,1.2978412496648373,0.6261718209676138,0.24236071885491478,-0.36534019282352537,1.5217310592305784,-0.5892300023892665,0.11442368481734842,0.33831349438308955,1.457762542211795,-0.36534019282352537,-0.7171670364268329,-0.5892300023892665,0.690140337986397,1.5856995762493615,-1.0689938800301404,-0.9090725874831824,-0.7171670364268329,-1.0689938800301404,0.3702977528924811,-0.49327722686109177,0.8500616305333549,-0.9730411045019656,-1.2289151725770984,-1.2928836895958815,0.8820458890427465,2.5132430730217177,0.8500616305333549,-0.9090725874831824,-1.164946655558315,-1.0370096215207487,1.5217310592305784,-0.10946612474839269,-0.9090725874831824,0.5302190454394391,-0.5572457438798749,1.233872732646054,0.3063292358736979,-0.397324451332917,-1.7726475672367552,-1.2289151725770984,0.6261718209676138,0.24236071885491478,-1.7726475672367552,-1.2928836895958815,0.7860931135145718,-0.5892300023892665,-0.8770883289737909,0.9460144060615298,-0.6851827779174413,0.4022820114018727,-0.9730411045019656,-0.6531985194080497,0.33831349438308955,1.6496680932681447,0.9779986645709213,0.21037646034552318,-0.42930870984230857,0.05045516779856525,-0.781135553445616,-1.5807420161804058,-0.42930870984230857,-0.781135553445616,0.5302190454394391,-1.7406633087273637,-0.7171670364268329,1.0099829230803128,-1.9965373768024963,0.5622033039488307,-0.49327722686109177,-0.23740315878595905,-1.2608994310864898,-0.42930870984230857,1.9055421613432773,-0.46129296835170014,-1.2608994310864898,-0.49327722686109177,-1.7406633087273637,-1.5807420161804058,-0.7171670364268329,1.457762542211795,0.5622033039488307,-1.8366160842555384,-0.5892300023892665,1.2018884741366624,-0.46129296835170014,-0.7171670364268329,-1.6127262746897972,-0.7171670364268329,-0.3333559343141338,0.5302190454394391,-0.46129296835170014,0.8180773720239634,-0.045497607729609514,-0.5572457438798749,-0.621214260898658,1.6496680932681447,1.3618097666836204,-1.6127262746897972,0.9460144060615298,1.0739514400990962,2.0334791953808438,0.24236071885491478,-0.8770883289737909,1.841573644324494,1.0419671815897045,-1.8366160842555384,-1.1969309140677067,1.2978412496648373,-0.941056845992574,-1.1009781385395319,0.4022820114018727,0.7860931135145718,0.11442368481734842,-1.2608994310864898,-0.10946612474839269,0.4342662699112643,0.9140301475521381,0.27434497736430635,1.617683834758753,-1.6766947917085806,-0.9090725874831824,-0.9090725874831824,1.3937940251930119,-1.1009781385395319,1.5217310592305784,1.0419671815897045,-0.9730411045019656,2.001494936871452,0.7860931135145718,-0.781135553445616,1.4257782837024036,-0.5892300023892665,0.3702977528924811,1.0739514400990962,2.4172902974935426,-0.49327722686109177,0.33831349438308955,1.1379199571178793,0.27434497736430635,1.6816523517775361,0.8820458890427465,-0.5572457438798749,0.21037646034552318,-0.781135553445616,-0.6851827779174413,-0.14145038325778428,-0.17343464176717588,-1.1969309140677067,-1.1009781385395319,-0.8131198119550076,-1.0050253630113573,-1.164946655558315,0.4022820114018727,-0.941056845992574,0.9140301475521381],\"z\":[-0.8629745732879632,0.35656200793508996,1.3321912729135326,-0.3141831117375893,-0.7410209151656579,-1.4117660348383372,-1.5337196929606425,1.4541449310358379,0.6004693241797007,-0.6800440861045053,-1.0459050604714213,-1.3507892057771844,-0.5580904279822,-1.1068818895325738,1.393168101974685,0.5394924951185479,1.8200059054027538,-0.8019977442268106,1.5760985891581432,0.5394924951185479,-2.570325787000238,1.2102376147912273,-0.6800440861045053,0.722422982302006,1.0273071276077692,1.941959563525059,1.1492607857300745,0.2955851788739373,-0.7410209151656579,-1.2898123767160319,0.8443766404243113,0.6004693241797007,-0.8019977442268106,0.6614461532408533,-0.6800440861045053,0.7833998113631586,-1.7166501801441005,0.6614461532408533,0.722422982302006,-1.3507892057771844,0.4785156660573953,1.088283956668922,0.9053534694854639,-1.2288355476548791,-0.8019977442268106,-1.4117660348383372,2.673681512258891,-0.6190672570433526,1.2102376147912273,-0.8019977442268106,0.9663302985466166,0.7833998113631586,-0.4971135989210473,0.5394924951185479,1.393168101974685,1.4541449310358379,0.35656200793508996,-0.8629745732879632,0.4785156660573953,-1.777627009205253,-1.6556733510829478,-0.3141831117375893,-1.5337196929606425,-1.1068818895325738,-0.8019977442268106,0.722422982302006,-1.3507892057771844,-0.7410209151656579,-1.2288355476548791,-0.9239514023491159,0.6614461532408533,-1.777627009205253,-1.1678587185937266,0.4175388369962426,-0.25320628267643663,-0.9239514023491159,1.4541449310358379,0.722422982302006,1.3321912729135326,0.4785156660573953,2.673681512258891,-1.8995806673275584,-0.6800440861045053,0.8443766404243113,1.393168101974685,-0.43613676985989464,-1.1678587185937266,-0.07027579549297865,-1.0459050604714213,1.393168101974685,-0.25320628267643663,-0.4971135989210473,-0.8629745732879632,-0.37515994079874193,-1.7166501801441005,-1.7166501801441005,0.35656200793508996,1.2102376147912273,-1.4117660348383372,0.4175388369962426,-1.6556733510829478,-1.3507892057771844,0.35656200793508996,0.9663302985466166,-1.9605574963887111,0.6004693241797007,0.4175388369962426,-0.9239514023491159,-0.009298966431825989,0.722422982302006,-0.8019977442268106,0.9663302985466166,-1.2898123767160319,0.6004693241797007,-0.43613676985989464,-1.3507892057771844,1.2712144438523798,0.9053534694854639,-0.9849282314102685,0.35656200793508996,-0.4971135989210473,0.722422982302006,0.5394924951185479,0.4175388369962426,1.1492607857300745,-1.47274286389949,-0.6800440861045053,-1.2288355476548791,-0.6800440861045053,1.2102376147912273,-0.9239514023491159,-0.07027579549297865,0.6004693241797007,0.9663302985466166,0.6614461532408533,-0.3141831117375893,0.722422982302006,-0.9849282314102685,-1.1068818895325738,-0.25320628267643663,0.5394924951185479,2.3687973669531277,1.5151217600969906,0.9053534694854639,-1.3507892057771844,1.393168101974685,-0.37515994079874193,1.3321912729135326,-1.2288355476548791,0.722422982302006,0.4175388369962426,0.5394924951185479,-0.3141831117375893,0.8443766404243113,1.088283956668922,-1.2898123767160319,-1.2288355476548791,0.05167786262932667,-0.6800440861045053,-1.3507892057771844,-0.3141831117375893,0.722422982302006,1.4541449310358379,-1.1678587185937266,-0.9849282314102685,0.7833998113631586,0.5394924951185479,-1.1678587185937266,-1.4117660348383372,0.8443766404243113,-2.7532562741836957,1.4541449310358379,-1.0459050604714213,-0.7410209151656579,0.9053534694854639,1.5151217600969906,-1.8386038382664058,1.3321912729135326,-0.7410209151656579,-1.3507892057771844,0.05167786262932667,0.8443766404243113,-0.37515994079874193,-0.9239514023491159,0.4175388369962426,0.6614461532408533,-1.3507892057771844,-0.6190672570433526,0.7833998113631586,1.1492607857300745,0.8443766404243113,-0.7410209151656579,-1.0459050604714213,0.35656200793508996,-1.777627009205253,-0.9239514023491159,-1.1068818895325738,0.5394924951185479,-0.37515994079874193,0.6004693241797007],\"type\":\"scatter3d\"}],                        {\"template\":{\"data\":{\"histogram2dcontour\":[{\"type\":\"histogram2dcontour\",\"colorbar\":{\"outlinewidth\":0,\"ticks\":\"\"},\"colorscale\":[[0.0,\"#0d0887\"],[0.1111111111111111,\"#46039f\"],[0.2222222222222222,\"#7201a8\"],[0.3333333333333333,\"#9c179e\"],[0.4444444444444444,\"#bd3786\"],[0.5555555555555556,\"#d8576b\"],[0.6666666666666666,\"#ed7953\"],[0.7777777777777778,\"#fb9f3a\"],[0.8888888888888888,\"#fdca26\"],[1.0,\"#f0f921\"]]}],\"choropleth\":[{\"type\":\"choropleth\",\"colorbar\":{\"outlinewidth\":0,\"ticks\":\"\"}}],\"histogram2d\":[{\"type\":\"histogram2d\",\"colorbar\":{\"outlinewidth\":0,\"ticks\":\"\"},\"colorscale\":[[0.0,\"#0d0887\"],[0.1111111111111111,\"#46039f\"],[0.2222222222222222,\"#7201a8\"],[0.3333333333333333,\"#9c179e\"],[0.4444444444444444,\"#bd3786\"],[0.5555555555555556,\"#d8576b\"],[0.6666666666666666,\"#ed7953\"],[0.7777777777777778,\"#fb9f3a\"],[0.8888888888888888,\"#fdca26\"],[1.0,\"#f0f921\"]]}],\"heatmap\":[{\"type\":\"heatmap\",\"colorbar\":{\"outlinewidth\":0,\"ticks\":\"\"},\"colorscale\":[[0.0,\"#0d0887\"],[0.1111111111111111,\"#46039f\"],[0.2222222222222222,\"#7201a8\"],[0.3333333333333333,\"#9c179e\"],[0.4444444444444444,\"#bd3786\"],[0.5555555555555556,\"#d8576b\"],[0.6666666666666666,\"#ed7953\"],[0.7777777777777778,\"#fb9f3a\"],[0.8888888888888888,\"#fdca26\"],[1.0,\"#f0f921\"]]}],\"heatmapgl\":[{\"type\":\"heatmapgl\",\"colorbar\":{\"outlinewidth\":0,\"ticks\":\"\"},\"colorscale\":[[0.0,\"#0d0887\"],[0.1111111111111111,\"#46039f\"],[0.2222222222222222,\"#7201a8\"],[0.3333333333333333,\"#9c179e\"],[0.4444444444444444,\"#bd3786\"],[0.5555555555555556,\"#d8576b\"],[0.6666666666666666,\"#ed7953\"],[0.7777777777777778,\"#fb9f3a\"],[0.8888888888888888,\"#fdca26\"],[1.0,\"#f0f921\"]]}],\"contourcarpet\":[{\"type\":\"contourcarpet\",\"colorbar\":{\"outlinewidth\":0,\"ticks\":\"\"}}],\"contour\":[{\"type\":\"contour\",\"colorbar\":{\"outlinewidth\":0,\"ticks\":\"\"},\"colorscale\":[[0.0,\"#0d0887\"],[0.1111111111111111,\"#46039f\"],[0.2222222222222222,\"#7201a8\"],[0.3333333333333333,\"#9c179e\"],[0.4444444444444444,\"#bd3786\"],[0.5555555555555556,\"#d8576b\"],[0.6666666666666666,\"#ed7953\"],[0.7777777777777778,\"#fb9f3a\"],[0.8888888888888888,\"#fdca26\"],[1.0,\"#f0f921\"]]}],\"surface\":[{\"type\":\"surface\",\"colorbar\":{\"outlinewidth\":0,\"ticks\":\"\"},\"colorscale\":[[0.0,\"#0d0887\"],[0.1111111111111111,\"#46039f\"],[0.2222222222222222,\"#7201a8\"],[0.3333333333333333,\"#9c179e\"],[0.4444444444444444,\"#bd3786\"],[0.5555555555555556,\"#d8576b\"],[0.6666666666666666,\"#ed7953\"],[0.7777777777777778,\"#fb9f3a\"],[0.8888888888888888,\"#fdca26\"],[1.0,\"#f0f921\"]]}],\"mesh3d\":[{\"type\":\"mesh3d\",\"colorbar\":{\"outlinewidth\":0,\"ticks\":\"\"}}],\"scatter\":[{\"fillpattern\":{\"fillmode\":\"overlay\",\"size\":10,\"solidity\":0.2},\"type\":\"scatter\"}],\"parcoords\":[{\"type\":\"parcoords\",\"line\":{\"colorbar\":{\"outlinewidth\":0,\"ticks\":\"\"}}}],\"scatterpolargl\":[{\"type\":\"scatterpolargl\",\"marker\":{\"colorbar\":{\"outlinewidth\":0,\"ticks\":\"\"}}}],\"bar\":[{\"error_x\":{\"color\":\"#2a3f5f\"},\"error_y\":{\"color\":\"#2a3f5f\"},\"marker\":{\"line\":{\"color\":\"#E5ECF6\",\"width\":0.5},\"pattern\":{\"fillmode\":\"overlay\",\"size\":10,\"solidity\":0.2}},\"type\":\"bar\"}],\"scattergeo\":[{\"type\":\"scattergeo\",\"marker\":{\"colorbar\":{\"outlinewidth\":0,\"ticks\":\"\"}}}],\"scatterpolar\":[{\"type\":\"scatterpolar\",\"marker\":{\"colorbar\":{\"outlinewidth\":0,\"ticks\":\"\"}}}],\"histogram\":[{\"marker\":{\"pattern\":{\"fillmode\":\"overlay\",\"size\":10,\"solidity\":0.2}},\"type\":\"histogram\"}],\"scattergl\":[{\"type\":\"scattergl\",\"marker\":{\"colorbar\":{\"outlinewidth\":0,\"ticks\":\"\"}}}],\"scatter3d\":[{\"type\":\"scatter3d\",\"line\":{\"colorbar\":{\"outlinewidth\":0,\"ticks\":\"\"}},\"marker\":{\"colorbar\":{\"outlinewidth\":0,\"ticks\":\"\"}}}],\"scattermapbox\":[{\"type\":\"scattermapbox\",\"marker\":{\"colorbar\":{\"outlinewidth\":0,\"ticks\":\"\"}}}],\"scatterternary\":[{\"type\":\"scatterternary\",\"marker\":{\"colorbar\":{\"outlinewidth\":0,\"ticks\":\"\"}}}],\"scattercarpet\":[{\"type\":\"scattercarpet\",\"marker\":{\"colorbar\":{\"outlinewidth\":0,\"ticks\":\"\"}}}],\"carpet\":[{\"aaxis\":{\"endlinecolor\":\"#2a3f5f\",\"gridcolor\":\"white\",\"linecolor\":\"white\",\"minorgridcolor\":\"white\",\"startlinecolor\":\"#2a3f5f\"},\"baxis\":{\"endlinecolor\":\"#2a3f5f\",\"gridcolor\":\"white\",\"linecolor\":\"white\",\"minorgridcolor\":\"white\",\"startlinecolor\":\"#2a3f5f\"},\"type\":\"carpet\"}],\"table\":[{\"cells\":{\"fill\":{\"color\":\"#EBF0F8\"},\"line\":{\"color\":\"white\"}},\"header\":{\"fill\":{\"color\":\"#C8D4E3\"},\"line\":{\"color\":\"white\"}},\"type\":\"table\"}],\"barpolar\":[{\"marker\":{\"line\":{\"color\":\"#E5ECF6\",\"width\":0.5},\"pattern\":{\"fillmode\":\"overlay\",\"size\":10,\"solidity\":0.2}},\"type\":\"barpolar\"}],\"pie\":[{\"automargin\":true,\"type\":\"pie\"}]},\"layout\":{\"autotypenumbers\":\"strict\",\"colorway\":[\"#636efa\",\"#EF553B\",\"#00cc96\",\"#ab63fa\",\"#FFA15A\",\"#19d3f3\",\"#FF6692\",\"#B6E880\",\"#FF97FF\",\"#FECB52\"],\"font\":{\"color\":\"#2a3f5f\"},\"hovermode\":\"closest\",\"hoverlabel\":{\"align\":\"left\"},\"paper_bgcolor\":\"white\",\"plot_bgcolor\":\"#E5ECF6\",\"polar\":{\"bgcolor\":\"#E5ECF6\",\"angularaxis\":{\"gridcolor\":\"white\",\"linecolor\":\"white\",\"ticks\":\"\"},\"radialaxis\":{\"gridcolor\":\"white\",\"linecolor\":\"white\",\"ticks\":\"\"}},\"ternary\":{\"bgcolor\":\"#E5ECF6\",\"aaxis\":{\"gridcolor\":\"white\",\"linecolor\":\"white\",\"ticks\":\"\"},\"baxis\":{\"gridcolor\":\"white\",\"linecolor\":\"white\",\"ticks\":\"\"},\"caxis\":{\"gridcolor\":\"white\",\"linecolor\":\"white\",\"ticks\":\"\"}},\"coloraxis\":{\"colorbar\":{\"outlinewidth\":0,\"ticks\":\"\"}},\"colorscale\":{\"sequential\":[[0.0,\"#0d0887\"],[0.1111111111111111,\"#46039f\"],[0.2222222222222222,\"#7201a8\"],[0.3333333333333333,\"#9c179e\"],[0.4444444444444444,\"#bd3786\"],[0.5555555555555556,\"#d8576b\"],[0.6666666666666666,\"#ed7953\"],[0.7777777777777778,\"#fb9f3a\"],[0.8888888888888888,\"#fdca26\"],[1.0,\"#f0f921\"]],\"sequentialminus\":[[0.0,\"#0d0887\"],[0.1111111111111111,\"#46039f\"],[0.2222222222222222,\"#7201a8\"],[0.3333333333333333,\"#9c179e\"],[0.4444444444444444,\"#bd3786\"],[0.5555555555555556,\"#d8576b\"],[0.6666666666666666,\"#ed7953\"],[0.7777777777777778,\"#fb9f3a\"],[0.8888888888888888,\"#fdca26\"],[1.0,\"#f0f921\"]],\"diverging\":[[0,\"#8e0152\"],[0.1,\"#c51b7d\"],[0.2,\"#de77ae\"],[0.3,\"#f1b6da\"],[0.4,\"#fde0ef\"],[0.5,\"#f7f7f7\"],[0.6,\"#e6f5d0\"],[0.7,\"#b8e186\"],[0.8,\"#7fbc41\"],[0.9,\"#4d9221\"],[1,\"#276419\"]]},\"xaxis\":{\"gridcolor\":\"white\",\"linecolor\":\"white\",\"ticks\":\"\",\"title\":{\"standoff\":15},\"zerolinecolor\":\"white\",\"automargin\":true,\"zerolinewidth\":2},\"yaxis\":{\"gridcolor\":\"white\",\"linecolor\":\"white\",\"ticks\":\"\",\"title\":{\"standoff\":15},\"zerolinecolor\":\"white\",\"automargin\":true,\"zerolinewidth\":2},\"scene\":{\"xaxis\":{\"backgroundcolor\":\"#E5ECF6\",\"gridcolor\":\"white\",\"linecolor\":\"white\",\"showbackground\":true,\"ticks\":\"\",\"zerolinecolor\":\"white\",\"gridwidth\":2},\"yaxis\":{\"backgroundcolor\":\"#E5ECF6\",\"gridcolor\":\"white\",\"linecolor\":\"white\",\"showbackground\":true,\"ticks\":\"\",\"zerolinecolor\":\"white\",\"gridwidth\":2},\"zaxis\":{\"backgroundcolor\":\"#E5ECF6\",\"gridcolor\":\"white\",\"linecolor\":\"white\",\"showbackground\":true,\"ticks\":\"\",\"zerolinecolor\":\"white\",\"gridwidth\":2}},\"shapedefaults\":{\"line\":{\"color\":\"#2a3f5f\"}},\"annotationdefaults\":{\"arrowcolor\":\"#2a3f5f\",\"arrowhead\":0,\"arrowwidth\":1},\"geo\":{\"bgcolor\":\"white\",\"landcolor\":\"#E5ECF6\",\"subunitcolor\":\"white\",\"showland\":true,\"showlakes\":true,\"lakecolor\":\"white\"},\"title\":{\"x\":0.05},\"mapbox\":{\"style\":\"light\"}}},\"scene\":{\"domain\":{\"x\":[0.0,1.0],\"y\":[0.0,1.0]},\"xaxis\":{\"title\":{\"text\":\"insuline\"}},\"yaxis\":{\"title\":{\"text\":\"glucose\"}},\"zaxis\":{\"title\":{\"text\":\"pression\"}}},\"legend\":{\"title\":{\"text\":\"<b>Malade ?</b>\"},\"tracegroupgap\":0,\"font\":{\"family\":\"Verdana\",\"size\":14},\"x\":0.9,\"y\":0.5,\"bordercolor\":\"gray\",\"borderwidth\":2},\"margin\":{\"t\":60},\"width\":700},                        {\"responsive\": true}                    ).then(function(){\n",
       "                            \n",
       "var gd = document.getElementById('2b66291f-53e5-4053-bf9c-504dbda1326e');\n",
       "var x = new MutationObserver(function (mutations, observer) {{\n",
       "        var display = window.getComputedStyle(gd).display;\n",
       "        if (!display || display === 'none') {{\n",
       "            console.log([gd, 'removed!']);\n",
       "            Plotly.purge(gd);\n",
       "            observer.disconnect();\n",
       "        }}\n",
       "}});\n",
       "\n",
       "// Listen for the removal of the full notebook cells\n",
       "var notebookContainer = gd.closest('#notebook-container');\n",
       "if (notebookContainer) {{\n",
       "    x.observe(notebookContainer, {childList: true});\n",
       "}}\n",
       "\n",
       "// Listen for the clearing of the current output cell\n",
       "var outputEl = gd.closest('.output');\n",
       "if (outputEl) {{\n",
       "    x.observe(outputEl, {childList: true});\n",
       "}}\n",
       "\n",
       "                        })                };                });            </script>        </div>"
      ]
     },
     "metadata": {},
     "output_type": "display_data"
    }
   ],
   "source": [
    "import plotly. express as px\n",
    "\n",
    "fig = px.scatter_3d(\n",
    "    data_frame = Tn,\n",
    "    x='insuline',\n",
    "    y='glucose',\n",
    "    z= 'pression',\n",
    "    opacity = 0.6,\n",
    "    color = Tn['M'].astype(str),\n",
    "    color_discrete_map={'1':'gray',\n",
    "                       '0':'blue'}\n",
    "            )\n",
    "\n",
    "fig.update_layout(\n",
    "width = 700,\n",
    "\n",
    "    legend = {'x' : 0.9,\n",
    "              'y' : 0.5, \n",
    "              'title' : '<b>Malade ?</b>',\n",
    "               'bordercolor': 'gray',\n",
    "              'font': {'family':'Verdana','size':14},\n",
    "              'borderwidth':2,\n",
    "             }\n",
    ")\n",
    "fig.show ()"
   ]
  },
  {
   "cell_type": "code",
   "execution_count": 22,
   "id": "b8e6760f",
   "metadata": {},
   "outputs": [
    {
     "data": {
      "application/vnd.plotly.v1+json": {
       "config": {
        "plotlyServerURL": "https://plot.ly"
       },
       "data": [
        {
         "hovertemplate": "color=1<br>grossesses=%{x}<br>insuline=%{y}<br>age=%{z}<extra></extra>",
         "legendgroup": "1",
         "marker": {
          "color": "gray",
          "opacity": 0.6,
          "symbol": "circle"
         },
         "mode": "markers",
         "name": "1",
         "scene": "scene",
         "showlegend": true,
         "type": "scatter3d",
         "x": [
          -0.516686953868722,
          1.7544644917080783,
          -0.516686953868722,
          1.470570561010978,
          -0.23279302317162198,
          0.3349948382225781,
          0.05110090752547805,
          1.186676630313878,
          0.05110090752547805,
          -0.516686953868722,
          -0.23279302317162198,
          0.6188887689196781,
          0.6188887689196781,
          0.3349948382225781,
          -0.516686953868722,
          0.3349948382225781,
          -0.8005808845658221,
          1.470570561010978,
          0.9027826996167782,
          -0.516686953868722,
          0.05110090752547805,
          2.038358422405178,
          -0.23279302317162198,
          0.6188887689196781,
          1.186676630313878,
          -0.23279302317162198,
          -0.23279302317162198,
          -0.516686953868722,
          0.6188887689196781,
          -0.516686953868722,
          -0.516686953868722,
          -0.516686953868722,
          -0.8005808845658221,
          -0.516686953868722,
          0.05110090752547805,
          -0.516686953868722,
          0.3349948382225781,
          -0.23279302317162198,
          0.05110090752547805,
          2.8900402144964783,
          -0.516686953868722,
          -0.23279302317162198,
          0.6188887689196781,
          -0.8005808845658221,
          0.3349948382225781,
          0.6188887689196781,
          -0.516686953868722,
          -0.23279302317162198,
          0.3349948382225781,
          0.3349948382225781,
          0.3349948382225781,
          1.470570561010978,
          0.6188887689196781,
          0.05110090752547805,
          -0.23279302317162198,
          -0.516686953868722,
          1.470570561010978,
          1.186676630313878,
          1.186676630313878,
          1.186676630313878,
          1.186676630313878,
          -0.8005808845658221,
          0.3349948382225781,
          1.186676630313878,
          0.3349948382225781,
          -0.516686953868722,
          -0.23279302317162198,
          -0.23279302317162198,
          1.470570561010978,
          -0.8005808845658221,
          -0.516686953868722,
          -0.23279302317162198,
          -0.23279302317162198,
          1.186676630313878,
          0.3349948382225781,
          -0.23279302317162198,
          0.3349948382225781,
          1.470570561010978,
          -0.516686953868722,
          1.470570561010978,
          1.470570561010978,
          0.6188887689196781,
          0.6188887689196781,
          2.038358422405178,
          1.470570561010978,
          -0.516686953868722,
          -0.23279302317162198,
          0.6188887689196781,
          1.186676630313878,
          1.186676630313878,
          -0.516686953868722,
          2.3222523531022783,
          0.3349948382225781,
          -0.23279302317162198,
          1.186676630313878,
          -0.23279302317162198,
          0.3349948382225781,
          0.3349948382225781,
          0.05110090752547805,
          2.6061462837993785,
          0.3349948382225781,
          -0.516686953868722,
          0.9027826996167782,
          0.6188887689196781,
          2.038358422405178,
          1.470570561010978,
          -0.516686953868722,
          0.05110090752547805,
          0.05110090752547805,
          -0.516686953868722,
          2.038358422405178,
          -0.516686953868722,
          0.05110090752547805,
          1.470570561010978,
          2.3222523531022783,
          -0.8005808845658221,
          0.05110090752547805,
          1.186676630313878,
          -1.0844748152629222,
          2.6061462837993785,
          0.3349948382225781,
          1.470570561010978,
          0.9027826996167782,
          1.186676630313878,
          0.9027826996167782,
          1.470570561010978,
          0.3349948382225781,
          1.186676630313878,
          0.3349948382225781,
          0.6188887689196781,
          0.3349948382225781,
          1.470570561010978,
          0.05110090752547805,
          1.7544644917080783,
          0.05110090752547805,
          -0.8005808845658221,
          -0.23279302317162198,
          -0.23279302317162198,
          1.7544644917080783,
          -0.516686953868722,
          0.3349948382225781,
          0.05110090752547805,
          0.6188887689196781,
          -0.8005808845658221,
          1.7544644917080783,
          0.05110090752547805,
          1.186676630313878,
          1.186676630313878,
          0.05110090752547805,
          -0.23279302317162198,
          -0.23279302317162198,
          1.470570561010978,
          -0.516686953868722,
          0.6188887689196781,
          1.7544644917080783,
          -0.516686953868722,
          1.186676630313878,
          2.8900402144964783,
          2.038358422405178,
          -0.23279302317162198,
          1.7544644917080783,
          0.05110090752547805,
          1.186676630313878,
          0.05110090752547805,
          -0.23279302317162198,
          1.470570561010978,
          -0.23279302317162198,
          -0.8005808845658221,
          1.470570561010978,
          1.470570561010978,
          -0.23279302317162198,
          -0.516686953868722,
          -0.23279302317162198,
          0.6188887689196781,
          1.7544644917080783,
          -0.23279302317162198,
          2.6061462837993785,
          1.470570561010978,
          0.6188887689196781,
          0.3349948382225781,
          0.6188887689196781,
          1.186676630313878,
          2.038358422405178,
          0.05110090752547805,
          -0.516686953868722,
          -0.23279302317162198,
          -0.516686953868722,
          -0.23279302317162198,
          1.186676630313878,
          -0.516686953868722,
          -0.516686953868722,
          2.038358422405178,
          0.3349948382225781,
          -0.23279302317162198,
          -0.516686953868722,
          0.05110090752547805,
          1.7544644917080783,
          0.3349948382225781,
          2.038358422405178,
          0.05110090752547805
         ],
         "y": [
          -0.9124451408026844,
          2.573584695730805,
          -0.4918403138998707,
          0.4990761427016733,
          1.1335478307415108,
          -0.6843204889231922,
          0.7771030621798043,
          3.906688130151587,
          0.5204628288153756,
          3.3720209773090275,
          0.6202673640126535,
          -0.5417425814985096,
          0.6202673640126535,
          4.29164848019823,
          -0.7057071750368946,
          0.8341342251496774,
          3.6856923736433287,
          -0.5987737444683826,
          0.4135293982468637,
          -0.5987737444683826,
          -0.7627383380067676,
          -0.9195740361739185,
          0.3351115491632883,
          -0.02846211476965231,
          1.2119656798250862,
          -0.07123548699705709,
          -0.948089617658855,
          -0.7484805472642994,
          1.4400903317045783,
          0.7414585853236336,
          -0.9195740361739185,
          1.7822773095238165,
          5.3466715284207345e-05,
          0.0713424204276255,
          0.7699741668085702,
          0.15688916488243504,
          -0.5773870583546803,
          -0.9552185130300891,
          0.21392032785230808,
          -0.7057071750368946,
          -0.6059026398396168,
          1.5612815530155586,
          -0.03559101014088644,
          0.22817811859477635,
          -0.9979918852574939,
          -0.5274847907560414,
          -0.47758252315740246,
          -0.44906694167246597,
          -0.4847114185286366,
          -0.4847114185286366,
          -0.44906694167246597,
          0.47056056121673673,
          -0.613031535210851,
          3.9138170255228206,
          0.021440152828986595,
          0.926809864975721,
          -0.9267029315451526,
          -0.7128360704081287,
          0.4563027704742685,
          -0.03559101014088644,
          0.7557163760661019,
          1.3545435872497689,
          -0.6629338028094898,
          -0.5132270000135731,
          0.4563027704742685,
          -0.9979918852574939,
          1.2975124242798957,
          -0.4918403138998707,
          -0.5845159537259144,
          0.9553254464606575,
          -0.8981873500602161,
          -0.07836438236829121,
          0.5347206195578439,
          -0.43480915092999767,
          1.4472192270758124,
          0.25669370007971287,
          -0.5274847907560414,
          -1.0122496759999622,
          -0.43480915092999767,
          -0.6771915935519581,
          0.2923381769358835,
          -0.506098104642339,
          -0.5987737444683826,
          -0.4633247324149342,
          1.368801377992237,
          0.6202673640126535,
          0.812747539035975,
          2.4452645790485907,
          0.3351115491632883,
          -0.6059026398396168,
          1.3331569011360664,
          0.4634316658455026,
          -0.9195740361739185,
          0.04995573431392311,
          -0.5916448490971485,
          -0.8768006639465137,
          1.5684104483867927,
          -0.9409607222876208,
          0.35649823527699065,
          1.3260280057648324,
          1.2761257381661935,
          2.1743665549416935,
          0.021440152828986595,
          -0.8910584546889819,
          0.3778849213906931,
          -0.10687996385322773,
          0.014311257457752465,
          -0.8839295593177479,
          -0.6059026398396168,
          0.17827585099613744,
          1.361672482621003,
          1.9533707984334356,
          -0.4847114185286366,
          0.819876434407209,
          -0.04271990551212057,
          -0.8554139778328114,
          -0.6059026398396168,
          1.42583254096211,
          1.5113792854169197,
          -0.506098104642339,
          0.32798265379205416,
          -0.014204324027184051,
          -0.04271990551212057,
          1.1763212029689156,
          1.2262234705675545,
          -1.0051207806287281,
          -0.5132270000135731,
          -0.506098104642339,
          1.4044458548484078,
          0.1640180602536692,
          -0.5488714768697438,
          -0.014204324027184051,
          0.4206582936180978,
          -0.02133321939841818,
          1.2761257381661935,
          -0.7270938611505969,
          0.37075602601945895,
          0.39927160750439544,
          -0.4847114185286366,
          0.3065959676783518,
          2.2242688225403326,
          -0.6985782796656604,
          -0.5274847907560414,
          0.3778849213906931,
          -0.014204324027184051,
          0.8270053297784432,
          -0.7912539194917042,
          0.983841027945594,
          0.44204497973180024,
          2.6021002772157416,
          1.3331569011360664,
          -0.7128360704081287,
          -0.44906694167246597,
          0.08560021117009375,
          -0.6272893259533192,
          3.1011229532021303,
          2.131593182714289,
          3.749852431984436,
          -0.506098104642339,
          0.5846228871564828,
          -1.0051207806287281,
          1.1478056214839791,
          -0.07836438236829121,
          -0.6415471166957875,
          -0.4633247324149342,
          0.3065959676783518,
          -0.7484805472642994,
          0.44204497973180024,
          0.14976026951120092,
          -0.6344182213245533,
          2.1458509734567572,
          1.3260280057648324,
          -0.5702581629834461,
          -0.44906694167246597,
          0.7200718992099313,
          0.7485874806948678,
          -0.5845159537259144,
          0.5204628288153756,
          1.696730565069007,
          -0.9552185130300891,
          0.14976026951120092,
          0.4135293982468637,
          0.9553254464606575,
          0.64878294549759,
          0.40640050287562957,
          -0.4847114185286366,
          0.9909699233168282,
          2.1102064966005867,
          -0.6272893259533192,
          1.3830591687347054,
          1.311770215022364,
          0.8270053297784432,
          -0.4561958370437001,
          2.08169091511565,
          -0.04271990551212057,
          -0.7342227565218311,
          0.2923381769358835,
          -0.43480915092999767,
          0.20679143248107396,
          -0.5417425814985096
         ],
         "z": [
          0.33499808422178057,
          0.9700655424621231,
          -0.696986535418776,
          0.49376494878186616,
          -0.7763699676988187,
          0.6525318133419518,
          -0.6176031031387331,
          -0.7763699676988187,
          2.4783507557829365,
          1.2082158393022515,
          -0.696986535418776,
          -0.696986535418776,
          1.1288324070222087,
          2.3989673235028937,
          0.6525318133419518,
          0.17623121966169494,
          -0.7763699676988187,
          0.9700655424621231,
          1.9226667298226368,
          -0.7763699676988187,
          0.8906821101820802,
          -0.6176031031387331,
          1.0494489747421658,
          -0.696986535418776,
          -0.14130250945847628,
          1.2875992715822944,
          2.3989673235028937,
          1.1288324070222087,
          0.573148381061909,
          -0.696986535418776,
          -0.696986535418776,
          1.0494489747421658,
          0.49376494878186616,
          -0.7763699676988187,
          0.9700655424621231,
          0.573148381061909,
          -0.7763699676988187,
          0.6525318133419518,
          -0.7763699676988187,
          -0.696986535418776,
          -0.696986535418776,
          -0.7763699676988187,
          1.843283297542594,
          1.0494489747421658,
          -0.14130250945847628,
          -0.696986535418776,
          2.3989673235028937,
          -0.696986535418776,
          -0.6176031031387331,
          0.573148381061909,
          -0.696986535418776,
          -0.6176031031387331,
          2.240200458942808,
          -0.7763699676988187,
          2.160817026662765,
          -0.696986535418776,
          -0.6176031031387331,
          1.1288324070222087,
          -0.696986535418776,
          -0.7763699676988187,
          1.843283297542594,
          2.637117620343022,
          1.9226667298226368,
          2.319583891222851,
          -0.6176031031387331,
          0.9700655424621231,
          0.33499808422178057,
          0.8112986779020375,
          -0.7763699676988187,
          1.2082158393022515,
          -0.7763699676988187,
          -0.6176031031387331,
          0.8906821101820802,
          0.9700655424621231,
          -0.696986535418776,
          1.0494489747421658,
          0.573148381061909,
          1.2875992715822944,
          -0.7763699676988187,
          2.319583891222851,
          -0.7763699676988187,
          -0.6176031031387331,
          2.0814335943827222,
          -0.14130250945847628,
          1.2082158393022515,
          -0.696986535418776,
          1.9226667298226368,
          -0.6176031031387331,
          0.9700655424621231,
          -0.06191907717843348,
          0.33499808422178057,
          2.4783507557829365,
          -0.06191907717843348,
          -0.6176031031387331,
          2.0814335943827222,
          1.763899865262551,
          -0.7763699676988187,
          1.0494489747421658,
          1.9226667298226368,
          -0.7763699676988187,
          0.49376494878186616,
          1.1288324070222087,
          -0.7763699676988187,
          -0.7763699676988187,
          0.9700655424621231,
          -0.7763699676988187,
          1.1288324070222087,
          1.1288324070222087,
          -0.7763699676988187,
          1.6845164329825084,
          -0.696986535418776,
          -0.6176031031387331,
          0.17623121966169494,
          -0.6176031031387331,
          1.1288324070222087,
          0.7319152456219946,
          -0.7763699676988187,
          1.0494489747421658,
          -0.7763699676988187,
          -0.6176031031387331,
          2.240200458942808,
          2.3989673235028937,
          1.0494489747421658,
          -0.6176031031387331,
          -0.7763699676988187,
          0.41438151650182337,
          1.0494489747421658,
          -0.696986535418776,
          1.843283297542594,
          -0.696986535418776,
          0.9700655424621231,
          -0.696986535418776,
          -0.6176031031387331,
          1.1288324070222087,
          -0.6176031031387331,
          -0.6176031031387331,
          -0.6176031031387331,
          -0.7763699676988187,
          1.2082158393022515,
          1.1288324070222087,
          1.1288324070222087,
          -0.696986535418776,
          -0.696986535418776,
          -0.696986535418776,
          -0.696986535418776,
          1.1288324070222087,
          0.41438151650182337,
          -0.696986535418776,
          0.9700655424621231,
          -0.7763699676988187,
          0.25561465194173777,
          0.9700655424621231,
          -0.696986535418776,
          -0.7763699676988187,
          -0.7763699676988187,
          -0.696986535418776,
          -0.7763699676988187,
          -0.6176031031387331,
          2.3989673235028937,
          -0.7763699676988187,
          0.01746435510160933,
          -0.7763699676988187,
          -0.696986535418776,
          -0.7763699676988187,
          0.573148381061909,
          -0.7763699676988187,
          -0.696986535418776,
          -0.7763699676988187,
          0.41438151650182337,
          1.9226667298226368,
          2.240200458942808,
          0.573148381061909,
          -0.6176031031387331,
          -0.696986535418776,
          1.0494489747421658,
          -0.7763699676988187,
          2.7958844849031075,
          -0.06191907717843348,
          2.4783507557829365,
          -0.696986535418776,
          -0.7763699676988187,
          -0.696986535418776,
          0.33499808422178057,
          1.1288324070222087,
          1.843283297542594,
          -0.7763699676988187,
          0.8906821101820802,
          -0.696986535418776,
          -0.696986535418776,
          0.49376494878186616,
          1.0494489747421658,
          2.319583891222851,
          1.2875992715822944,
          2.240200458942808,
          0.9700655424621231,
          -0.6176031031387331,
          -0.7763699676988187,
          0.8906821101820802,
          -0.696986535418776,
          -0.696986535418776
         ]
        },
        {
         "hovertemplate": "color=0<br>grossesses=%{x}<br>insuline=%{y}<br>age=%{z}<extra></extra>",
         "legendgroup": "0",
         "marker": {
          "color": "blue",
          "opacity": 0.6,
          "symbol": "circle"
         },
         "mode": "markers",
         "name": "0",
         "scene": "scene",
         "showlegend": true,
         "type": "scatter3d",
         "x": [
          -0.8005808845658221,
          -1.0844748152629222,
          0.9027826996167782,
          -1.0844748152629222,
          1.470570561010978,
          1.7544644917080783,
          -0.8005808845658221,
          1.470570561010978,
          -1.0844748152629222,
          -0.516686953868722,
          -1.0844748152629222,
          0.05110090752547805,
          -1.0844748152629222,
          0.6188887689196781,
          -0.8005808845658221,
          -0.8005808845658221,
          -1.0844748152629222,
          -0.8005808845658221,
          -1.0844748152629222,
          -1.0844748152629222,
          -1.0844748152629222,
          -0.23279302317162198,
          -0.8005808845658221,
          -0.23279302317162198,
          -1.0844748152629222,
          -1.0844748152629222,
          -1.0844748152629222,
          -0.8005808845658221,
          -1.0844748152629222,
          -0.8005808845658221,
          -1.0844748152629222,
          -0.8005808845658221,
          -0.8005808845658221,
          -0.8005808845658221,
          -1.0844748152629222,
          -0.8005808845658221,
          -1.0844748152629222,
          -1.0844748152629222,
          -1.0844748152629222,
          -0.8005808845658221,
          -1.0844748152629222,
          -0.8005808845658221,
          -1.0844748152629222,
          -1.0844748152629222,
          -1.0844748152629222,
          -0.8005808845658221,
          -1.0844748152629222,
          0.6188887689196781,
          -0.8005808845658221,
          1.470570561010978,
          -0.8005808845658221,
          -1.0844748152629222,
          -0.8005808845658221,
          -1.0844748152629222,
          -1.0844748152629222,
          -1.0844748152629222,
          -0.23279302317162198,
          0.9027826996167782,
          -0.8005808845658221,
          -1.0844748152629222,
          -1.0844748152629222,
          -0.8005808845658221,
          -0.8005808845658221,
          -0.8005808845658221,
          -0.8005808845658221,
          1.470570561010978,
          0.6188887689196781,
          -1.0844748152629222,
          -0.8005808845658221,
          1.470570561010978,
          -1.0844748152629222,
          -0.8005808845658221,
          -1.0844748152629222,
          0.9027826996167782,
          -1.0844748152629222,
          -0.8005808845658221,
          -0.8005808845658221,
          -1.0844748152629222,
          -1.0844748152629222,
          1.470570561010978,
          -1.0844748152629222,
          -0.8005808845658221,
          0.6188887689196781,
          -1.0844748152629222,
          -1.0844748152629222,
          -1.0844748152629222,
          -0.8005808845658221,
          0.9027826996167782,
          -0.8005808845658221,
          0.9027826996167782,
          -1.0844748152629222,
          -0.8005808845658221,
          -1.0844748152629222,
          -1.0844748152629222,
          0.9027826996167782,
          0.3349948382225781,
          1.470570561010978,
          -1.0844748152629222,
          -0.8005808845658221,
          -0.23279302317162198,
          -0.8005808845658221,
          -1.0844748152629222,
          -1.0844748152629222,
          -0.8005808845658221,
          -1.0844748152629222,
          -1.0844748152629222,
          -0.8005808845658221,
          -1.0844748152629222,
          -1.0844748152629222,
          1.470570561010978,
          -1.0844748152629222,
          1.186676630313878,
          -1.0844748152629222,
          -1.0844748152629222,
          0.6188887689196781,
          -1.0844748152629222,
          1.186676630313878,
          -1.0844748152629222,
          -1.0844748152629222,
          -0.8005808845658221,
          0.3349948382225781,
          -1.0844748152629222,
          -0.8005808845658221,
          -0.8005808845658221,
          -0.8005808845658221,
          -0.23279302317162198,
          -0.8005808845658221,
          -1.0844748152629222,
          -1.0844748152629222,
          -1.0844748152629222,
          0.9027826996167782,
          -0.8005808845658221,
          1.7544644917080783,
          -1.0844748152629222,
          0.6188887689196781,
          -0.8005808845658221,
          -1.0844748152629222,
          1.186676630313878,
          -0.8005808845658221,
          1.7544644917080783,
          0.9027826996167782,
          -0.8005808845658221,
          -1.0844748152629222,
          -0.23279302317162198,
          -0.8005808845658221,
          -1.0844748152629222,
          -0.8005808845658221,
          -1.0844748152629222,
          -1.0844748152629222,
          -1.0844748152629222,
          -1.0844748152629222,
          -0.8005808845658221,
          -0.8005808845658221,
          -1.0844748152629222,
          0.9027826996167782,
          -0.23279302317162198,
          -1.0844748152629222,
          -1.0844748152629222,
          -0.516686953868722,
          -1.0844748152629222,
          0.6188887689196781,
          0.9027826996167782,
          -1.0844748152629222,
          1.470570561010978,
          -0.8005808845658221,
          -0.8005808845658221,
          -0.8005808845658221,
          0.6188887689196781,
          -1.0844748152629222,
          0.6188887689196781,
          -0.8005808845658221,
          0.9027826996167782,
          -1.0844748152629222,
          -1.0844748152629222,
          -1.0844748152629222,
          1.470570561010978,
          -1.0844748152629222,
          -0.8005808845658221,
          1.186676630313878,
          0.9027826996167782,
          1.470570561010978,
          0.6188887689196781,
          -0.8005808845658221,
          -1.0844748152629222,
          -0.8005808845658221,
          0.9027826996167782,
          1.7544644917080783,
          1.470570561010978,
          -1.0844748152629222,
          -0.8005808845658221,
          -1.0844748152629222,
          -1.0844748152629222,
          0.6188887689196781,
          -1.0844748152629222,
          -0.8005808845658221,
          0.05110090752547805,
          -0.8005808845658221,
          -0.8005808845658221,
          -0.8005808845658221,
          -0.8005808845658221
         ],
         "y": [
          -0.22807118516420793,
          -0.5488714768697438,
          -0.8554139778328114,
          -0.8126406056054065,
          0.2424359093372446,
          -1.0122496759999622,
          -0.8768006639465137,
          -0.9124451408026844,
          0.05708462968515724,
          -0.78412502412047,
          -0.9409607222876208,
          -0.5346136861272754,
          -0.8981873500602161,
          -0.6985782796656604,
          -0.8696717685752796,
          -0.8197695009766407,
          -0.7627383380067676,
          -0.9979918852574939,
          -0.8696717685752796,
          -0.613031535210851,
          -0.9623474084013233,
          -0.7769961287492358,
          -0.6558049074382557,
          0.7272007945811654,
          0.3065959676783518,
          0.6345251547551217,
          -0.8696717685752796,
          -0.7769961287492358,
          -0.5274847907560414,
          -0.7484805472642994,
          0.7272007945811654,
          0.8056186436647408,
          -0.8055117102341725,
          -0.8268983963478748,
          0.2709514908221811,
          -0.7983828148629383,
          -0.9766051991437915,
          -0.948089617658855,
          0.44204497973180024,
          -0.8981873500602161,
          -0.9053162454314502,
          0.18540474636737156,
          -0.841156187090343,
          0.08560021117009375,
          -0.841156187090343,
          0.14976026951120092,
          -0.9908629898862598,
          -0.22807118516420793,
          0.4990761427016733,
          0.20679143248107396,
          -0.7983828148629383,
          0.13550247876873267,
          -0.8839295593177479,
          -0.09262217311075947,
          0.1711469556249033,
          -0.7912539194917042,
          -0.8625428732040454,
          -0.9979918852574939,
          -0.7983828148629383,
          -0.9837340945150257,
          -0.007075428655949922,
          0.37075602601945895,
          2.1030776012293524,
          -0.7698672333780018,
          0.03569794357145485,
          -0.8126406056054065,
          -0.7270938611505969,
          -0.841156187090343,
          0.427787188989332,
          -0.7484805472642994,
          -0.9409607222876208,
          -0.8340272917191089,
          -0.18529781293680317,
          -0.22807118516420793,
          -0.7769961287492358,
          1.5113792854169197,
          -0.9124451408026844,
          -0.8055117102341725,
          -0.21381339442173966,
          -0.78412502412047,
          2.2670421947677375,
          0.926809864975721,
          -0.8197695009766407,
          -0.49896920927110483,
          -0.8197695009766407,
          0.7058141084674631,
          -0.8554139778328114,
          -0.5346136861272754,
          -0.8625428732040454,
          -0.8768006639465137,
          0.4349160843605661,
          -0.8340272917191089,
          -0.7484805472642994,
          -0.14252444070939838,
          0.09272910654132789,
          0.64878294549759,
          -0.05697769625458883,
          -0.22807118516420793,
          0.1426313741399668,
          0.48481835195920503,
          -0.9552185130300891,
          -0.8839295593177479,
          -0.78412502412047,
          0.6915563177249947,
          0.5204628288153756,
          -0.6059026398396168,
          -0.7627383380067676,
          -0.11400885922446186,
          -0.6985782796656604,
          -0.8197695009766407,
          -0.1924267083080373,
          -0.9979918852574939,
          -0.7769961287492358,
          -0.8554139778328114,
          0.18540474636737156,
          -0.9267029315451526,
          0.762845271437336,
          0.591751782527717,
          0.3850138167619272,
          -0.9267029315451526,
          0.20679143248107396,
          -0.8482850824615772,
          0.25669370007971287,
          -0.9908629898862598,
          -0.8340272917191089,
          -0.78412502412047,
          -0.8981873500602161,
          0.7842319575510385,
          -0.8625428732040454,
          -0.9124451408026844,
          -0.8197695009766407,
          0.04995573431392311,
          0.06421352505639137,
          -0.9623474084013233,
          -0.10687996385322773,
          -0.14252444070939838,
          0.05708462968515724,
          -0.8197695009766407,
          -0.6629338028094898,
          -0.03559101014088644,
          0.021440152828986595,
          -0.8340272917191089,
          0.6131384686414193,
          -0.7983828148629383,
          0.08560021117009375,
          -0.7484805472642994,
          -1.0051207806287281,
          1.361672482621003,
          -0.11400885922446186,
          -0.9552185130300891,
          0.19966253710983983,
          -0.6415471166957875,
          -0.8055117102341725,
          0.10698689728379615,
          -0.7413516518930653,
          -0.841156187090343,
          0.6345251547551217,
          -0.12826664996693013,
          -0.9979918852574939,
          -0.8482850824615772,
          -0.9623474084013233,
          0.24956480470847872,
          0.21392032785230808,
          0.3351115491632883,
          -0.8482850824615772,
          -0.9267029315451526,
          -0.620160430582085,
          -0.17816891756556902,
          -1.0122496759999622,
          -0.9267029315451526,
          3.5573722569611146,
          0.7058141084674631,
          -0.9409607222876208,
          -0.9837340945150257,
          -0.22807118516420793,
          -0.007075428655949922,
          0.0713424204276255,
          -0.7698672333780018,
          0.1426313741399668,
          -0.7484805472642994,
          -0.9124451408026844,
          0.263822595450947,
          0.12124468802626441,
          0.6131384686414193,
          -1.0122496759999622,
          3.6144034199309876,
          0.17827585099613744,
          -0.8910584546889819,
          -0.09975106848199361,
          -0.948089617658855,
          -0.8055117102341725,
          1.2903835289086616,
          5.3466715284207345e-05,
          3.6643056875296263,
          -0.8197695009766407,
          -0.7912539194917042,
          -0.9338318269163868,
          0.23530701396601048,
          -0.12113775459569599,
          -0.9837340945150257
         ],
         "z": [
          -0.696986535418776,
          -0.7763699676988187,
          -0.4588362385786475,
          -0.6176031031387331,
          -0.7763699676988187,
          -0.5382196708586904,
          -0.7763699676988187,
          -0.5382196708586904,
          -0.37945280629860473,
          -0.5382196708586904,
          -0.37945280629860473,
          0.33499808422178057,
          -0.6176031031387331,
          -0.6176031031387331,
          -0.37945280629860473,
          1.6845164329825084,
          -0.5382196708586904,
          -0.7763699676988187,
          -0.7763699676988187,
          -0.6176031031387331,
          -0.7763699676988187,
          -0.37945280629860473,
          -0.6176031031387331,
          -0.7763699676988187,
          -0.696986535418776,
          -0.6176031031387331,
          1.5257495684224227,
          -0.696986535418776,
          -0.37945280629860473,
          -0.37945280629860473,
          -0.6176031031387331,
          -0.696986535418776,
          -0.7763699676988187,
          -0.696986535418776,
          -0.4588362385786475,
          -0.37945280629860473,
          -0.4588362385786475,
          -0.696986535418776,
          -0.696986535418776,
          -0.4588362385786475,
          -0.6176031031387331,
          -0.4588362385786475,
          -0.6176031031387331,
          -0.4588362385786475,
          -0.37945280629860473,
          0.09684778738165213,
          -0.6176031031387331,
          0.17623121966169494,
          0.01746435510160933,
          -0.6176031031387331,
          -0.696986535418776,
          -0.6176031031387331,
          -0.7763699676988187,
          0.17623121966169494,
          -0.37945280629860473,
          -0.5382196708586904,
          -0.6176031031387331,
          -0.696986535418776,
          -0.6176031031387331,
          -0.4588362385786475,
          -0.7763699676988187,
          -0.7763699676988187,
          -0.37945280629860473,
          -0.7763699676988187,
          1.2082158393022515,
          -0.6176031031387331,
          -0.696986535418776,
          -0.37945280629860473,
          -0.6176031031387331,
          -0.4588362385786475,
          -0.6176031031387331,
          0.17623121966169494,
          -0.5382196708586904,
          -0.37945280629860473,
          -0.5382196708586904,
          0.33499808422178057,
          -0.4588362385786475,
          -0.696986535418776,
          -0.696986535418776,
          -0.7763699676988187,
          -0.37945280629860473,
          -0.6176031031387331,
          -0.37945280629860473,
          -0.7763699676988187,
          -0.37945280629860473,
          -0.7763699676988187,
          1.0494489747421658,
          -0.696986535418776,
          -0.6176031031387331,
          -0.37945280629860473,
          1.0494489747421658,
          2.240200458942808,
          -0.37945280629860473,
          1.6051330007024656,
          -0.37945280629860473,
          -0.6176031031387331,
          -0.6176031031387331,
          -0.696986535418776,
          -0.7763699676988187,
          -0.4588362385786475,
          -0.7763699676988187,
          -0.5382196708586904,
          -0.5382196708586904,
          -0.7763699676988187,
          -0.7763699676988187,
          0.17623121966169494,
          -0.4588362385786475,
          -0.6176031031387331,
          -0.6176031031387331,
          -0.696986535418776,
          -0.7763699676988187,
          -0.4588362385786475,
          -0.6176031031387331,
          -0.4588362385786475,
          -0.6176031031387331,
          2.319583891222851,
          3.1928016463033217,
          -0.7763699676988187,
          -0.696986535418776,
          -0.5382196708586904,
          -0.7763699676988187,
          -0.37945280629860473,
          -0.37945280629860473,
          -0.6176031031387331,
          1.1288324070222087,
          2.954651349463193,
          -0.696986535418776,
          2.240200458942808,
          -0.6176031031387331,
          -0.37945280629860473,
          -0.4588362385786475,
          -0.37945280629860473,
          -0.4588362385786475,
          -0.5382196708586904,
          -0.37945280629860473,
          -0.696986535418776,
          -0.6176031031387331,
          -0.7763699676988187,
          -0.5382196708586904,
          3.113418214023279,
          -0.6176031031387331,
          2.954651349463193,
          -0.7763699676988187,
          -0.37945280629860473,
          2.8752679171831503,
          -0.7763699676988187,
          -0.5382196708586904,
          -0.37945280629860473,
          -0.696986535418776,
          -0.4588362385786475,
          0.33499808422178057,
          -0.6176031031387331,
          -0.696986535418776,
          -0.5382196708586904,
          -0.7763699676988187,
          -0.696986535418776,
          -0.6176031031387331,
          -0.7763699676988187,
          -0.696986535418776,
          -0.4588362385786475,
          -0.696986535418776,
          -0.37945280629860473,
          -0.37945280629860473,
          -0.5382196708586904,
          -0.37945280629860473,
          -0.6176031031387331,
          -0.06191907717843348,
          -0.4588362385786475,
          -0.6176031031387331,
          -0.7763699676988187,
          -0.4588362385786475,
          0.8112986779020375,
          -0.4588362385786475,
          -0.4588362385786475,
          -0.7763699676988187,
          -0.5382196708586904,
          -0.7763699676988187,
          1.2875992715822944,
          -0.6176031031387331,
          -0.5382196708586904,
          2.160817026662765,
          -0.7763699676988187,
          1.2082158393022515,
          -0.696986535418776,
          -0.4588362385786475,
          -0.5382196708586904,
          -0.696986535418776,
          -0.5382196708586904,
          -0.6176031031387331,
          -0.37945280629860473,
          1.2082158393022515,
          -0.696986535418776,
          -0.696986535418776,
          -0.696986535418776,
          -0.4588362385786475,
          -0.696986535418776,
          -0.696986535418776,
          -0.696986535418776,
          -0.4588362385786475,
          0.01746435510160933
         ]
        }
       ],
       "layout": {
        "legend": {
         "bordercolor": "gray",
         "borderwidth": 2,
         "font": {
          "family": "Verdana",
          "size": 14
         },
         "title": {
          "text": "<b>Malade ?</b>"
         },
         "tracegroupgap": 0,
         "x": 0.9,
         "y": 0.5
        },
        "margin": {
         "t": 60
        },
        "scene": {
         "domain": {
          "x": [
           0,
           1
          ],
          "y": [
           0,
           1
          ]
         },
         "xaxis": {
          "title": {
           "text": "grossesses"
          }
         },
         "yaxis": {
          "title": {
           "text": "insuline"
          }
         },
         "zaxis": {
          "title": {
           "text": "age"
          }
         }
        },
        "template": {
         "data": {
          "bar": [
           {
            "error_x": {
             "color": "#2a3f5f"
            },
            "error_y": {
             "color": "#2a3f5f"
            },
            "marker": {
             "line": {
              "color": "#E5ECF6",
              "width": 0.5
             },
             "pattern": {
              "fillmode": "overlay",
              "size": 10,
              "solidity": 0.2
             }
            },
            "type": "bar"
           }
          ],
          "barpolar": [
           {
            "marker": {
             "line": {
              "color": "#E5ECF6",
              "width": 0.5
             },
             "pattern": {
              "fillmode": "overlay",
              "size": 10,
              "solidity": 0.2
             }
            },
            "type": "barpolar"
           }
          ],
          "carpet": [
           {
            "aaxis": {
             "endlinecolor": "#2a3f5f",
             "gridcolor": "white",
             "linecolor": "white",
             "minorgridcolor": "white",
             "startlinecolor": "#2a3f5f"
            },
            "baxis": {
             "endlinecolor": "#2a3f5f",
             "gridcolor": "white",
             "linecolor": "white",
             "minorgridcolor": "white",
             "startlinecolor": "#2a3f5f"
            },
            "type": "carpet"
           }
          ],
          "choropleth": [
           {
            "colorbar": {
             "outlinewidth": 0,
             "ticks": ""
            },
            "type": "choropleth"
           }
          ],
          "contour": [
           {
            "colorbar": {
             "outlinewidth": 0,
             "ticks": ""
            },
            "colorscale": [
             [
              0,
              "#0d0887"
             ],
             [
              0.1111111111111111,
              "#46039f"
             ],
             [
              0.2222222222222222,
              "#7201a8"
             ],
             [
              0.3333333333333333,
              "#9c179e"
             ],
             [
              0.4444444444444444,
              "#bd3786"
             ],
             [
              0.5555555555555556,
              "#d8576b"
             ],
             [
              0.6666666666666666,
              "#ed7953"
             ],
             [
              0.7777777777777778,
              "#fb9f3a"
             ],
             [
              0.8888888888888888,
              "#fdca26"
             ],
             [
              1,
              "#f0f921"
             ]
            ],
            "type": "contour"
           }
          ],
          "contourcarpet": [
           {
            "colorbar": {
             "outlinewidth": 0,
             "ticks": ""
            },
            "type": "contourcarpet"
           }
          ],
          "heatmap": [
           {
            "colorbar": {
             "outlinewidth": 0,
             "ticks": ""
            },
            "colorscale": [
             [
              0,
              "#0d0887"
             ],
             [
              0.1111111111111111,
              "#46039f"
             ],
             [
              0.2222222222222222,
              "#7201a8"
             ],
             [
              0.3333333333333333,
              "#9c179e"
             ],
             [
              0.4444444444444444,
              "#bd3786"
             ],
             [
              0.5555555555555556,
              "#d8576b"
             ],
             [
              0.6666666666666666,
              "#ed7953"
             ],
             [
              0.7777777777777778,
              "#fb9f3a"
             ],
             [
              0.8888888888888888,
              "#fdca26"
             ],
             [
              1,
              "#f0f921"
             ]
            ],
            "type": "heatmap"
           }
          ],
          "heatmapgl": [
           {
            "colorbar": {
             "outlinewidth": 0,
             "ticks": ""
            },
            "colorscale": [
             [
              0,
              "#0d0887"
             ],
             [
              0.1111111111111111,
              "#46039f"
             ],
             [
              0.2222222222222222,
              "#7201a8"
             ],
             [
              0.3333333333333333,
              "#9c179e"
             ],
             [
              0.4444444444444444,
              "#bd3786"
             ],
             [
              0.5555555555555556,
              "#d8576b"
             ],
             [
              0.6666666666666666,
              "#ed7953"
             ],
             [
              0.7777777777777778,
              "#fb9f3a"
             ],
             [
              0.8888888888888888,
              "#fdca26"
             ],
             [
              1,
              "#f0f921"
             ]
            ],
            "type": "heatmapgl"
           }
          ],
          "histogram": [
           {
            "marker": {
             "pattern": {
              "fillmode": "overlay",
              "size": 10,
              "solidity": 0.2
             }
            },
            "type": "histogram"
           }
          ],
          "histogram2d": [
           {
            "colorbar": {
             "outlinewidth": 0,
             "ticks": ""
            },
            "colorscale": [
             [
              0,
              "#0d0887"
             ],
             [
              0.1111111111111111,
              "#46039f"
             ],
             [
              0.2222222222222222,
              "#7201a8"
             ],
             [
              0.3333333333333333,
              "#9c179e"
             ],
             [
              0.4444444444444444,
              "#bd3786"
             ],
             [
              0.5555555555555556,
              "#d8576b"
             ],
             [
              0.6666666666666666,
              "#ed7953"
             ],
             [
              0.7777777777777778,
              "#fb9f3a"
             ],
             [
              0.8888888888888888,
              "#fdca26"
             ],
             [
              1,
              "#f0f921"
             ]
            ],
            "type": "histogram2d"
           }
          ],
          "histogram2dcontour": [
           {
            "colorbar": {
             "outlinewidth": 0,
             "ticks": ""
            },
            "colorscale": [
             [
              0,
              "#0d0887"
             ],
             [
              0.1111111111111111,
              "#46039f"
             ],
             [
              0.2222222222222222,
              "#7201a8"
             ],
             [
              0.3333333333333333,
              "#9c179e"
             ],
             [
              0.4444444444444444,
              "#bd3786"
             ],
             [
              0.5555555555555556,
              "#d8576b"
             ],
             [
              0.6666666666666666,
              "#ed7953"
             ],
             [
              0.7777777777777778,
              "#fb9f3a"
             ],
             [
              0.8888888888888888,
              "#fdca26"
             ],
             [
              1,
              "#f0f921"
             ]
            ],
            "type": "histogram2dcontour"
           }
          ],
          "mesh3d": [
           {
            "colorbar": {
             "outlinewidth": 0,
             "ticks": ""
            },
            "type": "mesh3d"
           }
          ],
          "parcoords": [
           {
            "line": {
             "colorbar": {
              "outlinewidth": 0,
              "ticks": ""
             }
            },
            "type": "parcoords"
           }
          ],
          "pie": [
           {
            "automargin": true,
            "type": "pie"
           }
          ],
          "scatter": [
           {
            "fillpattern": {
             "fillmode": "overlay",
             "size": 10,
             "solidity": 0.2
            },
            "type": "scatter"
           }
          ],
          "scatter3d": [
           {
            "line": {
             "colorbar": {
              "outlinewidth": 0,
              "ticks": ""
             }
            },
            "marker": {
             "colorbar": {
              "outlinewidth": 0,
              "ticks": ""
             }
            },
            "type": "scatter3d"
           }
          ],
          "scattercarpet": [
           {
            "marker": {
             "colorbar": {
              "outlinewidth": 0,
              "ticks": ""
             }
            },
            "type": "scattercarpet"
           }
          ],
          "scattergeo": [
           {
            "marker": {
             "colorbar": {
              "outlinewidth": 0,
              "ticks": ""
             }
            },
            "type": "scattergeo"
           }
          ],
          "scattergl": [
           {
            "marker": {
             "colorbar": {
              "outlinewidth": 0,
              "ticks": ""
             }
            },
            "type": "scattergl"
           }
          ],
          "scattermapbox": [
           {
            "marker": {
             "colorbar": {
              "outlinewidth": 0,
              "ticks": ""
             }
            },
            "type": "scattermapbox"
           }
          ],
          "scatterpolar": [
           {
            "marker": {
             "colorbar": {
              "outlinewidth": 0,
              "ticks": ""
             }
            },
            "type": "scatterpolar"
           }
          ],
          "scatterpolargl": [
           {
            "marker": {
             "colorbar": {
              "outlinewidth": 0,
              "ticks": ""
             }
            },
            "type": "scatterpolargl"
           }
          ],
          "scatterternary": [
           {
            "marker": {
             "colorbar": {
              "outlinewidth": 0,
              "ticks": ""
             }
            },
            "type": "scatterternary"
           }
          ],
          "surface": [
           {
            "colorbar": {
             "outlinewidth": 0,
             "ticks": ""
            },
            "colorscale": [
             [
              0,
              "#0d0887"
             ],
             [
              0.1111111111111111,
              "#46039f"
             ],
             [
              0.2222222222222222,
              "#7201a8"
             ],
             [
              0.3333333333333333,
              "#9c179e"
             ],
             [
              0.4444444444444444,
              "#bd3786"
             ],
             [
              0.5555555555555556,
              "#d8576b"
             ],
             [
              0.6666666666666666,
              "#ed7953"
             ],
             [
              0.7777777777777778,
              "#fb9f3a"
             ],
             [
              0.8888888888888888,
              "#fdca26"
             ],
             [
              1,
              "#f0f921"
             ]
            ],
            "type": "surface"
           }
          ],
          "table": [
           {
            "cells": {
             "fill": {
              "color": "#EBF0F8"
             },
             "line": {
              "color": "white"
             }
            },
            "header": {
             "fill": {
              "color": "#C8D4E3"
             },
             "line": {
              "color": "white"
             }
            },
            "type": "table"
           }
          ]
         },
         "layout": {
          "annotationdefaults": {
           "arrowcolor": "#2a3f5f",
           "arrowhead": 0,
           "arrowwidth": 1
          },
          "autotypenumbers": "strict",
          "coloraxis": {
           "colorbar": {
            "outlinewidth": 0,
            "ticks": ""
           }
          },
          "colorscale": {
           "diverging": [
            [
             0,
             "#8e0152"
            ],
            [
             0.1,
             "#c51b7d"
            ],
            [
             0.2,
             "#de77ae"
            ],
            [
             0.3,
             "#f1b6da"
            ],
            [
             0.4,
             "#fde0ef"
            ],
            [
             0.5,
             "#f7f7f7"
            ],
            [
             0.6,
             "#e6f5d0"
            ],
            [
             0.7,
             "#b8e186"
            ],
            [
             0.8,
             "#7fbc41"
            ],
            [
             0.9,
             "#4d9221"
            ],
            [
             1,
             "#276419"
            ]
           ],
           "sequential": [
            [
             0,
             "#0d0887"
            ],
            [
             0.1111111111111111,
             "#46039f"
            ],
            [
             0.2222222222222222,
             "#7201a8"
            ],
            [
             0.3333333333333333,
             "#9c179e"
            ],
            [
             0.4444444444444444,
             "#bd3786"
            ],
            [
             0.5555555555555556,
             "#d8576b"
            ],
            [
             0.6666666666666666,
             "#ed7953"
            ],
            [
             0.7777777777777778,
             "#fb9f3a"
            ],
            [
             0.8888888888888888,
             "#fdca26"
            ],
            [
             1,
             "#f0f921"
            ]
           ],
           "sequentialminus": [
            [
             0,
             "#0d0887"
            ],
            [
             0.1111111111111111,
             "#46039f"
            ],
            [
             0.2222222222222222,
             "#7201a8"
            ],
            [
             0.3333333333333333,
             "#9c179e"
            ],
            [
             0.4444444444444444,
             "#bd3786"
            ],
            [
             0.5555555555555556,
             "#d8576b"
            ],
            [
             0.6666666666666666,
             "#ed7953"
            ],
            [
             0.7777777777777778,
             "#fb9f3a"
            ],
            [
             0.8888888888888888,
             "#fdca26"
            ],
            [
             1,
             "#f0f921"
            ]
           ]
          },
          "colorway": [
           "#636efa",
           "#EF553B",
           "#00cc96",
           "#ab63fa",
           "#FFA15A",
           "#19d3f3",
           "#FF6692",
           "#B6E880",
           "#FF97FF",
           "#FECB52"
          ],
          "font": {
           "color": "#2a3f5f"
          },
          "geo": {
           "bgcolor": "white",
           "lakecolor": "white",
           "landcolor": "#E5ECF6",
           "showlakes": true,
           "showland": true,
           "subunitcolor": "white"
          },
          "hoverlabel": {
           "align": "left"
          },
          "hovermode": "closest",
          "mapbox": {
           "style": "light"
          },
          "paper_bgcolor": "white",
          "plot_bgcolor": "#E5ECF6",
          "polar": {
           "angularaxis": {
            "gridcolor": "white",
            "linecolor": "white",
            "ticks": ""
           },
           "bgcolor": "#E5ECF6",
           "radialaxis": {
            "gridcolor": "white",
            "linecolor": "white",
            "ticks": ""
           }
          },
          "scene": {
           "xaxis": {
            "backgroundcolor": "#E5ECF6",
            "gridcolor": "white",
            "gridwidth": 2,
            "linecolor": "white",
            "showbackground": true,
            "ticks": "",
            "zerolinecolor": "white"
           },
           "yaxis": {
            "backgroundcolor": "#E5ECF6",
            "gridcolor": "white",
            "gridwidth": 2,
            "linecolor": "white",
            "showbackground": true,
            "ticks": "",
            "zerolinecolor": "white"
           },
           "zaxis": {
            "backgroundcolor": "#E5ECF6",
            "gridcolor": "white",
            "gridwidth": 2,
            "linecolor": "white",
            "showbackground": true,
            "ticks": "",
            "zerolinecolor": "white"
           }
          },
          "shapedefaults": {
           "line": {
            "color": "#2a3f5f"
           }
          },
          "ternary": {
           "aaxis": {
            "gridcolor": "white",
            "linecolor": "white",
            "ticks": ""
           },
           "baxis": {
            "gridcolor": "white",
            "linecolor": "white",
            "ticks": ""
           },
           "bgcolor": "#E5ECF6",
           "caxis": {
            "gridcolor": "white",
            "linecolor": "white",
            "ticks": ""
           }
          },
          "title": {
           "x": 0.05
          },
          "xaxis": {
           "automargin": true,
           "gridcolor": "white",
           "linecolor": "white",
           "ticks": "",
           "title": {
            "standoff": 15
           },
           "zerolinecolor": "white",
           "zerolinewidth": 2
          },
          "yaxis": {
           "automargin": true,
           "gridcolor": "white",
           "linecolor": "white",
           "ticks": "",
           "title": {
            "standoff": 15
           },
           "zerolinecolor": "white",
           "zerolinewidth": 2
          }
         }
        },
        "width": 700
       }
      },
      "text/html": [
       "<div>                            <div id=\"f742e781-3bcd-49c3-ac04-0d5a683ceb37\" class=\"plotly-graph-div\" style=\"height:525px; width:700px;\"></div>            <script type=\"text/javascript\">                require([\"plotly\"], function(Plotly) {                    window.PLOTLYENV=window.PLOTLYENV || {};                                    if (document.getElementById(\"f742e781-3bcd-49c3-ac04-0d5a683ceb37\")) {                    Plotly.newPlot(                        \"f742e781-3bcd-49c3-ac04-0d5a683ceb37\",                        [{\"hovertemplate\":\"color=1<br>grossesses=%{x}<br>insuline=%{y}<br>age=%{z}<extra></extra>\",\"legendgroup\":\"1\",\"marker\":{\"color\":\"gray\",\"opacity\":0.6,\"symbol\":\"circle\"},\"mode\":\"markers\",\"name\":\"1\",\"scene\":\"scene\",\"showlegend\":true,\"x\":[-0.516686953868722,1.7544644917080783,-0.516686953868722,1.470570561010978,-0.23279302317162198,0.3349948382225781,0.05110090752547805,1.186676630313878,0.05110090752547805,-0.516686953868722,-0.23279302317162198,0.6188887689196781,0.6188887689196781,0.3349948382225781,-0.516686953868722,0.3349948382225781,-0.8005808845658221,1.470570561010978,0.9027826996167782,-0.516686953868722,0.05110090752547805,2.038358422405178,-0.23279302317162198,0.6188887689196781,1.186676630313878,-0.23279302317162198,-0.23279302317162198,-0.516686953868722,0.6188887689196781,-0.516686953868722,-0.516686953868722,-0.516686953868722,-0.8005808845658221,-0.516686953868722,0.05110090752547805,-0.516686953868722,0.3349948382225781,-0.23279302317162198,0.05110090752547805,2.8900402144964783,-0.516686953868722,-0.23279302317162198,0.6188887689196781,-0.8005808845658221,0.3349948382225781,0.6188887689196781,-0.516686953868722,-0.23279302317162198,0.3349948382225781,0.3349948382225781,0.3349948382225781,1.470570561010978,0.6188887689196781,0.05110090752547805,-0.23279302317162198,-0.516686953868722,1.470570561010978,1.186676630313878,1.186676630313878,1.186676630313878,1.186676630313878,-0.8005808845658221,0.3349948382225781,1.186676630313878,0.3349948382225781,-0.516686953868722,-0.23279302317162198,-0.23279302317162198,1.470570561010978,-0.8005808845658221,-0.516686953868722,-0.23279302317162198,-0.23279302317162198,1.186676630313878,0.3349948382225781,-0.23279302317162198,0.3349948382225781,1.470570561010978,-0.516686953868722,1.470570561010978,1.470570561010978,0.6188887689196781,0.6188887689196781,2.038358422405178,1.470570561010978,-0.516686953868722,-0.23279302317162198,0.6188887689196781,1.186676630313878,1.186676630313878,-0.516686953868722,2.3222523531022783,0.3349948382225781,-0.23279302317162198,1.186676630313878,-0.23279302317162198,0.3349948382225781,0.3349948382225781,0.05110090752547805,2.6061462837993785,0.3349948382225781,-0.516686953868722,0.9027826996167782,0.6188887689196781,2.038358422405178,1.470570561010978,-0.516686953868722,0.05110090752547805,0.05110090752547805,-0.516686953868722,2.038358422405178,-0.516686953868722,0.05110090752547805,1.470570561010978,2.3222523531022783,-0.8005808845658221,0.05110090752547805,1.186676630313878,-1.0844748152629222,2.6061462837993785,0.3349948382225781,1.470570561010978,0.9027826996167782,1.186676630313878,0.9027826996167782,1.470570561010978,0.3349948382225781,1.186676630313878,0.3349948382225781,0.6188887689196781,0.3349948382225781,1.470570561010978,0.05110090752547805,1.7544644917080783,0.05110090752547805,-0.8005808845658221,-0.23279302317162198,-0.23279302317162198,1.7544644917080783,-0.516686953868722,0.3349948382225781,0.05110090752547805,0.6188887689196781,-0.8005808845658221,1.7544644917080783,0.05110090752547805,1.186676630313878,1.186676630313878,0.05110090752547805,-0.23279302317162198,-0.23279302317162198,1.470570561010978,-0.516686953868722,0.6188887689196781,1.7544644917080783,-0.516686953868722,1.186676630313878,2.8900402144964783,2.038358422405178,-0.23279302317162198,1.7544644917080783,0.05110090752547805,1.186676630313878,0.05110090752547805,-0.23279302317162198,1.470570561010978,-0.23279302317162198,-0.8005808845658221,1.470570561010978,1.470570561010978,-0.23279302317162198,-0.516686953868722,-0.23279302317162198,0.6188887689196781,1.7544644917080783,-0.23279302317162198,2.6061462837993785,1.470570561010978,0.6188887689196781,0.3349948382225781,0.6188887689196781,1.186676630313878,2.038358422405178,0.05110090752547805,-0.516686953868722,-0.23279302317162198,-0.516686953868722,-0.23279302317162198,1.186676630313878,-0.516686953868722,-0.516686953868722,2.038358422405178,0.3349948382225781,-0.23279302317162198,-0.516686953868722,0.05110090752547805,1.7544644917080783,0.3349948382225781,2.038358422405178,0.05110090752547805],\"y\":[-0.9124451408026844,2.573584695730805,-0.4918403138998707,0.4990761427016733,1.1335478307415108,-0.6843204889231922,0.7771030621798043,3.906688130151587,0.5204628288153756,3.3720209773090275,0.6202673640126535,-0.5417425814985096,0.6202673640126535,4.29164848019823,-0.7057071750368946,0.8341342251496774,3.6856923736433287,-0.5987737444683826,0.4135293982468637,-0.5987737444683826,-0.7627383380067676,-0.9195740361739185,0.3351115491632883,-0.02846211476965231,1.2119656798250862,-0.07123548699705709,-0.948089617658855,-0.7484805472642994,1.4400903317045783,0.7414585853236336,-0.9195740361739185,1.7822773095238165,5.3466715284207345e-05,0.0713424204276255,0.7699741668085702,0.15688916488243504,-0.5773870583546803,-0.9552185130300891,0.21392032785230808,-0.7057071750368946,-0.6059026398396168,1.5612815530155586,-0.03559101014088644,0.22817811859477635,-0.9979918852574939,-0.5274847907560414,-0.47758252315740246,-0.44906694167246597,-0.4847114185286366,-0.4847114185286366,-0.44906694167246597,0.47056056121673673,-0.613031535210851,3.9138170255228206,0.021440152828986595,0.926809864975721,-0.9267029315451526,-0.7128360704081287,0.4563027704742685,-0.03559101014088644,0.7557163760661019,1.3545435872497689,-0.6629338028094898,-0.5132270000135731,0.4563027704742685,-0.9979918852574939,1.2975124242798957,-0.4918403138998707,-0.5845159537259144,0.9553254464606575,-0.8981873500602161,-0.07836438236829121,0.5347206195578439,-0.43480915092999767,1.4472192270758124,0.25669370007971287,-0.5274847907560414,-1.0122496759999622,-0.43480915092999767,-0.6771915935519581,0.2923381769358835,-0.506098104642339,-0.5987737444683826,-0.4633247324149342,1.368801377992237,0.6202673640126535,0.812747539035975,2.4452645790485907,0.3351115491632883,-0.6059026398396168,1.3331569011360664,0.4634316658455026,-0.9195740361739185,0.04995573431392311,-0.5916448490971485,-0.8768006639465137,1.5684104483867927,-0.9409607222876208,0.35649823527699065,1.3260280057648324,1.2761257381661935,2.1743665549416935,0.021440152828986595,-0.8910584546889819,0.3778849213906931,-0.10687996385322773,0.014311257457752465,-0.8839295593177479,-0.6059026398396168,0.17827585099613744,1.361672482621003,1.9533707984334356,-0.4847114185286366,0.819876434407209,-0.04271990551212057,-0.8554139778328114,-0.6059026398396168,1.42583254096211,1.5113792854169197,-0.506098104642339,0.32798265379205416,-0.014204324027184051,-0.04271990551212057,1.1763212029689156,1.2262234705675545,-1.0051207806287281,-0.5132270000135731,-0.506098104642339,1.4044458548484078,0.1640180602536692,-0.5488714768697438,-0.014204324027184051,0.4206582936180978,-0.02133321939841818,1.2761257381661935,-0.7270938611505969,0.37075602601945895,0.39927160750439544,-0.4847114185286366,0.3065959676783518,2.2242688225403326,-0.6985782796656604,-0.5274847907560414,0.3778849213906931,-0.014204324027184051,0.8270053297784432,-0.7912539194917042,0.983841027945594,0.44204497973180024,2.6021002772157416,1.3331569011360664,-0.7128360704081287,-0.44906694167246597,0.08560021117009375,-0.6272893259533192,3.1011229532021303,2.131593182714289,3.749852431984436,-0.506098104642339,0.5846228871564828,-1.0051207806287281,1.1478056214839791,-0.07836438236829121,-0.6415471166957875,-0.4633247324149342,0.3065959676783518,-0.7484805472642994,0.44204497973180024,0.14976026951120092,-0.6344182213245533,2.1458509734567572,1.3260280057648324,-0.5702581629834461,-0.44906694167246597,0.7200718992099313,0.7485874806948678,-0.5845159537259144,0.5204628288153756,1.696730565069007,-0.9552185130300891,0.14976026951120092,0.4135293982468637,0.9553254464606575,0.64878294549759,0.40640050287562957,-0.4847114185286366,0.9909699233168282,2.1102064966005867,-0.6272893259533192,1.3830591687347054,1.311770215022364,0.8270053297784432,-0.4561958370437001,2.08169091511565,-0.04271990551212057,-0.7342227565218311,0.2923381769358835,-0.43480915092999767,0.20679143248107396,-0.5417425814985096],\"z\":[0.33499808422178057,0.9700655424621231,-0.696986535418776,0.49376494878186616,-0.7763699676988187,0.6525318133419518,-0.6176031031387331,-0.7763699676988187,2.4783507557829365,1.2082158393022515,-0.696986535418776,-0.696986535418776,1.1288324070222087,2.3989673235028937,0.6525318133419518,0.17623121966169494,-0.7763699676988187,0.9700655424621231,1.9226667298226368,-0.7763699676988187,0.8906821101820802,-0.6176031031387331,1.0494489747421658,-0.696986535418776,-0.14130250945847628,1.2875992715822944,2.3989673235028937,1.1288324070222087,0.573148381061909,-0.696986535418776,-0.696986535418776,1.0494489747421658,0.49376494878186616,-0.7763699676988187,0.9700655424621231,0.573148381061909,-0.7763699676988187,0.6525318133419518,-0.7763699676988187,-0.696986535418776,-0.696986535418776,-0.7763699676988187,1.843283297542594,1.0494489747421658,-0.14130250945847628,-0.696986535418776,2.3989673235028937,-0.696986535418776,-0.6176031031387331,0.573148381061909,-0.696986535418776,-0.6176031031387331,2.240200458942808,-0.7763699676988187,2.160817026662765,-0.696986535418776,-0.6176031031387331,1.1288324070222087,-0.696986535418776,-0.7763699676988187,1.843283297542594,2.637117620343022,1.9226667298226368,2.319583891222851,-0.6176031031387331,0.9700655424621231,0.33499808422178057,0.8112986779020375,-0.7763699676988187,1.2082158393022515,-0.7763699676988187,-0.6176031031387331,0.8906821101820802,0.9700655424621231,-0.696986535418776,1.0494489747421658,0.573148381061909,1.2875992715822944,-0.7763699676988187,2.319583891222851,-0.7763699676988187,-0.6176031031387331,2.0814335943827222,-0.14130250945847628,1.2082158393022515,-0.696986535418776,1.9226667298226368,-0.6176031031387331,0.9700655424621231,-0.06191907717843348,0.33499808422178057,2.4783507557829365,-0.06191907717843348,-0.6176031031387331,2.0814335943827222,1.763899865262551,-0.7763699676988187,1.0494489747421658,1.9226667298226368,-0.7763699676988187,0.49376494878186616,1.1288324070222087,-0.7763699676988187,-0.7763699676988187,0.9700655424621231,-0.7763699676988187,1.1288324070222087,1.1288324070222087,-0.7763699676988187,1.6845164329825084,-0.696986535418776,-0.6176031031387331,0.17623121966169494,-0.6176031031387331,1.1288324070222087,0.7319152456219946,-0.7763699676988187,1.0494489747421658,-0.7763699676988187,-0.6176031031387331,2.240200458942808,2.3989673235028937,1.0494489747421658,-0.6176031031387331,-0.7763699676988187,0.41438151650182337,1.0494489747421658,-0.696986535418776,1.843283297542594,-0.696986535418776,0.9700655424621231,-0.696986535418776,-0.6176031031387331,1.1288324070222087,-0.6176031031387331,-0.6176031031387331,-0.6176031031387331,-0.7763699676988187,1.2082158393022515,1.1288324070222087,1.1288324070222087,-0.696986535418776,-0.696986535418776,-0.696986535418776,-0.696986535418776,1.1288324070222087,0.41438151650182337,-0.696986535418776,0.9700655424621231,-0.7763699676988187,0.25561465194173777,0.9700655424621231,-0.696986535418776,-0.7763699676988187,-0.7763699676988187,-0.696986535418776,-0.7763699676988187,-0.6176031031387331,2.3989673235028937,-0.7763699676988187,0.01746435510160933,-0.7763699676988187,-0.696986535418776,-0.7763699676988187,0.573148381061909,-0.7763699676988187,-0.696986535418776,-0.7763699676988187,0.41438151650182337,1.9226667298226368,2.240200458942808,0.573148381061909,-0.6176031031387331,-0.696986535418776,1.0494489747421658,-0.7763699676988187,2.7958844849031075,-0.06191907717843348,2.4783507557829365,-0.696986535418776,-0.7763699676988187,-0.696986535418776,0.33499808422178057,1.1288324070222087,1.843283297542594,-0.7763699676988187,0.8906821101820802,-0.696986535418776,-0.696986535418776,0.49376494878186616,1.0494489747421658,2.319583891222851,1.2875992715822944,2.240200458942808,0.9700655424621231,-0.6176031031387331,-0.7763699676988187,0.8906821101820802,-0.696986535418776,-0.696986535418776],\"type\":\"scatter3d\"},{\"hovertemplate\":\"color=0<br>grossesses=%{x}<br>insuline=%{y}<br>age=%{z}<extra></extra>\",\"legendgroup\":\"0\",\"marker\":{\"color\":\"blue\",\"opacity\":0.6,\"symbol\":\"circle\"},\"mode\":\"markers\",\"name\":\"0\",\"scene\":\"scene\",\"showlegend\":true,\"x\":[-0.8005808845658221,-1.0844748152629222,0.9027826996167782,-1.0844748152629222,1.470570561010978,1.7544644917080783,-0.8005808845658221,1.470570561010978,-1.0844748152629222,-0.516686953868722,-1.0844748152629222,0.05110090752547805,-1.0844748152629222,0.6188887689196781,-0.8005808845658221,-0.8005808845658221,-1.0844748152629222,-0.8005808845658221,-1.0844748152629222,-1.0844748152629222,-1.0844748152629222,-0.23279302317162198,-0.8005808845658221,-0.23279302317162198,-1.0844748152629222,-1.0844748152629222,-1.0844748152629222,-0.8005808845658221,-1.0844748152629222,-0.8005808845658221,-1.0844748152629222,-0.8005808845658221,-0.8005808845658221,-0.8005808845658221,-1.0844748152629222,-0.8005808845658221,-1.0844748152629222,-1.0844748152629222,-1.0844748152629222,-0.8005808845658221,-1.0844748152629222,-0.8005808845658221,-1.0844748152629222,-1.0844748152629222,-1.0844748152629222,-0.8005808845658221,-1.0844748152629222,0.6188887689196781,-0.8005808845658221,1.470570561010978,-0.8005808845658221,-1.0844748152629222,-0.8005808845658221,-1.0844748152629222,-1.0844748152629222,-1.0844748152629222,-0.23279302317162198,0.9027826996167782,-0.8005808845658221,-1.0844748152629222,-1.0844748152629222,-0.8005808845658221,-0.8005808845658221,-0.8005808845658221,-0.8005808845658221,1.470570561010978,0.6188887689196781,-1.0844748152629222,-0.8005808845658221,1.470570561010978,-1.0844748152629222,-0.8005808845658221,-1.0844748152629222,0.9027826996167782,-1.0844748152629222,-0.8005808845658221,-0.8005808845658221,-1.0844748152629222,-1.0844748152629222,1.470570561010978,-1.0844748152629222,-0.8005808845658221,0.6188887689196781,-1.0844748152629222,-1.0844748152629222,-1.0844748152629222,-0.8005808845658221,0.9027826996167782,-0.8005808845658221,0.9027826996167782,-1.0844748152629222,-0.8005808845658221,-1.0844748152629222,-1.0844748152629222,0.9027826996167782,0.3349948382225781,1.470570561010978,-1.0844748152629222,-0.8005808845658221,-0.23279302317162198,-0.8005808845658221,-1.0844748152629222,-1.0844748152629222,-0.8005808845658221,-1.0844748152629222,-1.0844748152629222,-0.8005808845658221,-1.0844748152629222,-1.0844748152629222,1.470570561010978,-1.0844748152629222,1.186676630313878,-1.0844748152629222,-1.0844748152629222,0.6188887689196781,-1.0844748152629222,1.186676630313878,-1.0844748152629222,-1.0844748152629222,-0.8005808845658221,0.3349948382225781,-1.0844748152629222,-0.8005808845658221,-0.8005808845658221,-0.8005808845658221,-0.23279302317162198,-0.8005808845658221,-1.0844748152629222,-1.0844748152629222,-1.0844748152629222,0.9027826996167782,-0.8005808845658221,1.7544644917080783,-1.0844748152629222,0.6188887689196781,-0.8005808845658221,-1.0844748152629222,1.186676630313878,-0.8005808845658221,1.7544644917080783,0.9027826996167782,-0.8005808845658221,-1.0844748152629222,-0.23279302317162198,-0.8005808845658221,-1.0844748152629222,-0.8005808845658221,-1.0844748152629222,-1.0844748152629222,-1.0844748152629222,-1.0844748152629222,-0.8005808845658221,-0.8005808845658221,-1.0844748152629222,0.9027826996167782,-0.23279302317162198,-1.0844748152629222,-1.0844748152629222,-0.516686953868722,-1.0844748152629222,0.6188887689196781,0.9027826996167782,-1.0844748152629222,1.470570561010978,-0.8005808845658221,-0.8005808845658221,-0.8005808845658221,0.6188887689196781,-1.0844748152629222,0.6188887689196781,-0.8005808845658221,0.9027826996167782,-1.0844748152629222,-1.0844748152629222,-1.0844748152629222,1.470570561010978,-1.0844748152629222,-0.8005808845658221,1.186676630313878,0.9027826996167782,1.470570561010978,0.6188887689196781,-0.8005808845658221,-1.0844748152629222,-0.8005808845658221,0.9027826996167782,1.7544644917080783,1.470570561010978,-1.0844748152629222,-0.8005808845658221,-1.0844748152629222,-1.0844748152629222,0.6188887689196781,-1.0844748152629222,-0.8005808845658221,0.05110090752547805,-0.8005808845658221,-0.8005808845658221,-0.8005808845658221,-0.8005808845658221],\"y\":[-0.22807118516420793,-0.5488714768697438,-0.8554139778328114,-0.8126406056054065,0.2424359093372446,-1.0122496759999622,-0.8768006639465137,-0.9124451408026844,0.05708462968515724,-0.78412502412047,-0.9409607222876208,-0.5346136861272754,-0.8981873500602161,-0.6985782796656604,-0.8696717685752796,-0.8197695009766407,-0.7627383380067676,-0.9979918852574939,-0.8696717685752796,-0.613031535210851,-0.9623474084013233,-0.7769961287492358,-0.6558049074382557,0.7272007945811654,0.3065959676783518,0.6345251547551217,-0.8696717685752796,-0.7769961287492358,-0.5274847907560414,-0.7484805472642994,0.7272007945811654,0.8056186436647408,-0.8055117102341725,-0.8268983963478748,0.2709514908221811,-0.7983828148629383,-0.9766051991437915,-0.948089617658855,0.44204497973180024,-0.8981873500602161,-0.9053162454314502,0.18540474636737156,-0.841156187090343,0.08560021117009375,-0.841156187090343,0.14976026951120092,-0.9908629898862598,-0.22807118516420793,0.4990761427016733,0.20679143248107396,-0.7983828148629383,0.13550247876873267,-0.8839295593177479,-0.09262217311075947,0.1711469556249033,-0.7912539194917042,-0.8625428732040454,-0.9979918852574939,-0.7983828148629383,-0.9837340945150257,-0.007075428655949922,0.37075602601945895,2.1030776012293524,-0.7698672333780018,0.03569794357145485,-0.8126406056054065,-0.7270938611505969,-0.841156187090343,0.427787188989332,-0.7484805472642994,-0.9409607222876208,-0.8340272917191089,-0.18529781293680317,-0.22807118516420793,-0.7769961287492358,1.5113792854169197,-0.9124451408026844,-0.8055117102341725,-0.21381339442173966,-0.78412502412047,2.2670421947677375,0.926809864975721,-0.8197695009766407,-0.49896920927110483,-0.8197695009766407,0.7058141084674631,-0.8554139778328114,-0.5346136861272754,-0.8625428732040454,-0.8768006639465137,0.4349160843605661,-0.8340272917191089,-0.7484805472642994,-0.14252444070939838,0.09272910654132789,0.64878294549759,-0.05697769625458883,-0.22807118516420793,0.1426313741399668,0.48481835195920503,-0.9552185130300891,-0.8839295593177479,-0.78412502412047,0.6915563177249947,0.5204628288153756,-0.6059026398396168,-0.7627383380067676,-0.11400885922446186,-0.6985782796656604,-0.8197695009766407,-0.1924267083080373,-0.9979918852574939,-0.7769961287492358,-0.8554139778328114,0.18540474636737156,-0.9267029315451526,0.762845271437336,0.591751782527717,0.3850138167619272,-0.9267029315451526,0.20679143248107396,-0.8482850824615772,0.25669370007971287,-0.9908629898862598,-0.8340272917191089,-0.78412502412047,-0.8981873500602161,0.7842319575510385,-0.8625428732040454,-0.9124451408026844,-0.8197695009766407,0.04995573431392311,0.06421352505639137,-0.9623474084013233,-0.10687996385322773,-0.14252444070939838,0.05708462968515724,-0.8197695009766407,-0.6629338028094898,-0.03559101014088644,0.021440152828986595,-0.8340272917191089,0.6131384686414193,-0.7983828148629383,0.08560021117009375,-0.7484805472642994,-1.0051207806287281,1.361672482621003,-0.11400885922446186,-0.9552185130300891,0.19966253710983983,-0.6415471166957875,-0.8055117102341725,0.10698689728379615,-0.7413516518930653,-0.841156187090343,0.6345251547551217,-0.12826664996693013,-0.9979918852574939,-0.8482850824615772,-0.9623474084013233,0.24956480470847872,0.21392032785230808,0.3351115491632883,-0.8482850824615772,-0.9267029315451526,-0.620160430582085,-0.17816891756556902,-1.0122496759999622,-0.9267029315451526,3.5573722569611146,0.7058141084674631,-0.9409607222876208,-0.9837340945150257,-0.22807118516420793,-0.007075428655949922,0.0713424204276255,-0.7698672333780018,0.1426313741399668,-0.7484805472642994,-0.9124451408026844,0.263822595450947,0.12124468802626441,0.6131384686414193,-1.0122496759999622,3.6144034199309876,0.17827585099613744,-0.8910584546889819,-0.09975106848199361,-0.948089617658855,-0.8055117102341725,1.2903835289086616,5.3466715284207345e-05,3.6643056875296263,-0.8197695009766407,-0.7912539194917042,-0.9338318269163868,0.23530701396601048,-0.12113775459569599,-0.9837340945150257],\"z\":[-0.696986535418776,-0.7763699676988187,-0.4588362385786475,-0.6176031031387331,-0.7763699676988187,-0.5382196708586904,-0.7763699676988187,-0.5382196708586904,-0.37945280629860473,-0.5382196708586904,-0.37945280629860473,0.33499808422178057,-0.6176031031387331,-0.6176031031387331,-0.37945280629860473,1.6845164329825084,-0.5382196708586904,-0.7763699676988187,-0.7763699676988187,-0.6176031031387331,-0.7763699676988187,-0.37945280629860473,-0.6176031031387331,-0.7763699676988187,-0.696986535418776,-0.6176031031387331,1.5257495684224227,-0.696986535418776,-0.37945280629860473,-0.37945280629860473,-0.6176031031387331,-0.696986535418776,-0.7763699676988187,-0.696986535418776,-0.4588362385786475,-0.37945280629860473,-0.4588362385786475,-0.696986535418776,-0.696986535418776,-0.4588362385786475,-0.6176031031387331,-0.4588362385786475,-0.6176031031387331,-0.4588362385786475,-0.37945280629860473,0.09684778738165213,-0.6176031031387331,0.17623121966169494,0.01746435510160933,-0.6176031031387331,-0.696986535418776,-0.6176031031387331,-0.7763699676988187,0.17623121966169494,-0.37945280629860473,-0.5382196708586904,-0.6176031031387331,-0.696986535418776,-0.6176031031387331,-0.4588362385786475,-0.7763699676988187,-0.7763699676988187,-0.37945280629860473,-0.7763699676988187,1.2082158393022515,-0.6176031031387331,-0.696986535418776,-0.37945280629860473,-0.6176031031387331,-0.4588362385786475,-0.6176031031387331,0.17623121966169494,-0.5382196708586904,-0.37945280629860473,-0.5382196708586904,0.33499808422178057,-0.4588362385786475,-0.696986535418776,-0.696986535418776,-0.7763699676988187,-0.37945280629860473,-0.6176031031387331,-0.37945280629860473,-0.7763699676988187,-0.37945280629860473,-0.7763699676988187,1.0494489747421658,-0.696986535418776,-0.6176031031387331,-0.37945280629860473,1.0494489747421658,2.240200458942808,-0.37945280629860473,1.6051330007024656,-0.37945280629860473,-0.6176031031387331,-0.6176031031387331,-0.696986535418776,-0.7763699676988187,-0.4588362385786475,-0.7763699676988187,-0.5382196708586904,-0.5382196708586904,-0.7763699676988187,-0.7763699676988187,0.17623121966169494,-0.4588362385786475,-0.6176031031387331,-0.6176031031387331,-0.696986535418776,-0.7763699676988187,-0.4588362385786475,-0.6176031031387331,-0.4588362385786475,-0.6176031031387331,2.319583891222851,3.1928016463033217,-0.7763699676988187,-0.696986535418776,-0.5382196708586904,-0.7763699676988187,-0.37945280629860473,-0.37945280629860473,-0.6176031031387331,1.1288324070222087,2.954651349463193,-0.696986535418776,2.240200458942808,-0.6176031031387331,-0.37945280629860473,-0.4588362385786475,-0.37945280629860473,-0.4588362385786475,-0.5382196708586904,-0.37945280629860473,-0.696986535418776,-0.6176031031387331,-0.7763699676988187,-0.5382196708586904,3.113418214023279,-0.6176031031387331,2.954651349463193,-0.7763699676988187,-0.37945280629860473,2.8752679171831503,-0.7763699676988187,-0.5382196708586904,-0.37945280629860473,-0.696986535418776,-0.4588362385786475,0.33499808422178057,-0.6176031031387331,-0.696986535418776,-0.5382196708586904,-0.7763699676988187,-0.696986535418776,-0.6176031031387331,-0.7763699676988187,-0.696986535418776,-0.4588362385786475,-0.696986535418776,-0.37945280629860473,-0.37945280629860473,-0.5382196708586904,-0.37945280629860473,-0.6176031031387331,-0.06191907717843348,-0.4588362385786475,-0.6176031031387331,-0.7763699676988187,-0.4588362385786475,0.8112986779020375,-0.4588362385786475,-0.4588362385786475,-0.7763699676988187,-0.5382196708586904,-0.7763699676988187,1.2875992715822944,-0.6176031031387331,-0.5382196708586904,2.160817026662765,-0.7763699676988187,1.2082158393022515,-0.696986535418776,-0.4588362385786475,-0.5382196708586904,-0.696986535418776,-0.5382196708586904,-0.6176031031387331,-0.37945280629860473,1.2082158393022515,-0.696986535418776,-0.696986535418776,-0.696986535418776,-0.4588362385786475,-0.696986535418776,-0.696986535418776,-0.696986535418776,-0.4588362385786475,0.01746435510160933],\"type\":\"scatter3d\"}],                        {\"template\":{\"data\":{\"histogram2dcontour\":[{\"type\":\"histogram2dcontour\",\"colorbar\":{\"outlinewidth\":0,\"ticks\":\"\"},\"colorscale\":[[0.0,\"#0d0887\"],[0.1111111111111111,\"#46039f\"],[0.2222222222222222,\"#7201a8\"],[0.3333333333333333,\"#9c179e\"],[0.4444444444444444,\"#bd3786\"],[0.5555555555555556,\"#d8576b\"],[0.6666666666666666,\"#ed7953\"],[0.7777777777777778,\"#fb9f3a\"],[0.8888888888888888,\"#fdca26\"],[1.0,\"#f0f921\"]]}],\"choropleth\":[{\"type\":\"choropleth\",\"colorbar\":{\"outlinewidth\":0,\"ticks\":\"\"}}],\"histogram2d\":[{\"type\":\"histogram2d\",\"colorbar\":{\"outlinewidth\":0,\"ticks\":\"\"},\"colorscale\":[[0.0,\"#0d0887\"],[0.1111111111111111,\"#46039f\"],[0.2222222222222222,\"#7201a8\"],[0.3333333333333333,\"#9c179e\"],[0.4444444444444444,\"#bd3786\"],[0.5555555555555556,\"#d8576b\"],[0.6666666666666666,\"#ed7953\"],[0.7777777777777778,\"#fb9f3a\"],[0.8888888888888888,\"#fdca26\"],[1.0,\"#f0f921\"]]}],\"heatmap\":[{\"type\":\"heatmap\",\"colorbar\":{\"outlinewidth\":0,\"ticks\":\"\"},\"colorscale\":[[0.0,\"#0d0887\"],[0.1111111111111111,\"#46039f\"],[0.2222222222222222,\"#7201a8\"],[0.3333333333333333,\"#9c179e\"],[0.4444444444444444,\"#bd3786\"],[0.5555555555555556,\"#d8576b\"],[0.6666666666666666,\"#ed7953\"],[0.7777777777777778,\"#fb9f3a\"],[0.8888888888888888,\"#fdca26\"],[1.0,\"#f0f921\"]]}],\"heatmapgl\":[{\"type\":\"heatmapgl\",\"colorbar\":{\"outlinewidth\":0,\"ticks\":\"\"},\"colorscale\":[[0.0,\"#0d0887\"],[0.1111111111111111,\"#46039f\"],[0.2222222222222222,\"#7201a8\"],[0.3333333333333333,\"#9c179e\"],[0.4444444444444444,\"#bd3786\"],[0.5555555555555556,\"#d8576b\"],[0.6666666666666666,\"#ed7953\"],[0.7777777777777778,\"#fb9f3a\"],[0.8888888888888888,\"#fdca26\"],[1.0,\"#f0f921\"]]}],\"contourcarpet\":[{\"type\":\"contourcarpet\",\"colorbar\":{\"outlinewidth\":0,\"ticks\":\"\"}}],\"contour\":[{\"type\":\"contour\",\"colorbar\":{\"outlinewidth\":0,\"ticks\":\"\"},\"colorscale\":[[0.0,\"#0d0887\"],[0.1111111111111111,\"#46039f\"],[0.2222222222222222,\"#7201a8\"],[0.3333333333333333,\"#9c179e\"],[0.4444444444444444,\"#bd3786\"],[0.5555555555555556,\"#d8576b\"],[0.6666666666666666,\"#ed7953\"],[0.7777777777777778,\"#fb9f3a\"],[0.8888888888888888,\"#fdca26\"],[1.0,\"#f0f921\"]]}],\"surface\":[{\"type\":\"surface\",\"colorbar\":{\"outlinewidth\":0,\"ticks\":\"\"},\"colorscale\":[[0.0,\"#0d0887\"],[0.1111111111111111,\"#46039f\"],[0.2222222222222222,\"#7201a8\"],[0.3333333333333333,\"#9c179e\"],[0.4444444444444444,\"#bd3786\"],[0.5555555555555556,\"#d8576b\"],[0.6666666666666666,\"#ed7953\"],[0.7777777777777778,\"#fb9f3a\"],[0.8888888888888888,\"#fdca26\"],[1.0,\"#f0f921\"]]}],\"mesh3d\":[{\"type\":\"mesh3d\",\"colorbar\":{\"outlinewidth\":0,\"ticks\":\"\"}}],\"scatter\":[{\"fillpattern\":{\"fillmode\":\"overlay\",\"size\":10,\"solidity\":0.2},\"type\":\"scatter\"}],\"parcoords\":[{\"type\":\"parcoords\",\"line\":{\"colorbar\":{\"outlinewidth\":0,\"ticks\":\"\"}}}],\"scatterpolargl\":[{\"type\":\"scatterpolargl\",\"marker\":{\"colorbar\":{\"outlinewidth\":0,\"ticks\":\"\"}}}],\"bar\":[{\"error_x\":{\"color\":\"#2a3f5f\"},\"error_y\":{\"color\":\"#2a3f5f\"},\"marker\":{\"line\":{\"color\":\"#E5ECF6\",\"width\":0.5},\"pattern\":{\"fillmode\":\"overlay\",\"size\":10,\"solidity\":0.2}},\"type\":\"bar\"}],\"scattergeo\":[{\"type\":\"scattergeo\",\"marker\":{\"colorbar\":{\"outlinewidth\":0,\"ticks\":\"\"}}}],\"scatterpolar\":[{\"type\":\"scatterpolar\",\"marker\":{\"colorbar\":{\"outlinewidth\":0,\"ticks\":\"\"}}}],\"histogram\":[{\"marker\":{\"pattern\":{\"fillmode\":\"overlay\",\"size\":10,\"solidity\":0.2}},\"type\":\"histogram\"}],\"scattergl\":[{\"type\":\"scattergl\",\"marker\":{\"colorbar\":{\"outlinewidth\":0,\"ticks\":\"\"}}}],\"scatter3d\":[{\"type\":\"scatter3d\",\"line\":{\"colorbar\":{\"outlinewidth\":0,\"ticks\":\"\"}},\"marker\":{\"colorbar\":{\"outlinewidth\":0,\"ticks\":\"\"}}}],\"scattermapbox\":[{\"type\":\"scattermapbox\",\"marker\":{\"colorbar\":{\"outlinewidth\":0,\"ticks\":\"\"}}}],\"scatterternary\":[{\"type\":\"scatterternary\",\"marker\":{\"colorbar\":{\"outlinewidth\":0,\"ticks\":\"\"}}}],\"scattercarpet\":[{\"type\":\"scattercarpet\",\"marker\":{\"colorbar\":{\"outlinewidth\":0,\"ticks\":\"\"}}}],\"carpet\":[{\"aaxis\":{\"endlinecolor\":\"#2a3f5f\",\"gridcolor\":\"white\",\"linecolor\":\"white\",\"minorgridcolor\":\"white\",\"startlinecolor\":\"#2a3f5f\"},\"baxis\":{\"endlinecolor\":\"#2a3f5f\",\"gridcolor\":\"white\",\"linecolor\":\"white\",\"minorgridcolor\":\"white\",\"startlinecolor\":\"#2a3f5f\"},\"type\":\"carpet\"}],\"table\":[{\"cells\":{\"fill\":{\"color\":\"#EBF0F8\"},\"line\":{\"color\":\"white\"}},\"header\":{\"fill\":{\"color\":\"#C8D4E3\"},\"line\":{\"color\":\"white\"}},\"type\":\"table\"}],\"barpolar\":[{\"marker\":{\"line\":{\"color\":\"#E5ECF6\",\"width\":0.5},\"pattern\":{\"fillmode\":\"overlay\",\"size\":10,\"solidity\":0.2}},\"type\":\"barpolar\"}],\"pie\":[{\"automargin\":true,\"type\":\"pie\"}]},\"layout\":{\"autotypenumbers\":\"strict\",\"colorway\":[\"#636efa\",\"#EF553B\",\"#00cc96\",\"#ab63fa\",\"#FFA15A\",\"#19d3f3\",\"#FF6692\",\"#B6E880\",\"#FF97FF\",\"#FECB52\"],\"font\":{\"color\":\"#2a3f5f\"},\"hovermode\":\"closest\",\"hoverlabel\":{\"align\":\"left\"},\"paper_bgcolor\":\"white\",\"plot_bgcolor\":\"#E5ECF6\",\"polar\":{\"bgcolor\":\"#E5ECF6\",\"angularaxis\":{\"gridcolor\":\"white\",\"linecolor\":\"white\",\"ticks\":\"\"},\"radialaxis\":{\"gridcolor\":\"white\",\"linecolor\":\"white\",\"ticks\":\"\"}},\"ternary\":{\"bgcolor\":\"#E5ECF6\",\"aaxis\":{\"gridcolor\":\"white\",\"linecolor\":\"white\",\"ticks\":\"\"},\"baxis\":{\"gridcolor\":\"white\",\"linecolor\":\"white\",\"ticks\":\"\"},\"caxis\":{\"gridcolor\":\"white\",\"linecolor\":\"white\",\"ticks\":\"\"}},\"coloraxis\":{\"colorbar\":{\"outlinewidth\":0,\"ticks\":\"\"}},\"colorscale\":{\"sequential\":[[0.0,\"#0d0887\"],[0.1111111111111111,\"#46039f\"],[0.2222222222222222,\"#7201a8\"],[0.3333333333333333,\"#9c179e\"],[0.4444444444444444,\"#bd3786\"],[0.5555555555555556,\"#d8576b\"],[0.6666666666666666,\"#ed7953\"],[0.7777777777777778,\"#fb9f3a\"],[0.8888888888888888,\"#fdca26\"],[1.0,\"#f0f921\"]],\"sequentialminus\":[[0.0,\"#0d0887\"],[0.1111111111111111,\"#46039f\"],[0.2222222222222222,\"#7201a8\"],[0.3333333333333333,\"#9c179e\"],[0.4444444444444444,\"#bd3786\"],[0.5555555555555556,\"#d8576b\"],[0.6666666666666666,\"#ed7953\"],[0.7777777777777778,\"#fb9f3a\"],[0.8888888888888888,\"#fdca26\"],[1.0,\"#f0f921\"]],\"diverging\":[[0,\"#8e0152\"],[0.1,\"#c51b7d\"],[0.2,\"#de77ae\"],[0.3,\"#f1b6da\"],[0.4,\"#fde0ef\"],[0.5,\"#f7f7f7\"],[0.6,\"#e6f5d0\"],[0.7,\"#b8e186\"],[0.8,\"#7fbc41\"],[0.9,\"#4d9221\"],[1,\"#276419\"]]},\"xaxis\":{\"gridcolor\":\"white\",\"linecolor\":\"white\",\"ticks\":\"\",\"title\":{\"standoff\":15},\"zerolinecolor\":\"white\",\"automargin\":true,\"zerolinewidth\":2},\"yaxis\":{\"gridcolor\":\"white\",\"linecolor\":\"white\",\"ticks\":\"\",\"title\":{\"standoff\":15},\"zerolinecolor\":\"white\",\"automargin\":true,\"zerolinewidth\":2},\"scene\":{\"xaxis\":{\"backgroundcolor\":\"#E5ECF6\",\"gridcolor\":\"white\",\"linecolor\":\"white\",\"showbackground\":true,\"ticks\":\"\",\"zerolinecolor\":\"white\",\"gridwidth\":2},\"yaxis\":{\"backgroundcolor\":\"#E5ECF6\",\"gridcolor\":\"white\",\"linecolor\":\"white\",\"showbackground\":true,\"ticks\":\"\",\"zerolinecolor\":\"white\",\"gridwidth\":2},\"zaxis\":{\"backgroundcolor\":\"#E5ECF6\",\"gridcolor\":\"white\",\"linecolor\":\"white\",\"showbackground\":true,\"ticks\":\"\",\"zerolinecolor\":\"white\",\"gridwidth\":2}},\"shapedefaults\":{\"line\":{\"color\":\"#2a3f5f\"}},\"annotationdefaults\":{\"arrowcolor\":\"#2a3f5f\",\"arrowhead\":0,\"arrowwidth\":1},\"geo\":{\"bgcolor\":\"white\",\"landcolor\":\"#E5ECF6\",\"subunitcolor\":\"white\",\"showland\":true,\"showlakes\":true,\"lakecolor\":\"white\"},\"title\":{\"x\":0.05},\"mapbox\":{\"style\":\"light\"}}},\"scene\":{\"domain\":{\"x\":[0.0,1.0],\"y\":[0.0,1.0]},\"xaxis\":{\"title\":{\"text\":\"grossesses\"}},\"yaxis\":{\"title\":{\"text\":\"insuline\"}},\"zaxis\":{\"title\":{\"text\":\"age\"}}},\"legend\":{\"title\":{\"text\":\"<b>Malade ?</b>\"},\"tracegroupgap\":0,\"font\":{\"family\":\"Verdana\",\"size\":14},\"x\":0.9,\"y\":0.5,\"bordercolor\":\"gray\",\"borderwidth\":2},\"margin\":{\"t\":60},\"width\":700},                        {\"responsive\": true}                    ).then(function(){\n",
       "                            \n",
       "var gd = document.getElementById('f742e781-3bcd-49c3-ac04-0d5a683ceb37');\n",
       "var x = new MutationObserver(function (mutations, observer) {{\n",
       "        var display = window.getComputedStyle(gd).display;\n",
       "        if (!display || display === 'none') {{\n",
       "            console.log([gd, 'removed!']);\n",
       "            Plotly.purge(gd);\n",
       "            observer.disconnect();\n",
       "        }}\n",
       "}});\n",
       "\n",
       "// Listen for the removal of the full notebook cells\n",
       "var notebookContainer = gd.closest('#notebook-container');\n",
       "if (notebookContainer) {{\n",
       "    x.observe(notebookContainer, {childList: true});\n",
       "}}\n",
       "\n",
       "// Listen for the clearing of the current output cell\n",
       "var outputEl = gd.closest('.output');\n",
       "if (outputEl) {{\n",
       "    x.observe(outputEl, {childList: true});\n",
       "}}\n",
       "\n",
       "                        })                };                });            </script>        </div>"
      ]
     },
     "metadata": {},
     "output_type": "display_data"
    }
   ],
   "source": [
    "fig1 = px.scatter_3d(\n",
    "    data_frame = Tn,\n",
    "    x = 'grossesses',\n",
    "    y = 'insuline',\n",
    "    z='age',\n",
    "    opacity = 0.6,\n",
    "    color = Tn['M']. astype (str),\n",
    "    color_discrete_map={'1':'gray','0':'blue'}\n",
    "            )\n",
    "              \n",
    "    \n",
    "fig1.update_layout(\n",
    "    width=700,\n",
    "    legend = {'x' : 0.9,\n",
    "              'y' : 0.5,\n",
    "              'title' :'<b>Malade ?</b>',\n",
    "              'bordercolor': 'gray', \n",
    "              'font' :{'family':'Verdana','size':14},\n",
    "              'borderwidth':2,\n",
    "    },\n",
    ")\n",
    "\n",
    "fig1.show ()    \n"
   ]
  },
  {
   "cell_type": "markdown",
   "id": "9f3fc63e",
   "metadata": {},
   "source": [
    "# Step 4"
   ]
  },
  {
   "cell_type": "code",
   "execution_count": 23,
   "id": "7c006da6",
   "metadata": {},
   "outputs": [],
   "source": [
    "Par = ['grossesses','insuline','age']    "
   ]
  },
  {
   "cell_type": "code",
   "execution_count": 24,
   "id": "bbfe4d91",
   "metadata": {},
   "outputs": [
    {
     "data": {
      "text/plain": [
       "grossesses   -0.516687\n",
       "insuline     -0.912445\n",
       "age           0.334998\n",
       "Name: 0, dtype: float64"
      ]
     },
     "execution_count": 24,
     "metadata": {},
     "output_type": "execute_result"
    }
   ],
   "source": [
    "L1 = Tn[Par].loc[0]\n",
    "L1"
   ]
  },
  {
   "cell_type": "code",
   "execution_count": 32,
   "id": "e5160ea7",
   "metadata": {},
   "outputs": [
    {
     "data": {
      "text/plain": [
       "grossesses    1.186677\n",
       "insuline      0.128374\n",
       "age          -0.696987\n",
       "Name: 0, dtype: float64"
      ]
     },
     "execution_count": 32,
     "metadata": {},
     "output_type": "execute_result"
    }
   ],
   "source": [
    "L2 = Pn[Par].loc[0]\n",
    "L2"
   ]
  },
  {
   "cell_type": "code",
   "execution_count": null,
   "id": "9ccc34a2",
   "metadata": {},
   "outputs": [],
   "source": []
  },
  {
   "cell_type": "code",
   "execution_count": 33,
   "id": "bea97cf0",
   "metadata": {},
   "outputs": [
    {
     "data": {
      "text/plain": [
       "2.2471634056605128"
      ]
     },
     "execution_count": 33,
     "metadata": {},
     "output_type": "execute_result"
    }
   ],
   "source": [
    "d = sum([(L1[k] - L2[k])**2 for k in range(3)])\n",
    "d**0.5"
   ]
  },
  {
   "cell_type": "code",
   "execution_count": 39,
   "id": "86ecda83",
   "metadata": {},
   "outputs": [],
   "source": [
    "def distance(i, p):\n",
    "    L1 = Tn[Par].loc[i]\n",
    "    L2 = Pn[Par].loc[p]\n",
    "    diff = (L1 - L2)**2\n",
    "    return diff.sum()**0.5"
   ]
  },
  {
   "cell_type": "code",
   "execution_count": 40,
   "id": "446b167f",
   "metadata": {},
   "outputs": [
    {
     "data": {
      "text/html": [
       "<div>\n",
       "<style scoped>\n",
       "    .dataframe tbody tr th:only-of-type {\n",
       "        vertical-align: middle;\n",
       "    }\n",
       "\n",
       "    .dataframe tbody tr th {\n",
       "        vertical-align: top;\n",
       "    }\n",
       "\n",
       "    .dataframe thead th {\n",
       "        text-align: right;\n",
       "    }\n",
       "</style>\n",
       "<table border=\"1\" class=\"dataframe\">\n",
       "  <thead>\n",
       "    <tr style=\"text-align: right;\">\n",
       "      <th></th>\n",
       "      <th>grossesses</th>\n",
       "      <th>glucose</th>\n",
       "      <th>pression</th>\n",
       "      <th>insuline</th>\n",
       "      <th>imc</th>\n",
       "      <th>K</th>\n",
       "      <th>age</th>\n",
       "      <th>M</th>\n",
       "      <th>d</th>\n",
       "    </tr>\n",
       "  </thead>\n",
       "  <tbody>\n",
       "    <tr>\n",
       "      <th>0</th>\n",
       "      <td>-0.516687</td>\n",
       "      <td>-0.109466</td>\n",
       "      <td>0.173632</td>\n",
       "      <td>-0.912445</td>\n",
       "      <td>0.744119</td>\n",
       "      <td>-0.663899</td>\n",
       "      <td>0.334998</td>\n",
       "      <td>1</td>\n",
       "      <td>2.247163</td>\n",
       "    </tr>\n",
       "    <tr>\n",
       "      <th>1</th>\n",
       "      <td>1.754464</td>\n",
       "      <td>0.434266</td>\n",
       "      <td>-0.497114</td>\n",
       "      <td>2.573585</td>\n",
       "      <td>-0.122674</td>\n",
       "      <td>-0.642846</td>\n",
       "      <td>0.970066</td>\n",
       "      <td>1</td>\n",
       "      <td>3.013387</td>\n",
       "    </tr>\n",
       "    <tr>\n",
       "      <th>2</th>\n",
       "      <td>-0.516687</td>\n",
       "      <td>1.457763</td>\n",
       "      <td>-0.801998</td>\n",
       "      <td>-0.491840</td>\n",
       "      <td>-0.577169</td>\n",
       "      <td>1.418643</td>\n",
       "      <td>-0.696987</td>\n",
       "      <td>1</td>\n",
       "      <td>1.812764</td>\n",
       "    </tr>\n",
       "    <tr>\n",
       "      <th>3</th>\n",
       "      <td>1.470571</td>\n",
       "      <td>1.201888</td>\n",
       "      <td>-1.533720</td>\n",
       "      <td>0.499076</td>\n",
       "      <td>1.476981</td>\n",
       "      <td>-0.801835</td>\n",
       "      <td>0.493765</td>\n",
       "      <td>1</td>\n",
       "      <td>1.279025</td>\n",
       "    </tr>\n",
       "    <tr>\n",
       "      <th>4</th>\n",
       "      <td>-0.232793</td>\n",
       "      <td>-0.173435</td>\n",
       "      <td>0.234608</td>\n",
       "      <td>1.133548</td>\n",
       "      <td>-0.365372</td>\n",
       "      <td>-0.747569</td>\n",
       "      <td>-0.776370</td>\n",
       "      <td>1</td>\n",
       "      <td>1.741141</td>\n",
       "    </tr>\n",
       "  </tbody>\n",
       "</table>\n",
       "</div>"
      ],
      "text/plain": [
       "   grossesses   glucose  pression  insuline       imc         K       age  M  \\\n",
       "0   -0.516687 -0.109466  0.173632 -0.912445  0.744119 -0.663899  0.334998  1   \n",
       "1    1.754464  0.434266 -0.497114  2.573585 -0.122674 -0.642846  0.970066  1   \n",
       "2   -0.516687  1.457763 -0.801998 -0.491840 -0.577169  1.418643 -0.696987  1   \n",
       "3    1.470571  1.201888 -1.533720  0.499076  1.476981 -0.801835  0.493765  1   \n",
       "4   -0.232793 -0.173435  0.234608  1.133548 -0.365372 -0.747569 -0.776370  1   \n",
       "\n",
       "          d  \n",
       "0  2.247163  \n",
       "1  3.013387  \n",
       "2  1.812764  \n",
       "3  1.279025  \n",
       "4  1.741141  "
      ]
     },
     "execution_count": 40,
     "metadata": {},
     "output_type": "execute_result"
    }
   ],
   "source": [
    "Tn['d']=[distance(i,0) for i in range(400)]\n",
    "Tn.head()"
   ]
  },
  {
   "cell_type": "code",
   "execution_count": 41,
   "id": "49428e62",
   "metadata": {},
   "outputs": [
    {
     "data": {
      "text/html": [
       "<div>\n",
       "<style scoped>\n",
       "    .dataframe tbody tr th:only-of-type {\n",
       "        vertical-align: middle;\n",
       "    }\n",
       "\n",
       "    .dataframe tbody tr th {\n",
       "        vertical-align: top;\n",
       "    }\n",
       "\n",
       "    .dataframe thead th {\n",
       "        text-align: right;\n",
       "    }\n",
       "</style>\n",
       "<table border=\"1\" class=\"dataframe\">\n",
       "  <thead>\n",
       "    <tr style=\"text-align: right;\">\n",
       "      <th></th>\n",
       "      <th>grossesses</th>\n",
       "      <th>glucose</th>\n",
       "      <th>pression</th>\n",
       "      <th>insuline</th>\n",
       "      <th>imc</th>\n",
       "      <th>K</th>\n",
       "      <th>age</th>\n",
       "      <th>M</th>\n",
       "      <th>d</th>\n",
       "    </tr>\n",
       "  </thead>\n",
       "  <tbody>\n",
       "    <tr>\n",
       "      <th>378</th>\n",
       "      <td>1.186677</td>\n",
       "      <td>1.073951</td>\n",
       "      <td>-0.741021</td>\n",
       "      <td>0.142631</td>\n",
       "      <td>-1.326848</td>\n",
       "      <td>0.182783</td>\n",
       "      <td>-0.617603</td>\n",
       "      <td>0</td>\n",
       "      <td>0.080654</td>\n",
       "    </tr>\n",
       "    <tr>\n",
       "      <th>59</th>\n",
       "      <td>1.186677</td>\n",
       "      <td>-0.333356</td>\n",
       "      <td>0.356562</td>\n",
       "      <td>-0.035591</td>\n",
       "      <td>1.655487</td>\n",
       "      <td>0.264280</td>\n",
       "      <td>-0.776370</td>\n",
       "      <td>1</td>\n",
       "      <td>0.182171</td>\n",
       "    </tr>\n",
       "    <tr>\n",
       "      <th>162</th>\n",
       "      <td>1.186677</td>\n",
       "      <td>-0.173435</td>\n",
       "      <td>-0.375160</td>\n",
       "      <td>-0.078364</td>\n",
       "      <td>1.584368</td>\n",
       "      <td>0.729210</td>\n",
       "      <td>-0.696987</td>\n",
       "      <td>1</td>\n",
       "      <td>0.206738</td>\n",
       "    </tr>\n",
       "    <tr>\n",
       "      <th>181</th>\n",
       "      <td>1.186677</td>\n",
       "      <td>0.178392</td>\n",
       "      <td>-0.375160</td>\n",
       "      <td>0.413529</td>\n",
       "      <td>-1.320341</td>\n",
       "      <td>-0.669197</td>\n",
       "      <td>-0.696987</td>\n",
       "      <td>1</td>\n",
       "      <td>0.285156</td>\n",
       "    </tr>\n",
       "    <tr>\n",
       "      <th>249</th>\n",
       "      <td>1.470571</td>\n",
       "      <td>1.521731</td>\n",
       "      <td>-0.801998</td>\n",
       "      <td>0.206791</td>\n",
       "      <td>-0.332218</td>\n",
       "      <td>0.485075</td>\n",
       "      <td>-0.617603</td>\n",
       "      <td>0</td>\n",
       "      <td>0.305036</td>\n",
       "    </tr>\n",
       "    <tr>\n",
       "      <th>102</th>\n",
       "      <td>0.902783</td>\n",
       "      <td>-0.205419</td>\n",
       "      <td>0.051678</td>\n",
       "      <td>0.021440</td>\n",
       "      <td>-0.029445</td>\n",
       "      <td>0.205000</td>\n",
       "      <td>-0.776370</td>\n",
       "      <td>1</td>\n",
       "      <td>0.313580</td>\n",
       "    </tr>\n",
       "    <tr>\n",
       "      <th>340</th>\n",
       "      <td>0.902783</td>\n",
       "      <td>1.649668</td>\n",
       "      <td>0.539492</td>\n",
       "      <td>0.021440</td>\n",
       "      <td>-1.070732</td>\n",
       "      <td>-0.596192</td>\n",
       "      <td>-0.617603</td>\n",
       "      <td>0</td>\n",
       "      <td>0.313580</td>\n",
       "    </tr>\n",
       "    <tr>\n",
       "      <th>204</th>\n",
       "      <td>1.470571</td>\n",
       "      <td>-1.100978</td>\n",
       "      <td>-0.741021</td>\n",
       "      <td>0.242436</td>\n",
       "      <td>0.754114</td>\n",
       "      <td>-0.487960</td>\n",
       "      <td>-0.776370</td>\n",
       "      <td>0</td>\n",
       "      <td>0.316082</td>\n",
       "    </tr>\n",
       "    <tr>\n",
       "      <th>131</th>\n",
       "      <td>1.470571</td>\n",
       "      <td>0.466251</td>\n",
       "      <td>0.417539</td>\n",
       "      <td>-0.014204</td>\n",
       "      <td>0.658202</td>\n",
       "      <td>0.976806</td>\n",
       "      <td>-0.696987</td>\n",
       "      <td>1</td>\n",
       "      <td>0.317686</td>\n",
       "    </tr>\n",
       "    <tr>\n",
       "      <th>58</th>\n",
       "      <td>1.186677</td>\n",
       "      <td>0.754109</td>\n",
       "      <td>-0.070276</td>\n",
       "      <td>0.456303</td>\n",
       "      <td>0.362206</td>\n",
       "      <td>2.133896</td>\n",
       "      <td>-0.696987</td>\n",
       "      <td>1</td>\n",
       "      <td>0.327929</td>\n",
       "    </tr>\n",
       "    <tr>\n",
       "      <th>80</th>\n",
       "      <td>1.470571</td>\n",
       "      <td>2.001495</td>\n",
       "      <td>0.173632</td>\n",
       "      <td>0.292338</td>\n",
       "      <td>-0.485661</td>\n",
       "      <td>-0.533325</td>\n",
       "      <td>-0.776370</td>\n",
       "      <td>1</td>\n",
       "      <td>0.337316</td>\n",
       "    </tr>\n",
       "  </tbody>\n",
       "</table>\n",
       "</div>"
      ],
      "text/plain": [
       "     grossesses   glucose  pression  insuline       imc         K       age  \\\n",
       "378    1.186677  1.073951 -0.741021  0.142631 -1.326848  0.182783 -0.617603   \n",
       "59     1.186677 -0.333356  0.356562 -0.035591  1.655487  0.264280 -0.776370   \n",
       "162    1.186677 -0.173435 -0.375160 -0.078364  1.584368  0.729210 -0.696987   \n",
       "181    1.186677  0.178392 -0.375160  0.413529 -1.320341 -0.669197 -0.696987   \n",
       "249    1.470571  1.521731 -0.801998  0.206791 -0.332218  0.485075 -0.617603   \n",
       "102    0.902783 -0.205419  0.051678  0.021440 -0.029445  0.205000 -0.776370   \n",
       "340    0.902783  1.649668  0.539492  0.021440 -1.070732 -0.596192 -0.617603   \n",
       "204    1.470571 -1.100978 -0.741021  0.242436  0.754114 -0.487960 -0.776370   \n",
       "131    1.470571  0.466251  0.417539 -0.014204  0.658202  0.976806 -0.696987   \n",
       "58     1.186677  0.754109 -0.070276  0.456303  0.362206  2.133896 -0.696987   \n",
       "80     1.470571  2.001495  0.173632  0.292338 -0.485661 -0.533325 -0.776370   \n",
       "\n",
       "     M         d  \n",
       "378  0  0.080654  \n",
       "59   1  0.182171  \n",
       "162  1  0.206738  \n",
       "181  1  0.285156  \n",
       "249  0  0.305036  \n",
       "102  1  0.313580  \n",
       "340  0  0.313580  \n",
       "204  0  0.316082  \n",
       "131  1  0.317686  \n",
       "58   1  0.327929  \n",
       "80   1  0.337316  "
      ]
     },
     "execution_count": 41,
     "metadata": {},
     "output_type": "execute_result"
    }
   ],
   "source": [
    "Tn.sort_values('d').head(11)"
   ]
  },
  {
   "cell_type": "code",
   "execution_count": 42,
   "id": "d66bcf93",
   "metadata": {},
   "outputs": [
    {
     "data": {
      "text/plain": [
       "7"
      ]
     },
     "execution_count": 42,
     "metadata": {},
     "output_type": "execute_result"
    }
   ],
   "source": [
    "Tn.sort_values('d').head(11).M.sum()"
   ]
  },
  {
   "cell_type": "markdown",
   "id": "5fcfd2ce",
   "metadata": {},
   "source": [
    "# Prediction"
   ]
  },
  {
   "cell_type": "code",
   "execution_count": 43,
   "id": "cfe208c6",
   "metadata": {},
   "outputs": [],
   "source": [
    "def prediction(p):\n",
    "    Tn['d'] = [distance(i, p) for i in range(400)]\n",
    "    nb_malades = Tn.sort_values('d').head(11).M.sum()\n",
    "    if nb_malades >= 6:\n",
    "        return 1\n",
    "    else:\n",
    "        return 0"
   ]
  },
  {
   "cell_type": "code",
   "execution_count": 44,
   "id": "91113f29",
   "metadata": {},
   "outputs": [
    {
     "data": {
      "text/plain": [
       "1"
      ]
     },
     "execution_count": 44,
     "metadata": {},
     "output_type": "execute_result"
    }
   ],
   "source": [
    "prediction(0)"
   ]
  },
  {
   "cell_type": "code",
   "execution_count": 50,
   "id": "6094715b",
   "metadata": {},
   "outputs": [
    {
     "data": {
      "text/html": [
       "<div>\n",
       "<style scoped>\n",
       "    .dataframe tbody tr th:only-of-type {\n",
       "        vertical-align: middle;\n",
       "    }\n",
       "\n",
       "    .dataframe tbody tr th {\n",
       "        vertical-align: top;\n",
       "    }\n",
       "\n",
       "    .dataframe thead th {\n",
       "        text-align: right;\n",
       "    }\n",
       "</style>\n",
       "<table border=\"1\" class=\"dataframe\">\n",
       "  <thead>\n",
       "    <tr style=\"text-align: right;\">\n",
       "      <th></th>\n",
       "      <th>grossesses</th>\n",
       "      <th>glucose</th>\n",
       "      <th>pression</th>\n",
       "      <th>insuline</th>\n",
       "      <th>imc</th>\n",
       "      <th>K</th>\n",
       "      <th>age</th>\n",
       "      <th>M</th>\n",
       "      <th>T</th>\n",
       "    </tr>\n",
       "  </thead>\n",
       "  <tbody>\n",
       "    <tr>\n",
       "      <th>0</th>\n",
       "      <td>1.186677</td>\n",
       "      <td>-0.013513</td>\n",
       "      <td>-0.253206</td>\n",
       "      <td>0.128374</td>\n",
       "      <td>-0.706641</td>\n",
       "      <td>-0.711474</td>\n",
       "      <td>-0.696987</td>\n",
       "      <td>1</td>\n",
       "      <td>1</td>\n",
       "    </tr>\n",
       "    <tr>\n",
       "      <th>1</th>\n",
       "      <td>-1.084475</td>\n",
       "      <td>-1.132962</td>\n",
       "      <td>0.722423</td>\n",
       "      <td>0.691556</td>\n",
       "      <td>-0.231660</td>\n",
       "      <td>0.965497</td>\n",
       "      <td>1.049449</td>\n",
       "      <td>1</td>\n",
       "      <td>1</td>\n",
       "    </tr>\n",
       "    <tr>\n",
       "      <th>2</th>\n",
       "      <td>-0.516687</td>\n",
       "      <td>2.097448</td>\n",
       "      <td>0.051678</td>\n",
       "      <td>3.243701</td>\n",
       "      <td>-0.076218</td>\n",
       "      <td>1.584572</td>\n",
       "      <td>2.319584</td>\n",
       "      <td>1</td>\n",
       "      <td>1</td>\n",
       "    </tr>\n",
       "    <tr>\n",
       "      <th>3</th>\n",
       "      <td>-0.232793</td>\n",
       "      <td>-0.045498</td>\n",
       "      <td>0.112655</td>\n",
       "      <td>0.342240</td>\n",
       "      <td>-0.500231</td>\n",
       "      <td>-0.768260</td>\n",
       "      <td>-0.776370</td>\n",
       "      <td>1</td>\n",
       "      <td>1</td>\n",
       "    </tr>\n",
       "    <tr>\n",
       "      <th>4</th>\n",
       "      <td>1.470571</td>\n",
       "      <td>0.914030</td>\n",
       "      <td>-0.619067</td>\n",
       "      <td>-0.007075</td>\n",
       "      <td>0.652177</td>\n",
       "      <td>0.172542</td>\n",
       "      <td>-0.696987</td>\n",
       "      <td>1</td>\n",
       "      <td>1</td>\n",
       "    </tr>\n",
       "  </tbody>\n",
       "</table>\n",
       "</div>"
      ],
      "text/plain": [
       "   grossesses   glucose  pression  insuline       imc         K       age  M  \\\n",
       "0    1.186677 -0.013513 -0.253206  0.128374 -0.706641 -0.711474 -0.696987  1   \n",
       "1   -1.084475 -1.132962  0.722423  0.691556 -0.231660  0.965497  1.049449  1   \n",
       "2   -0.516687  2.097448  0.051678  3.243701 -0.076218  1.584572  2.319584  1   \n",
       "3   -0.232793 -0.045498  0.112655  0.342240 -0.500231 -0.768260 -0.776370  1   \n",
       "4    1.470571  0.914030 -0.619067 -0.007075  0.652177  0.172542 -0.696987  1   \n",
       "\n",
       "   T  \n",
       "0  1  \n",
       "1  1  \n",
       "2  1  \n",
       "3  1  \n",
       "4  1  "
      ]
     },
     "execution_count": 50,
     "metadata": {},
     "output_type": "execute_result"
    }
   ],
   "source": [
    "Pn['M'] = P['M']\n",
    "Pn.head()"
   ]
  },
  {
   "cell_type": "code",
   "execution_count": 56,
   "id": "61681ea4",
   "metadata": {},
   "outputs": [
    {
     "data": {
      "text/html": [
       "<div>\n",
       "<style scoped>\n",
       "    .dataframe tbody tr th:only-of-type {\n",
       "        vertical-align: middle;\n",
       "    }\n",
       "\n",
       "    .dataframe tbody tr th {\n",
       "        vertical-align: top;\n",
       "    }\n",
       "\n",
       "    .dataframe thead th {\n",
       "        text-align: right;\n",
       "    }\n",
       "</style>\n",
       "<table border=\"1\" class=\"dataframe\">\n",
       "  <thead>\n",
       "    <tr style=\"text-align: right;\">\n",
       "      <th></th>\n",
       "      <th>grossesses</th>\n",
       "      <th>glucose</th>\n",
       "      <th>pression</th>\n",
       "      <th>insuline</th>\n",
       "      <th>imc</th>\n",
       "      <th>K</th>\n",
       "      <th>age</th>\n",
       "      <th>M</th>\n",
       "      <th>T</th>\n",
       "    </tr>\n",
       "  </thead>\n",
       "  <tbody>\n",
       "    <tr>\n",
       "      <th>0</th>\n",
       "      <td>1.186677</td>\n",
       "      <td>-0.013513</td>\n",
       "      <td>-0.253206</td>\n",
       "      <td>0.128374</td>\n",
       "      <td>-0.706641</td>\n",
       "      <td>-0.711474</td>\n",
       "      <td>-0.696987</td>\n",
       "      <td>1</td>\n",
       "      <td>1</td>\n",
       "    </tr>\n",
       "    <tr>\n",
       "      <th>1</th>\n",
       "      <td>-1.084475</td>\n",
       "      <td>-1.132962</td>\n",
       "      <td>0.722423</td>\n",
       "      <td>0.691556</td>\n",
       "      <td>-0.231660</td>\n",
       "      <td>0.965497</td>\n",
       "      <td>1.049449</td>\n",
       "      <td>1</td>\n",
       "      <td>1</td>\n",
       "    </tr>\n",
       "    <tr>\n",
       "      <th>2</th>\n",
       "      <td>-0.516687</td>\n",
       "      <td>2.097448</td>\n",
       "      <td>0.051678</td>\n",
       "      <td>3.243701</td>\n",
       "      <td>-0.076218</td>\n",
       "      <td>1.584572</td>\n",
       "      <td>2.319584</td>\n",
       "      <td>1</td>\n",
       "      <td>1</td>\n",
       "    </tr>\n",
       "    <tr>\n",
       "      <th>3</th>\n",
       "      <td>-0.232793</td>\n",
       "      <td>-0.045498</td>\n",
       "      <td>0.112655</td>\n",
       "      <td>0.342240</td>\n",
       "      <td>-0.500231</td>\n",
       "      <td>-0.768260</td>\n",
       "      <td>-0.776370</td>\n",
       "      <td>1</td>\n",
       "      <td>1</td>\n",
       "    </tr>\n",
       "    <tr>\n",
       "      <th>4</th>\n",
       "      <td>1.470571</td>\n",
       "      <td>0.914030</td>\n",
       "      <td>-0.619067</td>\n",
       "      <td>-0.007075</td>\n",
       "      <td>0.652177</td>\n",
       "      <td>0.172542</td>\n",
       "      <td>-0.696987</td>\n",
       "      <td>1</td>\n",
       "      <td>1</td>\n",
       "    </tr>\n",
       "  </tbody>\n",
       "</table>\n",
       "</div>"
      ],
      "text/plain": [
       "   grossesses   glucose  pression  insuline       imc         K       age  M  \\\n",
       "0    1.186677 -0.013513 -0.253206  0.128374 -0.706641 -0.711474 -0.696987  1   \n",
       "1   -1.084475 -1.132962  0.722423  0.691556 -0.231660  0.965497  1.049449  1   \n",
       "2   -0.516687  2.097448  0.051678  3.243701 -0.076218  1.584572  2.319584  1   \n",
       "3   -0.232793 -0.045498  0.112655  0.342240 -0.500231 -0.768260 -0.776370  1   \n",
       "4    1.470571  0.914030 -0.619067 -0.007075  0.652177  0.172542 -0.696987  1   \n",
       "\n",
       "   T  \n",
       "0  1  \n",
       "1  1  \n",
       "2  1  \n",
       "3  1  \n",
       "4  1  "
      ]
     },
     "execution_count": 56,
     "metadata": {},
     "output_type": "execute_result"
    }
   ],
   "source": [
    "Pn['T'] = [prediction(p) for p in range(100)]\n",
    "Pn.head()"
   ]
  },
  {
   "cell_type": "code",
   "execution_count": null,
   "id": "1f1f3c1f",
   "metadata": {},
   "outputs": [],
   "source": []
  },
  {
   "cell_type": "code",
   "execution_count": 52,
   "id": "a6e0493f",
   "metadata": {},
   "outputs": [
    {
     "data": {
      "text/html": [
       "<div>\n",
       "<style scoped>\n",
       "    .dataframe tbody tr th:only-of-type {\n",
       "        vertical-align: middle;\n",
       "    }\n",
       "\n",
       "    .dataframe tbody tr th {\n",
       "        vertical-align: top;\n",
       "    }\n",
       "\n",
       "    .dataframe thead th {\n",
       "        text-align: right;\n",
       "    }\n",
       "</style>\n",
       "<table border=\"1\" class=\"dataframe\">\n",
       "  <thead>\n",
       "    <tr style=\"text-align: right;\">\n",
       "      <th>T</th>\n",
       "      <th>0</th>\n",
       "      <th>1</th>\n",
       "      <th>All</th>\n",
       "    </tr>\n",
       "    <tr>\n",
       "      <th>M</th>\n",
       "      <th></th>\n",
       "      <th></th>\n",
       "      <th></th>\n",
       "    </tr>\n",
       "  </thead>\n",
       "  <tbody>\n",
       "    <tr>\n",
       "      <th>0</th>\n",
       "      <td>44</td>\n",
       "      <td>6</td>\n",
       "      <td>50</td>\n",
       "    </tr>\n",
       "    <tr>\n",
       "      <th>1</th>\n",
       "      <td>9</td>\n",
       "      <td>41</td>\n",
       "      <td>50</td>\n",
       "    </tr>\n",
       "    <tr>\n",
       "      <th>All</th>\n",
       "      <td>53</td>\n",
       "      <td>47</td>\n",
       "      <td>100</td>\n",
       "    </tr>\n",
       "  </tbody>\n",
       "</table>\n",
       "</div>"
      ],
      "text/plain": [
       "T     0   1  All\n",
       "M               \n",
       "0    44   6   50\n",
       "1     9  41   50\n",
       "All  53  47  100"
      ]
     },
     "execution_count": 52,
     "metadata": {},
     "output_type": "execute_result"
    }
   ],
   "source": [
    "E = pd.crosstab(Pn['M'], Pn['T'], margins=True)\n",
    "E"
   ]
  },
  {
   "cell_type": "code",
   "execution_count": 53,
   "id": "9df54cee",
   "metadata": {},
   "outputs": [
    {
     "data": {
      "text/plain": [
       "0.85"
      ]
     },
     "execution_count": 53,
     "metadata": {},
     "output_type": "execute_result"
    }
   ],
   "source": [
    "(E.loc[0,0] + E.loc[1,1]) / 100"
   ]
  },
  {
   "cell_type": "code",
   "execution_count": 54,
   "id": "7fc225ef",
   "metadata": {},
   "outputs": [
    {
     "data": {
      "text/plain": [
       "0.88"
      ]
     },
     "execution_count": 54,
     "metadata": {},
     "output_type": "execute_result"
    }
   ],
   "source": [
    "E.loc[0,0] / 50"
   ]
  },
  {
   "cell_type": "code",
   "execution_count": 55,
   "id": "35192bf2",
   "metadata": {},
   "outputs": [
    {
     "data": {
      "text/plain": [
       "0.82"
      ]
     },
     "execution_count": 55,
     "metadata": {},
     "output_type": "execute_result"
    }
   ],
   "source": [
    "E.loc[1,1] / 50"
   ]
  },
  {
   "cell_type": "code",
   "execution_count": 58,
   "id": "dbf8c55a",
   "metadata": {},
   "outputs": [
    {
     "data": {
      "text/plain": [
       "Text(0, 0.5, 'Predictive Value')"
      ]
     },
     "execution_count": 58,
     "metadata": {},
     "output_type": "execute_result"
    },
    {
     "data": {
      "image/png": "[encoded data removed]",
      "text/plain": [
       "<Figure size 640x480 with 1 Axes>"
      ]
     },
     "metadata": {},
     "output_type": "display_data"
    }
   ],
   "source": [
    "Pr = [k/100 for k in range(101)]\n",
    "L = [0.82*p / (0.12 + 0.7*p) for p in Pr]\n",
    "\n",
    "pl.plot(Pr, L, color='red')\n",
    "pl.xlabel('Prevalence', fontsize=14)\n",
    "pl.ylabel('Predictive Value', fontsize=14)"
   ]
  },
  {
   "cell_type": "code",
   "execution_count": null,
   "id": "804e7e31",
   "metadata": {},
   "outputs": [],
   "source": []
  },
  {
   "cell_type": "code",
   "execution_count": null,
   "id": "3ff11588",
   "metadata": {},
   "outputs": [],
   "source": []
  },
  {
   "cell_type": "code",
   "execution_count": null,
   "id": "6b8c500e",
   "metadata": {},
   "outputs": [],
   "source": []
  }
 ],
 "metadata": {
  "kernelspec": {
   "display_name": "Python [conda env:jupe3] *",
   "language": "python",
   "name": "conda-env-jupe3-py"
  },
  "language_info": {
   "codemirror_mode": {
    "name": "ipython",
    "version": 3
   },
   "file_extension": ".py",
   "mimetype": "text/x-python",
   "name": "python",
   "nbconvert_exporter": "python",
   "pygments_lexer": "ipython3",
   "version": "3.9.16"
  }
 },
 "nbformat": 4,
 "nbformat_minor": 5
}
